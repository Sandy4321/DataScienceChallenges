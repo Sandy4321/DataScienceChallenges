{
 "cells": [
  {
   "cell_type": "markdown",
   "metadata": {},
   "source": [
    "# Data Science Challenge\n",
    "\n"
   ]
  },
  {
   "cell_type": "markdown",
   "metadata": {},
   "source": [
    "Marvel universe graph: [link](http://bioinfo.uib.es/~joemiro/marvel/porgat.txt)\n",
    "Graph of all the characters and comic books in which they appeared.\n",
    "* Which character has the most interactions with others ?\n",
    "* Which commics contains the most characters ?\n",
    "* Which character is the most recurrent ?\n",
    "* Which character associations are the most frequent ? and the least frequent ? \n",
    "\n",
    "[marvel wikia dumps](http://s3.amazonaws.com/wikia_xml_dumps/e/en/enmarveldatabase_pages_current.xml.7z)\n",
    "Some useful info about all marvel characters. Is there any interesting infos to complement the Marvel Universe graph?"
   ]
  },
  {
   "cell_type": "code",
   "execution_count": null,
   "metadata": {
    "collapsed": true
   },
   "outputs": [],
   "source": []
  }
 ],
 "metadata": {
  "kernelspec": {
   "display_name": "Python 2",
   "language": "python",
   "name": "python2"
  },
  "language_info": {
   "codemirror_mode": {
    "name": "ipython",
    "version": 2
   },
   "file_extension": ".py",
   "mimetype": "text/x-python",
   "name": "python",
   "nbconvert_exporter": "python",
   "pygments_lexer": "ipython2",
   "version": "2.7.11"
  }
 },
 "nbformat": 4,
 "nbformat_minor": 0
}
