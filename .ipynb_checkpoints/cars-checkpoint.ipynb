{
 "cells": [
  {
   "cell_type": "markdown",
   "metadata": {},
   "source": [
    "# Data Science Challenge 2\n",
    "\n",
    "Get the carmakers selling cars in France for each year using [this API](http://www.carqueryapi.com/api/0.3/?callback=?&cmd=getMakes&year=1941&sold_in_fr=1)"
   ]
  },
  {
   "cell_type": "code",
   "execution_count": 47,
   "metadata": {
    "collapsed": false
   },
   "outputs": [],
   "source": [
    "import urllib, json\n",
    "import requests\n",
    "for i in range(1940,2015,5):\n",
    "        year = i\n",
    "        url = \"http://www.carqueryapi.com/api/0.3/?callback=?&cmd=getMakes&year={}&sold_in_fr=1\".format(year)\n",
    "        response = urllib.urlopen(url)\n",
    "        data = [line[2:-2] for line in response.readlines() if line != '\\n']\n",
    "        cars[year] = json.loads(data[0])\n",
    "        "
   ]
  },
  {
   "cell_type": "code",
   "execution_count": 53,
   "metadata": {
    "collapsed": false
   },
   "outputs": [],
   "source": [
    "#save the object\n",
    "import pickle\n",
    "with open('cars_dict.pkl', 'wb') as f:\n",
    "        pickle.dump(cars, f, pickle.HIGHEST_PROTOCOL)"
   ]
  },
  {
   "cell_type": "code",
   "execution_count": 62,
   "metadata": {
    "collapsed": false
   },
   "outputs": [
    {
     "data": {
      "text/plain": [
       "dict_values([[{u'make_id': u'alfa-romeo', u'make_is_common': u'1', u'make_country': u'Italy', u'make_display': u'Alfa Romeo'}, {u'make_id': u'buick', u'make_is_common': u'1', u'make_country': u'USA', u'make_display': u'Buick'}]])"
      ]
     },
     "execution_count": 62,
     "metadata": {},
     "output_type": "execute_result"
    }
   ],
   "source": [
    "cars[1940].viewvalues()"
   ]
  },
  {
   "cell_type": "code",
   "execution_count": null,
   "metadata": {
    "collapsed": true
   },
   "outputs": [],
   "source": []
  }
 ],
 "metadata": {
  "kernelspec": {
   "display_name": "Python 2",
   "language": "python",
   "name": "python2"
  },
  "language_info": {
   "codemirror_mode": {
    "name": "ipython",
    "version": 2
   },
   "file_extension": ".py",
   "mimetype": "text/x-python",
   "name": "python",
   "nbconvert_exporter": "python",
   "pygments_lexer": "ipython2",
   "version": "2.7.11"
  }
 },
 "nbformat": 4,
 "nbformat_minor": 0
}
