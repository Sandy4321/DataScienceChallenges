{
 "cells": [
  {
   "cell_type": "markdown",
   "metadata": {},
   "source": [
    "# Vente de voitures\n",
    "\n",
    "L'industrie automobile est un secteur d'activité economique traditionellement fort en France. La France se place au troisième rang des pays européens pour le nombre d'immatriculations de voitures neuves et plus de la moitié de ces immatriculations concernent des voitures de marque francaises (PSA Peugeot Citroen & Renault).\n",
    "Curieusement, les ventes de véhicules sont corrélés à la consommation privée et sont a ce titre un bon indicateur de l'acivitée économique du pays."
   ]
  },
  {
   "cell_type": "markdown",
   "metadata": {},
   "source": [
    "## 2. Les différents modèles de voitures vendues en France\n",
    "\n",
    "A partir de la liste des marques vendue en France (29), nous avons récupéré (scraping) les caractéristiques techniques de chaque modèle de voitures produites par marque. Ces données sont disponibles sur [cars-data](http://www.cars-data.com/fr/). \n",
    "[Scrapy](https://scrapy.org/) est un framework Python qui permet de développer des web crawlers. Nous avons développé un crawler pour le site [cars-data](http://www.cars-data.com/fr/) qui a servi à télécharger l'ensemble des modèles de voitures vendues en France (44970).\n",
    "Ces données semi-structurées ont été stockées au format [json](https://fr.wikipedia.org/wiki/JavaScript_Object_Notation): `carsdata.json`"
   ]
  },
  {
   "cell_type": "code",
   "execution_count": 1,
   "metadata": {
    "collapsed": false
   },
   "outputs": [],
   "source": [
    "import pandas as pd\n",
    "#cars_data = pd.read_json(\"C:\\\\Users\\\\girardotm\\\\Documents\\\\DataScienceChallenges\\\\carsdata.json\")\n",
    "cars_data = pd.read_json(\"E:\\\\notebooks\\\\cars-data\\\\carsdata\\\\carsdata.json\")"
   ]
  },
  {
   "cell_type": "code",
   "execution_count": 2,
   "metadata": {
    "collapsed": false
   },
   "outputs": [
    {
     "data": {
      "text/html": [
       "<div>\n",
       "<table border=\"1\" class=\"dataframe\">\n",
       "  <thead>\n",
       "    <tr style=\"text-align: right;\">\n",
       "      <th></th>\n",
       "      <th>ABS</th>\n",
       "      <th>accoudoir_central</th>\n",
       "      <th>airbag_conducteur</th>\n",
       "      <th>airbag_lateraux</th>\n",
       "      <th>airbag_passager</th>\n",
       "      <th>airbag_tete_rideau</th>\n",
       "      <th>alesage_course_piston</th>\n",
       "      <th>allumage_auto_feux</th>\n",
       "      <th>antipatinage</th>\n",
       "      <th>appuis_tete_arriere</th>\n",
       "      <th>...</th>\n",
       "      <th>vitesse_4eme</th>\n",
       "      <th>vitesse_max</th>\n",
       "      <th>vitres_electriques</th>\n",
       "      <th>vitres_teintees</th>\n",
       "      <th>voie_arriere</th>\n",
       "      <th>voie_avant</th>\n",
       "      <th>volant_cuir</th>\n",
       "      <th>volant_reglable</th>\n",
       "      <th>volume_coffre</th>\n",
       "      <th>zero_100</th>\n",
       "    </tr>\n",
       "  </thead>\n",
       "  <tbody>\n",
       "    <tr>\n",
       "      <th>0</th>\n",
       "      <td>YES</td>\n",
       "      <td>NO</td>\n",
       "      <td>YES</td>\n",
       "      <td>YES(front)</td>\n",
       "      <td>YES</td>\n",
       "      <td>YES(front)</td>\n",
       "      <td>86,0 x 86,0 mm</td>\n",
       "      <td>NO</td>\n",
       "      <td>YES</td>\n",
       "      <td>YES</td>\n",
       "      <td>...</td>\n",
       "      <td>0,98:1</td>\n",
       "      <td>220 km/h</td>\n",
       "      <td>YES(front &amp; rear)</td>\n",
       "      <td>YES</td>\n",
       "      <td>1479 mm</td>\n",
       "      <td>1462 mm</td>\n",
       "      <td>YES</td>\n",
       "      <td>YES(height &amp; depth)</td>\n",
       "      <td>150-1700 l</td>\n",
       "      <td>8,2 s</td>\n",
       "    </tr>\n",
       "    <tr>\n",
       "      <th>1</th>\n",
       "      <td>YES</td>\n",
       "      <td>NO</td>\n",
       "      <td>YES</td>\n",
       "      <td>YES(front)</td>\n",
       "      <td>YES</td>\n",
       "      <td>NO</td>\n",
       "      <td>72,2 x 73,1 mm</td>\n",
       "      <td>NO</td>\n",
       "      <td>YES</td>\n",
       "      <td>YES</td>\n",
       "      <td>...</td>\n",
       "      <td>0,90:1</td>\n",
       "      <td>175 km/h</td>\n",
       "      <td>YES(front)</td>\n",
       "      <td>YES</td>\n",
       "      <td>1476 mm</td>\n",
       "      <td>1493 mm</td>\n",
       "      <td>€ 295</td>\n",
       "      <td>YES</td>\n",
       "      <td>320-1200 l</td>\n",
       "      <td>11,1 s</td>\n",
       "    </tr>\n",
       "    <tr>\n",
       "      <th>2</th>\n",
       "      <td>YES</td>\n",
       "      <td>YES(front &amp; rear)</td>\n",
       "      <td>YES</td>\n",
       "      <td>YES(front)</td>\n",
       "      <td>YES</td>\n",
       "      <td>NO</td>\n",
       "      <td>89,9 x 100,0 mm</td>\n",
       "      <td>NO</td>\n",
       "      <td>YES (since 4/2005)</td>\n",
       "      <td>YES</td>\n",
       "      <td>...</td>\n",
       "      <td>0,69:1</td>\n",
       "      <td>176 km/h</td>\n",
       "      <td>YES(front &amp; rear)</td>\n",
       "      <td>YES</td>\n",
       "      <td>1530 mm</td>\n",
       "      <td>1530 mm</td>\n",
       "      <td>YES</td>\n",
       "      <td>YES</td>\n",
       "      <td>410-1841 l</td>\n",
       "      <td>11,1 s</td>\n",
       "    </tr>\n",
       "    <tr>\n",
       "      <th>3</th>\n",
       "      <td>YES</td>\n",
       "      <td>NO</td>\n",
       "      <td>YES</td>\n",
       "      <td>YES(front)</td>\n",
       "      <td>YES</td>\n",
       "      <td>NO</td>\n",
       "      <td>NaN</td>\n",
       "      <td>YES</td>\n",
       "      <td>YES</td>\n",
       "      <td>YES</td>\n",
       "      <td>...</td>\n",
       "      <td>NaN</td>\n",
       "      <td>135 km/h</td>\n",
       "      <td>YES(front &amp; rear)</td>\n",
       "      <td>YES</td>\n",
       "      <td>1510 mm</td>\n",
       "      <td>1511 mm</td>\n",
       "      <td>YES</td>\n",
       "      <td>YES(height &amp; depth)</td>\n",
       "      <td>338-1225 l</td>\n",
       "      <td>13,5 s</td>\n",
       "    </tr>\n",
       "    <tr>\n",
       "      <th>4</th>\n",
       "      <td>YES</td>\n",
       "      <td>YES(front)</td>\n",
       "      <td>YES</td>\n",
       "      <td>YES(front)</td>\n",
       "      <td>YES</td>\n",
       "      <td>YES(front &amp; rear)</td>\n",
       "      <td>77,0 x 85,44 mm</td>\n",
       "      <td>YES</td>\n",
       "      <td>YES</td>\n",
       "      <td>YES</td>\n",
       "      <td>...</td>\n",
       "      <td>1,39:1</td>\n",
       "      <td>180 km/h</td>\n",
       "      <td>YES(front &amp; rear)</td>\n",
       "      <td>YES</td>\n",
       "      <td>1551 mm</td>\n",
       "      <td>1547 mm</td>\n",
       "      <td>YES</td>\n",
       "      <td>YES(height &amp; depth)</td>\n",
       "      <td>440-1486 l</td>\n",
       "      <td>11,5 s</td>\n",
       "    </tr>\n",
       "  </tbody>\n",
       "</table>\n",
       "<p>5 rows × 132 columns</p>\n",
       "</div>"
      ],
      "text/plain": [
       "   ABS  accoudoir_central airbag_conducteur airbag_lateraux airbag_passager  \\\n",
       "0  YES                 NO               YES      YES(front)             YES   \n",
       "1  YES                 NO               YES      YES(front)             YES   \n",
       "2  YES  YES(front & rear)               YES      YES(front)             YES   \n",
       "3  YES                 NO               YES      YES(front)             YES   \n",
       "4  YES         YES(front)               YES      YES(front)             YES   \n",
       "\n",
       "  airbag_tete_rideau alesage_course_piston allumage_auto_feux  \\\n",
       "0         YES(front)        86,0 x 86,0 mm                 NO   \n",
       "1                 NO        72,2 x 73,1 mm                 NO   \n",
       "2                 NO       89,9 x 100,0 mm                 NO   \n",
       "3                 NO                   NaN                YES   \n",
       "4  YES(front & rear)       77,0 x 85,44 mm                YES   \n",
       "\n",
       "         antipatinage appuis_tete_arriere   ...    vitesse_4eme vitesse_max  \\\n",
       "0                 YES                 YES   ...          0,98:1    220 km/h   \n",
       "1                 YES                 YES   ...          0,90:1    175 km/h   \n",
       "2  YES (since 4/2005)                 YES   ...          0,69:1    176 km/h   \n",
       "3                 YES                 YES   ...             NaN    135 km/h   \n",
       "4                 YES                 YES   ...          1,39:1    180 km/h   \n",
       "\n",
       "  vitres_electriques vitres_teintees voie_arriere voie_avant volant_cuir  \\\n",
       "0  YES(front & rear)             YES      1479 mm    1462 mm         YES   \n",
       "1         YES(front)             YES      1476 mm    1493 mm       € 295   \n",
       "2  YES(front & rear)             YES      1530 mm    1530 mm         YES   \n",
       "3  YES(front & rear)             YES      1510 mm    1511 mm         YES   \n",
       "4  YES(front & rear)             YES      1551 mm    1547 mm         YES   \n",
       "\n",
       "       volant_reglable volume_coffre zero_100  \n",
       "0  YES(height & depth)    150-1700 l    8,2 s  \n",
       "1                  YES    320-1200 l   11,1 s  \n",
       "2                  YES    410-1841 l   11,1 s  \n",
       "3  YES(height & depth)    338-1225 l   13,5 s  \n",
       "4  YES(height & depth)    440-1486 l   11,5 s  \n",
       "\n",
       "[5 rows x 132 columns]"
      ]
     },
     "execution_count": 2,
     "metadata": {},
     "output_type": "execute_result"
    }
   ],
   "source": [
    "cars_data.head()"
   ]
  },
  {
   "cell_type": "code",
   "execution_count": 3,
   "metadata": {
    "collapsed": false
   },
   "outputs": [
    {
     "data": {
      "text/plain": [
       "[u'ABS',\n",
       " u'accoudoir_central',\n",
       " u'airbag_conducteur',\n",
       " u'airbag_lateraux',\n",
       " u'airbag_passager',\n",
       " u'airbag_tete_rideau',\n",
       " u'alesage_course_piston',\n",
       " u'allumage_auto_feux',\n",
       " u'antipatinage',\n",
       " u'appuis_tete_arriere',\n",
       " u'assistant_freinage',\n",
       " u'banquette_arriere_rabattable',\n",
       " u'blocage_differentiel',\n",
       " u'bluetooth',\n",
       " u'capacite_charge_max',\n",
       " u'capacite_moteur',\n",
       " u'capteur_stationnement',\n",
       " u'capteur_temp_liquide_refroidissement',\n",
       " u'carburant',\n",
       " u'catalyseur',\n",
       " u'clim_bizone',\n",
       " u'climatisation',\n",
       " u'commande_audio_volant',\n",
       " u'compteur_jours',\n",
       " u'conso_extra_urbaine',\n",
       " u'conso_extra_urbaine_km',\n",
       " u'conso_mixte',\n",
       " u'conso_mixte_km',\n",
       " u'conso_urbaine',\n",
       " u'conso_urbaine_km',\n",
       " u'couple_max',\n",
       " u'couple_max_tr_min',\n",
       " u'cylindres',\n",
       " u'date_fin',\n",
       " u'date_sortie',\n",
       " u'dehors_thermometre',\n",
       " u'direction_assistee',\n",
       " u'eclairage_miroir_maquillage',\n",
       " u'eclairage_tdb_reglable',\n",
       " u'electro_stabilisateur_prog',\n",
       " u'emission_co2',\n",
       " u'empattement',\n",
       " u'entretien',\n",
       " u'essai_collision',\n",
       " u'essuie_glace_auto',\n",
       " u'fermeture_portes_centrallisee',\n",
       " u'feux_anti_brouillard',\n",
       " u'feux_circulation_diurnes',\n",
       " u'freins_arriere',\n",
       " u'freins_avant',\n",
       " u'garantie_carroserie',\n",
       " u'garantie_generale',\n",
       " u'hauteur',\n",
       " u'jantes_alliage',\n",
       " u'largeur',\n",
       " u'lave_phares',\n",
       " u'liseuse',\n",
       " u'longueur',\n",
       " u'longueur_min_max',\n",
       " u'marche_arriere',\n",
       " u'masse_admissible_max',\n",
       " u'masse_max_frein_avec_remorque',\n",
       " u'masse_max_frein_sans_remorque',\n",
       " u'masse_vide',\n",
       " u'max_boule_presse',\n",
       " u'max_charge_toit',\n",
       " u'niveau_energie',\n",
       " u'nom',\n",
       " u'nombre_portes',\n",
       " u'nombre_sieges',\n",
       " u'nouveau_prix',\n",
       " u'ordinateur_bord',\n",
       " u'panorama',\n",
       " u'pare_chocs_peints',\n",
       " u'peinture_metalisee',\n",
       " u'phares_xenon',\n",
       " u'pneus',\n",
       " u'puissance_max',\n",
       " u'puissance_max_tr_min',\n",
       " u'rails_toit',\n",
       " u'rayon_virage',\n",
       " u'reg_electrique_sieges',\n",
       " u'reg_vitesse',\n",
       " u'repartiteur_elect_freinage',\n",
       " u'reservoir_carburant',\n",
       " u'retros_clignotant',\n",
       " u'retros_electriques',\n",
       " u'retros_electrochrome',\n",
       " u'retros_ext_rabatable',\n",
       " u'retros_gradation_auto',\n",
       " u'roues_motrices',\n",
       " u'siege_chauffant',\n",
       " u'siege_cuir',\n",
       " u'siege_reglable_hauteur',\n",
       " u'siege_reglage_lombaire',\n",
       " u'siege_sport',\n",
       " u'soupapes_par_cylindre',\n",
       " u'stabilisatrice_arriere',\n",
       " u'stabilisatrice_avant',\n",
       " u'suspension_arriere',\n",
       " u'suspension_avant',\n",
       " u'sys_alarme',\n",
       " u'sys_audio',\n",
       " u'sys_carburant',\n",
       " u'sys_entrainement',\n",
       " u'sys_navigation',\n",
       " u'sys_stop_start',\n",
       " u'tachymetre',\n",
       " u'taux_compression',\n",
       " u'teledeverrouillage',\n",
       " u'toit_ouvrant_glissant',\n",
       " u'tr_min_120_kmh',\n",
       " u'transmission',\n",
       " u'transmission_finale',\n",
       " u'turbo',\n",
       " u'type_carrosserie',\n",
       " u'type_moteur',\n",
       " u'url',\n",
       " u'verre_intim_arriere',\n",
       " u'vitesse_1ere',\n",
       " u'vitesse_2eme',\n",
       " u'vitesse_3eme',\n",
       " u'vitesse_4eme',\n",
       " u'vitesse_max',\n",
       " u'vitres_electriques',\n",
       " u'vitres_teintees',\n",
       " u'voie_arriere',\n",
       " u'voie_avant',\n",
       " u'volant_cuir',\n",
       " u'volant_reglable',\n",
       " u'volume_coffre',\n",
       " u'zero_100']"
      ]
     },
     "execution_count": 3,
     "metadata": {},
     "output_type": "execute_result"
    }
   ],
   "source": [
    "cars_data.columns.values.tolist()"
   ]
  },
  {
   "cell_type": "code",
   "execution_count": 4,
   "metadata": {
    "collapsed": false
   },
   "outputs": [],
   "source": [
    "df = pd.DataFrame()\n",
    "#update pandas to 0.19 to get int instead of float results\n",
    "df['NO_ABS'] = pd.get_dummies(cars_data.ABS, prefix='ABS').iloc[:,0]"
   ]
  },
  {
   "cell_type": "code",
   "execution_count": 5,
   "metadata": {
    "collapsed": false
   },
   "outputs": [],
   "source": [
    "df['NO_accoudoir_central'] = pd.get_dummies(cars_data.accoudoir_central).iloc[:,0]"
   ]
  },
  {
   "cell_type": "code",
   "execution_count": 6,
   "metadata": {
    "collapsed": false
   },
   "outputs": [],
   "source": [
    "df['NO_airbag_conducteur'] = pd.get_dummies(cars_data.airbag_conducteur).iloc[:,0]\n",
    "df['NO_airbag_lateraux'] = pd.get_dummies(cars_data.airbag_lateraux).iloc[:,0]\n",
    "df['NO_airbag_passager'] = pd.get_dummies(cars_data.airbag_passager).iloc[:,0]\n",
    "df['NO_airbag_tete_rideau'] = pd.get_dummies(cars_data.airbag_tete_rideau).iloc[:,0]"
   ]
  },
  {
   "cell_type": "code",
   "execution_count": 7,
   "metadata": {
    "collapsed": false
   },
   "outputs": [
    {
     "data": {
      "text/plain": [
       "0      86,0 x 86,0 mm\n",
       "1      72,2 x 73,1 mm\n",
       "2     89,9 x 100,0 mm\n",
       "3                 NaN\n",
       "4     77,0 x 85,44 mm\n",
       "5      94,0 x 89,0 mm\n",
       "6      82,5 x 92,8 mm\n",
       "7      92,5 x 93,0 mm\n",
       "8      88,9 x 80,0 mm\n",
       "9      77,0 x 85,8 mm\n",
       "10     94,0 x 79,5 mm\n",
       "11     66,5 x 67,0 mm\n",
       "12     93,0 x 85,8 mm\n",
       "13     83,0 x 88,0 mm\n",
       "14     81,0 x 80,5 mm\n",
       "15                NaN\n",
       "16     80,5 x 67,4 mm\n",
       "17     80,5 x 63,9 mm\n",
       "18     82,6 x 79,2 mm\n",
       "19     86,4 x 63,9 mm\n",
       "Name: alesage_course_piston, dtype: object"
      ]
     },
     "execution_count": 7,
     "metadata": {},
     "output_type": "execute_result"
    }
   ],
   "source": [
    "cars_data.alesage_course_piston.head(20)"
   ]
  },
  {
   "cell_type": "code",
   "execution_count": 8,
   "metadata": {
    "collapsed": false
   },
   "outputs": [],
   "source": [
    "al_course = cars_data.alesage_course_piston.str.replace(',','.').str.replace(' mm','').str.split(' x ')"
   ]
  },
  {
   "cell_type": "code",
   "execution_count": 148,
   "metadata": {
    "collapsed": false
   },
   "outputs": [],
   "source": [
    "df['alesage_mm'] = pd.to_numeric(al_course.str[0],errors='coerce')"
   ]
  },
  {
   "cell_type": "code",
   "execution_count": 149,
   "metadata": {
    "collapsed": false
   },
   "outputs": [],
   "source": [
    "df['course_piston_mm'] =  pd.to_numeric(al_course.str[-1],errors='coerce')"
   ]
  },
  {
   "cell_type": "code",
   "execution_count": 11,
   "metadata": {
    "collapsed": false
   },
   "outputs": [],
   "source": [
    "df['NO_allumage_auto_feux'] = pd.get_dummies(cars_data.allumage_auto_feux).iloc[:,0]"
   ]
  },
  {
   "cell_type": "code",
   "execution_count": 12,
   "metadata": {
    "collapsed": false
   },
   "outputs": [],
   "source": [
    "df['NO_antipatinage'] = pd.get_dummies(cars_data.antipatinage).iloc[:,0]"
   ]
  },
  {
   "cell_type": "code",
   "execution_count": 13,
   "metadata": {
    "collapsed": false
   },
   "outputs": [],
   "source": [
    "df['NO_appuis_tete_arriere'] = pd.get_dummies(cars_data.appuis_tete_arriere).iloc[:,0]"
   ]
  },
  {
   "cell_type": "code",
   "execution_count": 14,
   "metadata": {
    "collapsed": false
   },
   "outputs": [],
   "source": [
    "df['NO_assistant_freinage'] = pd.get_dummies(cars_data.assistant_freinage).iloc[:,0]"
   ]
  },
  {
   "cell_type": "code",
   "execution_count": 15,
   "metadata": {
    "collapsed": false
   },
   "outputs": [],
   "source": [
    "df['NO_banquette_arriere_rabattable'] = pd.get_dummies(cars_data.banquette_arriere_rabattable).iloc[:,0]"
   ]
  },
  {
   "cell_type": "code",
   "execution_count": 16,
   "metadata": {
    "collapsed": false
   },
   "outputs": [],
   "source": [
    "df['NO_blocage_differentiel'] = pd.get_dummies(cars_data['blocage_differentiel']).iloc[:,0]"
   ]
  },
  {
   "cell_type": "code",
   "execution_count": 17,
   "metadata": {
    "collapsed": false
   },
   "outputs": [],
   "source": [
    "df['NO_bluetooth'] = pd.get_dummies(cars_data['bluetooth']).iloc[:,0]"
   ]
  },
  {
   "cell_type": "code",
   "execution_count": 18,
   "metadata": {
    "collapsed": false
   },
   "outputs": [],
   "source": [
    "df['capacite_charge_max_kg'] = pd.to_numeric(cars_data.capacite_charge_max.str.strip(' kg'))"
   ]
  },
  {
   "cell_type": "code",
   "execution_count": 19,
   "metadata": {
    "collapsed": false
   },
   "outputs": [],
   "source": [
    "df['capacite_moteur_cc'] = pd.to_numeric(cars_data.capacite_moteur.str.strip(' cc'))"
   ]
  },
  {
   "cell_type": "code",
   "execution_count": 20,
   "metadata": {
    "collapsed": false
   },
   "outputs": [],
   "source": [
    "df['NO_capteur_stationnement'] = pd.get_dummies(cars_data.capteur_stationnement).iloc[:,0]"
   ]
  },
  {
   "cell_type": "code",
   "execution_count": 21,
   "metadata": {
    "collapsed": false
   },
   "outputs": [],
   "source": [
    "df['NO_capteur_temp_liquide_refroidissement'] = pd.get_dummies(cars_data.capteur_temp_liquide_refroidissement).iloc[:,0]"
   ]
  },
  {
   "cell_type": "code",
   "execution_count": 22,
   "metadata": {
    "collapsed": false
   },
   "outputs": [],
   "source": [
    "df['LPG_carburant'] = pd.get_dummies(cars_data.carburant).iloc[:,0]\n",
    "df['bio_ethanol_carburant'] = pd.get_dummies(cars_data.carburant).iloc[:,1]\n",
    "df['diesel_carburant'] = pd.get_dummies(cars_data.carburant).iloc[:,2]\n",
    "df['natural_gas_carburant'] = pd.get_dummies(cars_data.carburant).iloc[:,3]"
   ]
  },
  {
   "cell_type": "code",
   "execution_count": 23,
   "metadata": {
    "collapsed": false
   },
   "outputs": [],
   "source": [
    "df['catalyseur_onregular'] =pd.get_dummies(cars_data.catalyseur).iloc[:,1]\n",
    "df['catalyseur_part_filter'] =pd.get_dummies(cars_data.catalyseur).iloc[:,2]\n",
    "df['catalyseur_egular'] =pd.get_dummies(cars_data.catalyseur).iloc[:,3]\n"
   ]
  },
  {
   "cell_type": "code",
   "execution_count": 24,
   "metadata": {
    "collapsed": false
   },
   "outputs": [],
   "source": [
    "df['No_clim_bizone'] = pd.get_dummies(cars_data['clim_bizone']).iloc[:,0]"
   ]
  },
  {
   "cell_type": "code",
   "execution_count": 25,
   "metadata": {
    "collapsed": false
   },
   "outputs": [],
   "source": [
    "df['NO_climatisation'] =pd.get_dummies(cars_data.climatisation.str.replace('\\W+ \\d+.\\d+', 'NO')).iloc[:,0]"
   ]
  },
  {
   "cell_type": "code",
   "execution_count": 26,
   "metadata": {
    "collapsed": false
   },
   "outputs": [],
   "source": [
    "df['NO_commande_audio_volant'] = pd.get_dummies(cars_data.commande_audio_volant.str.replace('\\W+ \\d+.\\d+', 'NO')).iloc[:,0]"
   ]
  },
  {
   "cell_type": "code",
   "execution_count": 27,
   "metadata": {
    "collapsed": false
   },
   "outputs": [],
   "source": [
    "df['compteur_jours'] = pd.get_dummies(cars_data.compteur_jours).iloc[:,1]"
   ]
  },
  {
   "cell_type": "code",
   "execution_count": 28,
   "metadata": {
    "collapsed": false
   },
   "outputs": [],
   "source": [
    "df['conso_extra_urbaine_l_par_100km'] = pd.to_numeric(cars_data.conso_extra_urbaine.str.replace(',','.').str.replace(' l/100km',''))"
   ]
  },
  {
   "cell_type": "code",
   "execution_count": 29,
   "metadata": {
    "collapsed": false
   },
   "outputs": [],
   "source": [
    "df['conso_extra_urbaine_km_par_l'] = pd.to_numeric(cars_data.conso_extra_urbaine_km.str.replace(',','.').str.split('1 op ').str[-1])"
   ]
  },
  {
   "cell_type": "code",
   "execution_count": 30,
   "metadata": {
    "collapsed": false
   },
   "outputs": [],
   "source": [
    "df['conso_mixte_l_par_100km'] = pd.to_numeric(cars_data.conso_mixte.str.replace(',','.').str.replace(' l/100km',''))"
   ]
  },
  {
   "cell_type": "code",
   "execution_count": 31,
   "metadata": {
    "collapsed": false
   },
   "outputs": [],
   "source": [
    "df['conso_mixte_km_par_l'] = pd.to_numeric(cars_data.conso_mixte_km.str.replace(',','.').str.split('1 op ').str[-1])"
   ]
  },
  {
   "cell_type": "code",
   "execution_count": 32,
   "metadata": {
    "collapsed": false
   },
   "outputs": [],
   "source": [
    "df['conso_urbaine_l_par_100km'] = pd.to_numeric(cars_data.conso_urbaine.str.replace(',','.').str.replace(' l/100km',''))"
   ]
  },
  {
   "cell_type": "code",
   "execution_count": 33,
   "metadata": {
    "collapsed": true
   },
   "outputs": [],
   "source": [
    "df['conso_urbaine_km_par_l'] = pd.to_numeric(cars_data.conso_urbaine_km.str.replace(',','.').str.split('1 op ').str[-1])"
   ]
  },
  {
   "cell_type": "code",
   "execution_count": 34,
   "metadata": {
    "collapsed": false
   },
   "outputs": [],
   "source": [
    "df['couple_max'] = pd.to_numeric(cars_data.couple_max.str.strip(' Nm').str.strip('-'))"
   ]
  },
  {
   "cell_type": "code",
   "execution_count": 35,
   "metadata": {
    "collapsed": false
   },
   "outputs": [],
   "source": [
    "df['couple_max_tr_min'] = pd.to_numeric(cars_data.couple_max_tr_min.str.strip(' rpm'))"
   ]
  },
  {
   "cell_type": "code",
   "execution_count": 36,
   "metadata": {
    "collapsed": false
   },
   "outputs": [],
   "source": [
    "df['nb_cylindres'] = pd.to_numeric(cars_data.cylindres.str.split(', ').str[0])"
   ]
  },
  {
   "cell_type": "code",
   "execution_count": 37,
   "metadata": {
    "collapsed": false
   },
   "outputs": [],
   "source": [
    "df['cylindres_boxer'] = pd.get_dummies(cars_data.cylindres.str.split(', ').str[1]).iloc[:,0]\n",
    "df['cylindres_en_V'] = pd.get_dummies(cars_data.cylindres.str.split(', ').str[1]).iloc[:,1]\n",
    "df['cylindres_en_W'] = pd.get_dummies(cars_data.cylindres.str.split(', ').str[1]).iloc[:,2]"
   ]
  },
  {
   "cell_type": "code",
   "execution_count": 38,
   "metadata": {
    "collapsed": false
   },
   "outputs": [],
   "source": [
    "df['date_fin'] = pd.to_numeric(cars_data.date_fin.str.replace('present',''))"
   ]
  },
  {
   "cell_type": "code",
   "execution_count": 39,
   "metadata": {
    "collapsed": false
   },
   "outputs": [],
   "source": [
    "df['date_sortie'] = cars_data.date_sortie"
   ]
  },
  {
   "cell_type": "code",
   "execution_count": 40,
   "metadata": {
    "collapsed": false
   },
   "outputs": [],
   "source": [
    "df['NO_thermometre_exterieur'] = pd.get_dummies(cars_data.dehors_thermometre.str.replace('\\W+ \\d+.\\d+', 'NO')).iloc[:,0]"
   ]
  },
  {
   "cell_type": "code",
   "execution_count": 41,
   "metadata": {
    "collapsed": false
   },
   "outputs": [],
   "source": [
    "df['NO_direction_assistee'] = pd.get_dummies(cars_data.direction_assistee.str.replace('\\W+ \\d+.\\d+', 'NO')).iloc[:,0]"
   ]
  },
  {
   "cell_type": "code",
   "execution_count": 42,
   "metadata": {
    "collapsed": false
   },
   "outputs": [],
   "source": [
    "df['NO_eclairage_miroir_maquillage'] = pd.get_dummies(cars_data.eclairage_miroir_maquillage.str.replace('\\W+ \\d+.\\d+', 'NO')).iloc[:,0]"
   ]
  },
  {
   "cell_type": "code",
   "execution_count": 43,
   "metadata": {
    "collapsed": false
   },
   "outputs": [],
   "source": [
    "df['NO_eclairage_tdb_reglable'] = pd.get_dummies(cars_data.eclairage_tdb_reglable.str.replace('\\W+ \\d+.\\d+', 'NO')).iloc[:,0]"
   ]
  },
  {
   "cell_type": "code",
   "execution_count": 44,
   "metadata": {
    "collapsed": false
   },
   "outputs": [],
   "source": [
    "df['NO_electro_stabilisateur_prog'] = pd.get_dummies(cars_data.electro_stabilisateur_prog.str.replace('\\W+ \\d+.\\d+', 'NO')).iloc[:,0]"
   ]
  },
  {
   "cell_type": "code",
   "execution_count": 45,
   "metadata": {
    "collapsed": false
   },
   "outputs": [],
   "source": [
    "df['emission_co2_g_par_km'] = pd.to_numeric(cars_data.emission_co2.str.replace(' g/km',''))"
   ]
  },
  {
   "cell_type": "code",
   "execution_count": 46,
   "metadata": {
    "collapsed": false
   },
   "outputs": [],
   "source": [
    "df['empattement'] = pd.to_numeric(cars_data.empattement.str.replace('mm',''))"
   ]
  },
  {
   "cell_type": "code",
   "execution_count": 47,
   "metadata": {
    "collapsed": false
   },
   "outputs": [],
   "source": [
    "df['intervale_km_entretien'] =pd.to_numeric(cars_data.entretien.str.replace('.','').str.split(' km / ').str[0], errors='coerce')"
   ]
  },
  {
   "cell_type": "code",
   "execution_count": 48,
   "metadata": {
    "collapsed": false
   },
   "outputs": [],
   "source": [
    "df['intervale_annees_entretien'] = pd.to_numeric(cars_data.entretien.str.split(' km / ').str[1].str.split().str[0])"
   ]
  },
  {
   "cell_type": "code",
   "execution_count": 49,
   "metadata": {
    "collapsed": false
   },
   "outputs": [
    {
     "data": {
      "text/plain": [
       "0           NaN\n",
       "1           NaN\n",
       "2           NaN\n",
       "3           NaN\n",
       "4           NaN\n",
       "5    not tested\n",
       "6    not tested\n",
       "7    not tested\n",
       "8    not tested\n",
       "9           NaN\n",
       "Name: essai_collision, dtype: object"
      ]
     },
     "execution_count": 49,
     "metadata": {},
     "output_type": "execute_result"
    }
   ],
   "source": [
    "#essai collision non informatif\n",
    "cars_data.essai_collision.head(10)"
   ]
  },
  {
   "cell_type": "code",
   "execution_count": 50,
   "metadata": {
    "collapsed": false
   },
   "outputs": [],
   "source": [
    "df['NO_essuie_glace_auto'] = pd.get_dummies(cars_data.essuie_glace_auto).iloc[:,0]"
   ]
  },
  {
   "cell_type": "code",
   "execution_count": 51,
   "metadata": {
    "collapsed": false
   },
   "outputs": [],
   "source": [
    "df['NO_fermeture_portes_centrallisee'] = pd.get_dummies(cars_data.fermeture_portes_centrallisee.str.replace('\\W+ \\d+.\\d+', 'NO')).iloc[:,0]"
   ]
  },
  {
   "cell_type": "code",
   "execution_count": 52,
   "metadata": {
    "collapsed": false
   },
   "outputs": [],
   "source": [
    "df['NO_feux_anti_brouillard'] = pd.get_dummies(cars_data.feux_anti_brouillard.str.replace('\\W+ \\d+.\\d+', 'NO')).iloc[:,0]"
   ]
  },
  {
   "cell_type": "code",
   "execution_count": 53,
   "metadata": {
    "collapsed": false
   },
   "outputs": [],
   "source": [
    "df['NO_feux_circulation_diurnes'] = pd.get_dummies(cars_data.feux_circulation_diurnes.str.replace('\\W+ \\d+.\\d+', 'NO')).iloc[:,0]"
   ]
  },
  {
   "cell_type": "code",
   "execution_count": 54,
   "metadata": {
    "collapsed": false
   },
   "outputs": [],
   "source": [
    "df['freins_arriere_type_trommels'] = pd.get_dummies(cars_data.freins_arriere.str.split(',').str[0]).iloc[:,1]\n",
    "df['freins_arriere_type_ventilated_disc'] = pd.get_dummies(cars_data.freins_arriere.str.split(',').str[0]).iloc[:,2]\n"
   ]
  },
  {
   "cell_type": "code",
   "execution_count": 55,
   "metadata": {
    "collapsed": false
   },
   "outputs": [],
   "source": [
    "df['freins_arriere_diametre_disc'] = pd.to_numeric(cars_data.freins_arriere.str.split(',').str[1].str.replace(' mm',''))"
   ]
  },
  {
   "cell_type": "code",
   "execution_count": 56,
   "metadata": {
    "collapsed": false
   },
   "outputs": [],
   "source": [
    "df['freins_avant_type_trommels'] = pd.get_dummies(cars_data.freins_avant.str.split(',').str[0]).iloc[:,1]\n",
    "df['freins_avant_type_ventilated_disc'] = pd.get_dummies(cars_data.freins_avant.str.split(',').str[0]).iloc[:,2]\n",
    "df['freins_avant_diametre_disc'] = pd.to_numeric(cars_data.freins_avant.str.split(',').str[1].str.replace(' mm',''))"
   ]
  },
  {
   "cell_type": "code",
   "execution_count": 57,
   "metadata": {
    "collapsed": false
   },
   "outputs": [],
   "source": [
    "df['duree_garantie_carroserie'] = pd.to_numeric(cars_data.garantie_carroserie.str.split().str[0], errors='coerce')"
   ]
  },
  {
   "cell_type": "code",
   "execution_count": 58,
   "metadata": {
    "collapsed": false
   },
   "outputs": [],
   "source": [
    "df['garantie_generale_annees'] = pd.to_numeric(cars_data.garantie_generale.str.split().str[0], errors='coerce')"
   ]
  },
  {
   "cell_type": "code",
   "execution_count": 59,
   "metadata": {
    "collapsed": false
   },
   "outputs": [],
   "source": [
    "df['garantie_generale_km'] = pd.to_numeric(cars_data.garantie_generale.str.split().str[2], errors='coerce')"
   ]
  },
  {
   "cell_type": "code",
   "execution_count": 60,
   "metadata": {
    "collapsed": false
   },
   "outputs": [],
   "source": [
    "df['hauteur_mm'] = pd.to_numeric(cars_data.hauteur.str.split().str[0], errors='coerce')"
   ]
  },
  {
   "cell_type": "code",
   "execution_count": 61,
   "metadata": {
    "collapsed": false
   },
   "outputs": [],
   "source": [
    "df['NO_jantes_alliage'] = pd.get_dummies(cars_data.jantes_alliage.str.replace('\\W+ \\d+.\\d+', 'NO')).iloc[:,0]"
   ]
  },
  {
   "cell_type": "code",
   "execution_count": 62,
   "metadata": {
    "collapsed": false
   },
   "outputs": [],
   "source": [
    "df['largeur_mm'] = pd.to_numeric(cars_data.largeur.str.split().str[0], errors='coerce')"
   ]
  },
  {
   "cell_type": "code",
   "execution_count": 63,
   "metadata": {
    "collapsed": false
   },
   "outputs": [],
   "source": [
    "df['NO_lave_phares'] = pd.get_dummies(cars_data.lave_phares.str.replace('\\W+ \\d+.\\d+', 'NO')).iloc[:,0]"
   ]
  },
  {
   "cell_type": "code",
   "execution_count": 64,
   "metadata": {
    "collapsed": false
   },
   "outputs": [],
   "source": [
    " df['NO_liseuse'] = pd.get_dummies(cars_data.liseuse.str.replace('\\W+ \\d+.\\d+', 'NO')).iloc[:,0]"
   ]
  },
  {
   "cell_type": "code",
   "execution_count": 65,
   "metadata": {
    "collapsed": false
   },
   "outputs": [],
   "source": [
    "df['longueur_mm'] = pd.to_numeric(cars_data.longueur.str.split().str[0], errors='coerce')"
   ]
  },
  {
   "cell_type": "code",
   "execution_count": 66,
   "metadata": {
    "collapsed": false
   },
   "outputs": [],
   "source": [
    "df['longueur_coffre_min'] = pd.to_numeric(cars_data.longueur_min_max.str.split(\"mm /\").str[0])"
   ]
  },
  {
   "cell_type": "code",
   "execution_count": 67,
   "metadata": {
    "collapsed": false
   },
   "outputs": [],
   "source": [
    "df['longueur_coffre_max'] = pd.to_numeric(cars_data.longueur_min_max.str.split(\"mm /\").str[1], errors='coerce')"
   ]
  },
  {
   "cell_type": "code",
   "execution_count": 68,
   "metadata": {
    "collapsed": false
   },
   "outputs": [],
   "source": [
    "df['ratio_marche_arriere'] = pd.to_numeric(cars_data.marche_arriere.str.replace(',','.').str.split(':').str[0])"
   ]
  },
  {
   "cell_type": "code",
   "execution_count": 69,
   "metadata": {
    "collapsed": false
   },
   "outputs": [],
   "source": [
    "df['masse_admissible_max'] = pd.to_numeric(cars_data.masse_admissible_max.str.split().str[0], errors='coerce')"
   ]
  },
  {
   "cell_type": "code",
   "execution_count": 70,
   "metadata": {
    "collapsed": false
   },
   "outputs": [],
   "source": [
    "df['masse_max_frein_avec_remorque'] = pd.to_numeric(cars_data.masse_max_frein_avec_remorque.str.split().str[0], errors='coerce')"
   ]
  },
  {
   "cell_type": "code",
   "execution_count": 71,
   "metadata": {
    "collapsed": true
   },
   "outputs": [],
   "source": [
    "df['masse_max_frein_sans_remorque'] = pd.to_numeric(cars_data.masse_max_frein_sans_remorque.str.split().str[0], errors='coerce')"
   ]
  },
  {
   "cell_type": "code",
   "execution_count": 72,
   "metadata": {
    "collapsed": false
   },
   "outputs": [],
   "source": [
    "df['masse_vide'] = pd.to_numeric(cars_data.masse_vide.str.split().str[0], errors='coerce')"
   ]
  },
  {
   "cell_type": "code",
   "execution_count": 73,
   "metadata": {
    "collapsed": false
   },
   "outputs": [],
   "source": [
    "df['max_boule_presse'] = pd.to_numeric(cars_data.max_boule_presse.str.split().str[0], errors='coerce')"
   ]
  },
  {
   "cell_type": "code",
   "execution_count": 74,
   "metadata": {
    "collapsed": false
   },
   "outputs": [],
   "source": [
    "df['max_charge_toit'] = pd.to_numeric(cars_data.max_charge_toit.str.split().str[0], errors='coerce')"
   ]
  },
  {
   "cell_type": "code",
   "execution_count": 75,
   "metadata": {
    "collapsed": false
   },
   "outputs": [],
   "source": [
    "df['niveau_energie_B'] = pd.get_dummies(cars_data.niveau_energie).iloc[:,1]\n",
    "df['niveau_energie_C'] = pd.get_dummies(cars_data.niveau_energie).iloc[:,2]\n",
    "df['niveau_energie_D'] = pd.get_dummies(cars_data.niveau_energie).iloc[:,3]\n",
    "df['niveau_energie_E'] = pd.get_dummies(cars_data.niveau_energie).iloc[:,4]\n",
    "df['niveau_energie_F'] = pd.get_dummies(cars_data.niveau_energie).iloc[:,5]\n",
    "df['niveau_energie_G'] = pd.get_dummies(cars_data.niveau_energie).iloc[:,6]"
   ]
  },
  {
   "cell_type": "code",
   "execution_count": 76,
   "metadata": {
    "collapsed": false
   },
   "outputs": [
    {
     "data": {
      "text/plain": [
       "0               Opel Zafira OPC Turbo 2.0  2003 - 2005\n",
       "1           Dacia Sandero Tce 90 Laureate  2012 - 2015\n",
       "2    Nissan X-Trail 2.5 4WD Sport Outdoor  2003 - 2006\n",
       "3                      Renault Zoe Zen  2013 - present\n",
       "4     Kia Venga 1.6 CVVT ExecutiveLine  2015 - present\n",
       "5                                  BMW Z8  2000 - 2003\n",
       "6    Audi TTS Roadster 2.0 TFSI quattro Pro Line + ...\n",
       "7    Land Rover Range Rover Sport V8 5.0 Supercharg...\n",
       "8                        Ford Windstar SX  2000 - 2001\n",
       "9         Mini Roadster John Cooper Works  2012 - 2015\n",
       "Name: nom, dtype: object"
      ]
     },
     "execution_count": 76,
     "metadata": {},
     "output_type": "execute_result"
    }
   ],
   "source": [
    "cars_data.nom.head(10)"
   ]
  },
  {
   "cell_type": "code",
   "execution_count": 77,
   "metadata": {
    "collapsed": false
   },
   "outputs": [],
   "source": [
    "df['marque'] = cars_data.nom.str.split().str[0].str.replace('Land','Land Rover').str.replace('Alfa','Alfa Romeo').str.replace('Mercedes','Mercedes Benz')"
   ]
  },
  {
   "cell_type": "code",
   "execution_count": 78,
   "metadata": {
    "collapsed": false
   },
   "outputs": [],
   "source": [
    "x = cars_data.nom.str.replace('Land Rover','Land-Rover').str.replace('Alfa Romeo','Alfa-Romeo').str.replace('Mercedes Benz','Mercedes-Benz')\n",
    "df['modele'] = x.str.split().str[1]"
   ]
  },
  {
   "cell_type": "code",
   "execution_count": 79,
   "metadata": {
    "collapsed": false
   },
   "outputs": [],
   "source": [
    "x = cars_data.nom.str.replace('Land Rover','Land-Rover').str.replace('Alfa Romeo','Alfa-Romeo').str.replace('Mercedes Benz','Mercedes-Benz')\n",
    "df['version'] = x.str.split().str[2:-3].str.join(sep='_')\n"
   ]
  },
  {
   "cell_type": "code",
   "execution_count": 80,
   "metadata": {
    "collapsed": false
   },
   "outputs": [],
   "source": [
    "df['nombre_portes'] = cars_data.nombre_portes"
   ]
  },
  {
   "cell_type": "code",
   "execution_count": 81,
   "metadata": {
    "collapsed": false
   },
   "outputs": [],
   "source": [
    "df['nombre_sieges'] = pd.to_numeric(cars_data.nombre_sieges.str.replace('-\\d',''))"
   ]
  },
  {
   "cell_type": "code",
   "execution_count": 82,
   "metadata": {
    "collapsed": false
   },
   "outputs": [],
   "source": [
    "df['prix'] = pd.to_numeric(cars_data.nouveau_prix.str.replace('.','').str.split().str[-1], errors='coerce')"
   ]
  },
  {
   "cell_type": "code",
   "execution_count": 83,
   "metadata": {
    "collapsed": false
   },
   "outputs": [],
   "source": [
    "df['NO_ordinateur_bord'] = pd.get_dummies(cars_data.ordinateur_bord.str.replace('\\W+ \\d+.\\d+', 'NO')).iloc[:,0]"
   ]
  },
  {
   "cell_type": "code",
   "execution_count": 84,
   "metadata": {
    "collapsed": false
   },
   "outputs": [],
   "source": [
    " df['NO_panorama'] = pd.get_dummies(cars_data.panorama.str.replace('\\W+ \\d+.\\d+', 'NO')).iloc[:,0]"
   ]
  },
  {
   "cell_type": "code",
   "execution_count": 85,
   "metadata": {
    "collapsed": false
   },
   "outputs": [],
   "source": [
    "df['NO_pare_chocs_peints'] = pd.get_dummies(cars_data.pare_chocs_peints.str.replace('\\W+ \\d+.\\d+', 'NO')).iloc[:,0]"
   ]
  },
  {
   "cell_type": "code",
   "execution_count": 86,
   "metadata": {
    "collapsed": false
   },
   "outputs": [],
   "source": [
    "df['NO_peinture_metalisee'] = pd.get_dummies(cars_data.peinture_metalisee.str.replace('\\W+ \\d+.\\d+', 'NO')).iloc[:,0]"
   ]
  },
  {
   "cell_type": "code",
   "execution_count": 87,
   "metadata": {
    "collapsed": false
   },
   "outputs": [],
   "source": [
    "df['NO_phares_xenon'] = pd.get_dummies(cars_data.phares_xenon.str.replace('\\W+ \\d+.\\d+', 'NO')).iloc[:,0]"
   ]
  },
  {
   "cell_type": "code",
   "execution_count": 88,
   "metadata": {
    "collapsed": false
   },
   "outputs": [],
   "source": [
    "df['pneus_largeur'] = pd.to_numeric(cars_data.pneus.str.split('/').str[0], errors='coerce')"
   ]
  },
  {
   "cell_type": "code",
   "execution_count": 89,
   "metadata": {
    "collapsed": false
   },
   "outputs": [
    {
     "name": "stderr",
     "output_type": "stream",
     "text": [
      "C:\\Users\\Michael\\Anaconda\\lib\\site-packages\\ipykernel\\__main__.py:1: FutureWarning: currently extract(expand=None) means expand=False (return Index/Series/DataFrame) but in a future version of pandas this will be changed to expand=True (return DataFrame)\n",
      "  if __name__ == '__main__':\n"
     ]
    }
   ],
   "source": [
    "df['pneus_hauteur'] = pd.to_numeric(cars_data.pneus.str.split('/').str[1].str.extract('(\\d{2})\\w\\d+'),errors='coerce')"
   ]
  },
  {
   "cell_type": "code",
   "execution_count": 90,
   "metadata": {
    "collapsed": false
   },
   "outputs": [
    {
     "name": "stderr",
     "output_type": "stream",
     "text": [
      "C:\\Users\\Michael\\Anaconda\\lib\\site-packages\\ipykernel\\__main__.py:1: FutureWarning: currently extract(expand=None) means expand=False (return Index/Series/DataFrame) but in a future version of pandas this will be changed to expand=True (return DataFrame)\n",
      "  if __name__ == '__main__':\n"
     ]
    }
   ],
   "source": [
    "df['pneus_type'] = pd.to_numeric(cars_data.pneus.str.split('/').str[1].str.extract('\\d{2}(\\w)\\d+'),errors='coerce')"
   ]
  },
  {
   "cell_type": "code",
   "execution_count": 91,
   "metadata": {
    "collapsed": false
   },
   "outputs": [
    {
     "name": "stderr",
     "output_type": "stream",
     "text": [
      "C:\\Users\\Michael\\Anaconda\\lib\\site-packages\\ipykernel\\__main__.py:1: FutureWarning: currently extract(expand=None) means expand=False (return Index/Series/DataFrame) but in a future version of pandas this will be changed to expand=True (return DataFrame)\n",
      "  if __name__ == '__main__':\n"
     ]
    }
   ],
   "source": [
    "df['pneus_diametre'] = pd.to_numeric(cars_data.pneus.str.split('/').str[1].str.extract('\\d{2}\\w(\\d{2})'),errors='coerce')"
   ]
  },
  {
   "cell_type": "code",
   "execution_count": 92,
   "metadata": {
    "collapsed": false
   },
   "outputs": [],
   "source": [
    "df['puissance_max_kW'] = pd.to_numeric(cars_data.puissance_max.str.split().str[0],errors='coerce')"
   ]
  },
  {
   "cell_type": "code",
   "execution_count": 93,
   "metadata": {
    "collapsed": false
   },
   "outputs": [
    {
     "name": "stderr",
     "output_type": "stream",
     "text": [
      "C:\\Users\\Michael\\Anaconda\\lib\\site-packages\\ipykernel\\__main__.py:1: FutureWarning: currently extract(expand=None) means expand=False (return Index/Series/DataFrame) but in a future version of pandas this will be changed to expand=True (return DataFrame)\n",
      "  if __name__ == '__main__':\n"
     ]
    }
   ],
   "source": [
    "df['puissance_max_HP'] = pd.to_numeric(cars_data.puissance_max.str.split().str[2].str.extract('(\\d+)'),errors='coerce')"
   ]
  },
  {
   "cell_type": "code",
   "execution_count": 94,
   "metadata": {
    "collapsed": false
   },
   "outputs": [],
   "source": [
    "df['puissance_max_tr_min'] = pd.to_numeric(cars_data.puissance_max_tr_min.str.split().str[0],errors='coerce').head()"
   ]
  },
  {
   "cell_type": "code",
   "execution_count": 95,
   "metadata": {
    "collapsed": false
   },
   "outputs": [],
   "source": [
    "df['NO_rails_toit'] = pd.get_dummies(cars_data.rails_toit.str.replace('\\W+ \\d+.\\d+', 'NO')).iloc[:,0]"
   ]
  },
  {
   "cell_type": "code",
   "execution_count": 96,
   "metadata": {
    "collapsed": false
   },
   "outputs": [],
   "source": [
    "df['rayon_virage'] = pd.to_numeric(cars_data.rayon_virage.str.replace(',','.').str.split().str[0],errors='coerce')"
   ]
  },
  {
   "cell_type": "code",
   "execution_count": 97,
   "metadata": {
    "collapsed": false
   },
   "outputs": [],
   "source": [
    "df['NO_reg_electrique_sieges'] = pd.get_dummies(cars_data.reg_electrique_sieges.str.replace('\\W+ \\d+.\\d+', 'NO')).iloc[:,0]"
   ]
  },
  {
   "cell_type": "code",
   "execution_count": 98,
   "metadata": {
    "collapsed": false
   },
   "outputs": [],
   "source": [
    "df['NO_reg_vitesse'] = pd.get_dummies(cars_data.reg_vitesse.str.replace('\\W+ \\d+.\\d+', 'NO')).iloc[:,0]"
   ]
  },
  {
   "cell_type": "code",
   "execution_count": 99,
   "metadata": {
    "collapsed": false
   },
   "outputs": [],
   "source": [
    "df['NO_repartiteur_elect_freinage'] = pd.get_dummies(cars_data.repartiteur_elect_freinage).iloc[:,0]"
   ]
  },
  {
   "cell_type": "code",
   "execution_count": 100,
   "metadata": {
    "collapsed": false
   },
   "outputs": [],
   "source": [
    "df['reservoir_carburant'] = pd.to_numeric(cars_data.reservoir_carburant.str.split().str[0],errors='coerce')"
   ]
  },
  {
   "cell_type": "code",
   "execution_count": 101,
   "metadata": {
    "collapsed": false
   },
   "outputs": [],
   "source": [
    "df['NO_retros_clignotant'] = pd.get_dummies(cars_data.retros_clignotant.str.replace('\\W+ \\d+.\\d+', 'NO')).iloc[:,0]"
   ]
  },
  {
   "cell_type": "code",
   "execution_count": 102,
   "metadata": {
    "collapsed": false
   },
   "outputs": [],
   "source": [
    "df['NO_retros_electriques'] = pd.get_dummies(cars_data.retros_electriques.str.replace('\\W+ \\d+.\\d+', 'NO')).iloc[:,0]"
   ]
  },
  {
   "cell_type": "code",
   "execution_count": 103,
   "metadata": {
    "collapsed": false
   },
   "outputs": [],
   "source": [
    "df['NO_retros_electrochrome'] = pd.get_dummies(cars_data.retros_electrochrome.str.replace('\\W+ \\d+.\\d+', 'NO')).iloc[:,0]"
   ]
  },
  {
   "cell_type": "code",
   "execution_count": 104,
   "metadata": {
    "collapsed": false
   },
   "outputs": [],
   "source": [
    "df['NO_retros_ext_rabatable'] = pd.get_dummies(cars_data.retros_ext_rabatable.str.replace('\\W+ \\d+.\\d+', 'NO')).iloc[:,0]"
   ]
  },
  {
   "cell_type": "code",
   "execution_count": 105,
   "metadata": {
    "collapsed": false
   },
   "outputs": [],
   "source": [
    "df['NO_retros_gradation_auto'] = pd.get_dummies(cars_data.retros_gradation_auto.str.replace('\\W+ \\d+.\\d+', 'NO')).iloc[:,0]"
   ]
  },
  {
   "cell_type": "code",
   "execution_count": 106,
   "metadata": {
    "collapsed": false
   },
   "outputs": [],
   "source": [
    "df['roues_motrices_avant_arriere'] = pd.get_dummies(cars_data.roues_motrices).iloc[:,1]\n",
    "df['roues_motrices_arriere'] = pd.get_dummies(cars_data.roues_motrices).iloc[:,2]\n"
   ]
  },
  {
   "cell_type": "code",
   "execution_count": 107,
   "metadata": {
    "collapsed": false
   },
   "outputs": [],
   "source": [
    "df['NO_siege_chauffant'] = pd.get_dummies(cars_data.siege_chauffant.str.replace('\\W+ \\d+.\\d+', 'NO')).iloc[:,0]"
   ]
  },
  {
   "cell_type": "code",
   "execution_count": 108,
   "metadata": {
    "collapsed": false
   },
   "outputs": [],
   "source": [
    "df['NO_siege_cuir'] = pd.get_dummies(cars_data.siege_cuir.str.replace('\\W+ \\d+.\\d+', 'NO')).iloc[:,0]"
   ]
  },
  {
   "cell_type": "code",
   "execution_count": 109,
   "metadata": {
    "collapsed": false
   },
   "outputs": [],
   "source": [
    "df['NO_siege_reglable_hauteur'] = pd.get_dummies(cars_data.siege_reglable_hauteur.str.replace('\\W+ \\d+.\\d+', 'NO')).iloc[:,0]"
   ]
  },
  {
   "cell_type": "code",
   "execution_count": 110,
   "metadata": {
    "collapsed": true
   },
   "outputs": [],
   "source": [
    "df['NO_siege_reglage_lombaire'] = pd.get_dummies(cars_data.siege_reglage_lombaire.str.replace('\\W+ \\d+.\\d+', 'NO')).iloc[:,0]"
   ]
  },
  {
   "cell_type": "code",
   "execution_count": 111,
   "metadata": {
    "collapsed": false
   },
   "outputs": [],
   "source": [
    "df['NO_siege_sport'] = pd.get_dummies(cars_data.siege_sport.str.replace('\\W+ \\d+.\\d+', 'NO')).iloc[:,0]"
   ]
  },
  {
   "cell_type": "code",
   "execution_count": 112,
   "metadata": {
    "collapsed": false
   },
   "outputs": [],
   "source": [
    "df['soupapes_par_cylindre'] = cars_data.soupapes_par_cylindre"
   ]
  },
  {
   "cell_type": "code",
   "execution_count": 113,
   "metadata": {
    "collapsed": false
   },
   "outputs": [],
   "source": [
    "df['stabilisatrice_arriere'] = pd.get_dummies(cars_data.stabilisatrice_arriere).iloc[:,1]"
   ]
  },
  {
   "cell_type": "code",
   "execution_count": 114,
   "metadata": {
    "collapsed": false
   },
   "outputs": [],
   "source": [
    "df['stabilisatrice_avant'] = pd.get_dummies(cars_data.stabilisatrice_avant).iloc[:,1]"
   ]
  },
  {
   "cell_type": "code",
   "execution_count": 115,
   "metadata": {
    "collapsed": false
   },
   "outputs": [],
   "source": [
    "df['suspension_arriere_de_dion'] = pd.get_dummies(cars_data.suspension_arriere).iloc[:,0]\n",
    "df['suspension_arriere_independent_double_wishbone'] = pd.get_dummies(cars_data.suspension_arriere).iloc[:,1]\n",
    "df['suspension_arriere_independent_long_arm'] = pd.get_dummies(cars_data.suspension_arriere).iloc[:,2]\n",
    "df['suspension_independent_wishbone'] = pd.get_dummies(cars_data.suspension_arriere).iloc[:,3]\n",
    "df['suspension_arriere_multilink'] = pd.get_dummies(cars_data.suspension_arriere).iloc[:,4]\n",
    "df['suspension_arriere_rigid'] = pd.get_dummies(cars_data.suspension_arriere).iloc[:,6]\n",
    "df['suspension_arriere_semi_independant'] = pd.get_dummies(cars_data.suspension_arriere).iloc[:,7]"
   ]
  },
  {
   "cell_type": "code",
   "execution_count": 116,
   "metadata": {
    "collapsed": false
   },
   "outputs": [],
   "source": [
    "df['suspension_avant_independent_McPherson'] = pd.get_dummies(cars_data.suspension_avant).iloc[:,0]\n",
    "df['suspension_avant_independent_double_wishbone'] = pd.get_dummies(cars_data.suspension_avant).iloc[:,1]\n",
    "df['suspension_avant_independent_long_arm'] = pd.get_dummies(cars_data.suspension_avant).iloc[:,2]\n",
    "df['suspension_avant_independent_wishbone'] = pd.get_dummies(cars_data.suspension_avant).iloc[:,3]\n",
    "df['suspension_avant_independent_multilink'] = pd.get_dummies(cars_data.suspension_avant).iloc[:,4]"
   ]
  },
  {
   "cell_type": "code",
   "execution_count": 117,
   "metadata": {
    "collapsed": false
   },
   "outputs": [],
   "source": [
    "df['NO_sys_alarme'] = pd.get_dummies(cars_data.sys_alarme.str.replace('\\W+ \\d+.\\d+', 'NO')).iloc[:,0]"
   ]
  },
  {
   "cell_type": "code",
   "execution_count": 118,
   "metadata": {
    "collapsed": false
   },
   "outputs": [],
   "source": [
    "df['NO_sys_audio'] = pd.get_dummies(cars_data.sys_audio.str.replace('\\W+ \\d+.\\d+', 'NO')).iloc[:,0]"
   ]
  },
  {
   "cell_type": "code",
   "execution_count": 119,
   "metadata": {
    "collapsed": false
   },
   "outputs": [],
   "source": [
    "x = cars_data.sys_carburant.str.replace('common rail', 'direct injection').str.replace('multijet', 'direct injection')\n",
    "x = x.str.replace('injection pump', 'direct injection').str.replace('^direct injection$','injection')\n",
    "df['sys_carburant_indirect_injection'] = pd.get_dummies(x).iloc[:,1]\n",
    "df['sys_carburant_direct_injection'] = pd.get_dummies(x).iloc[:,2]\n",
    "df['sys_carburant_multipoint_injection'] = pd.get_dummies(x).iloc[:,3]\n",
    "df['sys_carburant_singlepoint_injection'] = pd.get_dummies(x).iloc[:,4]\n"
   ]
  },
  {
   "cell_type": "code",
   "execution_count": 120,
   "metadata": {
    "collapsed": false
   },
   "outputs": [],
   "source": [
    "df['sys_entrainement_electric'] = pd.get_dummies(cars_data.sys_entrainement).iloc[:,0]\n",
    "df['sys_entrainement_hybrid'] = pd.get_dummies(cars_data.sys_entrainement).iloc[:,2]\n",
    "df['sys_entrainement_plugin_hybrid'] = pd.get_dummies(cars_data.sys_entrainement).iloc[:,3]"
   ]
  },
  {
   "cell_type": "code",
   "execution_count": 121,
   "metadata": {
    "collapsed": false
   },
   "outputs": [],
   "source": [
    "df['NO_sys_navigation'] = pd.get_dummies(cars_data.sys_navigation.str.replace('\\W+ \\d+.\\d+', 'NO')).iloc[:,0]"
   ]
  },
  {
   "cell_type": "code",
   "execution_count": 122,
   "metadata": {
    "collapsed": false
   },
   "outputs": [],
   "source": [
    "df['NO_sys_stop_start'] = pd.get_dummies(cars_data.sys_stop_start).iloc[:,0]"
   ]
  },
  {
   "cell_type": "code",
   "execution_count": 123,
   "metadata": {
    "collapsed": false
   },
   "outputs": [],
   "source": [
    "df['NO_tachymetre'] = pd.get_dummies(cars_data.tachymetre.str.replace('\\W+ \\d+.\\d+', 'NO')).iloc[:,0]"
   ]
  },
  {
   "cell_type": "code",
   "execution_count": 124,
   "metadata": {
    "collapsed": false
   },
   "outputs": [],
   "source": [
    "df['taux_compression'] = pd.to_numeric(cars_data.taux_compression.str.replace(',','.').str.split().str[0],errors='coerce')"
   ]
  },
  {
   "cell_type": "code",
   "execution_count": 125,
   "metadata": {
    "collapsed": false
   },
   "outputs": [],
   "source": [
    "df['NO_teledeverrouillage'] = pd.get_dummies(cars_data.teledeverrouillage.str.replace('\\W+ \\d+.\\d+', 'NO')).iloc[:,0]"
   ]
  },
  {
   "cell_type": "code",
   "execution_count": 126,
   "metadata": {
    "collapsed": false
   },
   "outputs": [],
   "source": [
    "df['NO_toit_ouvrant_glissant'] = pd.get_dummies(cars_data.toit_ouvrant_glissant.str.replace('\\W+ \\d+.\\d+', 'NO')).iloc[:,0]"
   ]
  },
  {
   "cell_type": "code",
   "execution_count": 127,
   "metadata": {
    "collapsed": false
   },
   "outputs": [],
   "source": [
    "df['tr_min_120_kmh'] = pd.to_numeric(cars_data.tr_min_120_kmh.str.replace('.','').str.split().str[0])"
   ]
  },
  {
   "cell_type": "code",
   "execution_count": 128,
   "metadata": {
    "collapsed": false
   },
   "outputs": [],
   "source": [
    "df['transmission_automatic'] = pd.get_dummies(cars_data.transmission).iloc[:,0]\n",
    "df['transmission_semi_automatic'] = pd.get_dummies(cars_data.transmission).iloc[:,2]\n",
    "df['transmission_sequential_automatic'] = pd.get_dummies(cars_data.transmission).iloc[:,3]"
   ]
  },
  {
   "cell_type": "code",
   "execution_count": 129,
   "metadata": {
    "collapsed": false
   },
   "outputs": [],
   "source": [
    "df['transmission_finale'] = pd.to_numeric(cars_data.transmission_finale.str.replace(',','.').str.split(':').str[0],errors='coerce')"
   ]
  },
  {
   "cell_type": "code",
   "execution_count": 130,
   "metadata": {
    "collapsed": false
   },
   "outputs": [],
   "source": [
    "df['supercharger'] = pd.get_dummies(cars_data.turbo).iloc[:,0]\n",
    "df['turbocharger'] = pd.get_dummies(cars_data.turbo).iloc[:,2]\n",
    "df['twincharger'] = pd.get_dummies(cars_data.turbo).iloc[:,3]\n",
    "df['turbocharger_w_intercooler'] = pd.get_dummies(cars_data.turbo).iloc[:,4]"
   ]
  },
  {
   "cell_type": "code",
   "execution_count": 131,
   "metadata": {
    "collapsed": false
   },
   "outputs": [],
   "source": [
    "df['bus'] = pd.get_dummies(cars_data.type_carrosserie).iloc[:,1]\n",
    "df['cabriolet'] = pd.get_dummies(cars_data.type_carrosserie).iloc[:,2]\n",
    "df['coupe'] = pd.get_dummies(cars_data.type_carrosserie).iloc[:,3]\n",
    "df['hatchback'] = pd.get_dummies(cars_data.type_carrosserie).iloc[:,4]\n",
    "df['mpv'] = pd.get_dummies(cars_data.type_carrosserie).iloc[:,5]\n",
    "df['pickup'] = pd.get_dummies(cars_data.type_carrosserie).iloc[:,6]\n",
    "df['sedan'] = pd.get_dummies(cars_data.type_carrosserie).iloc[:,7]\n",
    "df['stationwagon'] = pd.get_dummies(cars_data.type_carrosserie).iloc[:,8]\n",
    "df['suv_crossover'] = pd.get_dummies(cars_data.type_carrosserie).iloc[:,9]\n"
   ]
  },
  {
   "cell_type": "code",
   "execution_count": 132,
   "metadata": {
    "collapsed": false
   },
   "outputs": [],
   "source": [
    "df['electromagnetic_synchronous_motor'] = pd.get_dummies(cars_data.type_moteur).iloc[:,1]\n",
    "df['valvetrain_ohc'] = pd.get_dummies(cars_data.type_moteur).iloc[:,2]\n",
    "df['valvetrain_ohv'] = pd.get_dummies(cars_data.type_moteur).iloc[:,3]\n",
    "df['permanent_magnet_synchronous_motor'] = pd.get_dummies(cars_data.type_moteur).iloc[:,4]"
   ]
  },
  {
   "cell_type": "code",
   "execution_count": 133,
   "metadata": {
    "collapsed": false
   },
   "outputs": [],
   "source": [
    "df['NO_verre_intim_arriere'] = pd.get_dummies(cars_data.verre_intim_arriere.str.replace('\\W+ \\d+.\\d+', 'NO')).iloc[:,0]"
   ]
  },
  {
   "cell_type": "code",
   "execution_count": 134,
   "metadata": {
    "collapsed": false
   },
   "outputs": [],
   "source": [
    "df['vitesse_1ere'] = pd.to_numeric(cars_data.vitesse_1ere.str.replace(',','.').str.split(':').str[0],errors='coerce')\n",
    "df['vitesse_2eme'] = pd.to_numeric(cars_data.vitesse_2eme.str.replace(',','.').str.split(':').str[0],errors='coerce')\n",
    "df['vitesse_3eme'] = pd.to_numeric(cars_data.vitesse_3eme.str.replace(',','.').str.split(':').str[0],errors='coerce')\n",
    "df['vitesse_4eme'] = pd.to_numeric(cars_data.vitesse_4eme.str.replace(',','.').str.split(':').str[0],errors='coerce')\n"
   ]
  },
  {
   "cell_type": "code",
   "execution_count": 135,
   "metadata": {
    "collapsed": false
   },
   "outputs": [],
   "source": [
    "df['vitesse_max'] = pd.to_numeric(cars_data.vitesse_max.str.split().str[0])"
   ]
  },
  {
   "cell_type": "code",
   "execution_count": 136,
   "metadata": {
    "collapsed": false
   },
   "outputs": [],
   "source": [
    "df['NO_vitres_electriques'] = pd.get_dummies(cars_data.vitres_electriques.str.replace('\\W+ \\d+.\\d+', 'NO')).iloc[:,0]"
   ]
  },
  {
   "cell_type": "code",
   "execution_count": 137,
   "metadata": {
    "collapsed": false
   },
   "outputs": [],
   "source": [
    "df['NO_vitres_teintees'] = pd.get_dummies(cars_data.vitres_teintees.str.replace('\\W+ \\d+.\\d+', 'NO')).iloc[:,0]"
   ]
  },
  {
   "cell_type": "code",
   "execution_count": 138,
   "metadata": {
    "collapsed": false
   },
   "outputs": [],
   "source": [
    "df['voie_arriere'] = pd.to_numeric(cars_data.voie_arriere.str.split().str[0], errors='coerce')"
   ]
  },
  {
   "cell_type": "code",
   "execution_count": 139,
   "metadata": {
    "collapsed": false
   },
   "outputs": [],
   "source": [
    "df['voie_avant'] = pd.to_numeric(cars_data.voie_avant.str.split().str[0], errors='coerce')"
   ]
  },
  {
   "cell_type": "code",
   "execution_count": 140,
   "metadata": {
    "collapsed": false
   },
   "outputs": [],
   "source": [
    "df['NO_volant_cuir'] = pd.get_dummies(cars_data.volant_cuir.str.replace('\\W+ \\d+.\\d+', 'NO')).iloc[:,0]"
   ]
  },
  {
   "cell_type": "code",
   "execution_count": 141,
   "metadata": {
    "collapsed": false
   },
   "outputs": [],
   "source": [
    "df['NO_volant_reglable'] = pd.get_dummies(cars_data.volant_reglable.str.replace('\\W+ \\d+.\\d+', 'NO')).iloc[:,0]"
   ]
  },
  {
   "cell_type": "code",
   "execution_count": 142,
   "metadata": {
    "collapsed": false
   },
   "outputs": [],
   "source": [
    "df['volume_coffre_min'] = pd.to_numeric(cars_data.volume_coffre.str.split().str[0].str.split('-').str[0],errors='coerce')"
   ]
  },
  {
   "cell_type": "code",
   "execution_count": 143,
   "metadata": {
    "collapsed": false
   },
   "outputs": [],
   "source": [
    "df['volume_coffre_max'] =pd.to_numeric(cars_data.volume_coffre.str.split().str[0].str.split('-').str[1],errors='coerce')"
   ]
  },
  {
   "cell_type": "code",
   "execution_count": 144,
   "metadata": {
    "collapsed": false
   },
   "outputs": [],
   "source": [
    "df['zero_100'] = pd.to_numeric(cars_data.zero_100.str.replace(',','.').str.split().str[0],errors='coerce')"
   ]
  },
  {
   "cell_type": "code",
   "execution_count": 145,
   "metadata": {
    "collapsed": false
   },
   "outputs": [
    {
     "data": {
      "text/html": [
       "<div>\n",
       "<table border=\"1\" class=\"dataframe\">\n",
       "  <thead>\n",
       "    <tr style=\"text-align: right;\">\n",
       "      <th></th>\n",
       "      <th>NO_ABS</th>\n",
       "      <th>NO_accoudoir_central</th>\n",
       "      <th>NO_airbag_conducteur</th>\n",
       "      <th>NO_airbag_lateraux</th>\n",
       "      <th>NO_airbag_passager</th>\n",
       "      <th>NO_airbag_tete_rideau</th>\n",
       "      <th>NO_allumage_auto_feux</th>\n",
       "      <th>NO_antipatinage</th>\n",
       "      <th>NO_appuis_tete_arriere</th>\n",
       "      <th>NO_assistant_freinage</th>\n",
       "      <th>...</th>\n",
       "      <th>vitesse_max</th>\n",
       "      <th>NO_vitres_electriques</th>\n",
       "      <th>NO_vitres_teintees</th>\n",
       "      <th>voie_arriere</th>\n",
       "      <th>voie_avant</th>\n",
       "      <th>NO_volant_cuir</th>\n",
       "      <th>NO_volant_reglable</th>\n",
       "      <th>volume_coffre_min</th>\n",
       "      <th>volume_coffre_max</th>\n",
       "      <th>zero_100</th>\n",
       "    </tr>\n",
       "  </thead>\n",
       "  <tbody>\n",
       "    <tr>\n",
       "      <th>count</th>\n",
       "      <td>64553.000000</td>\n",
       "      <td>64553.000000</td>\n",
       "      <td>64553.000000</td>\n",
       "      <td>64553.000000</td>\n",
       "      <td>64553.000000</td>\n",
       "      <td>64553.000000</td>\n",
       "      <td>64553.000000</td>\n",
       "      <td>64553.000000</td>\n",
       "      <td>64553.000000</td>\n",
       "      <td>64553.000000</td>\n",
       "      <td>...</td>\n",
       "      <td>63142.000000</td>\n",
       "      <td>64553.000000</td>\n",
       "      <td>64553.000000</td>\n",
       "      <td>63883.000000</td>\n",
       "      <td>63883.000000</td>\n",
       "      <td>64553.000000</td>\n",
       "      <td>64553.000000</td>\n",
       "      <td>63601.000000</td>\n",
       "      <td>50167.000000</td>\n",
       "      <td>62103.000000</td>\n",
       "    </tr>\n",
       "    <tr>\n",
       "      <th>mean</th>\n",
       "      <td>0.113023</td>\n",
       "      <td>0.356947</td>\n",
       "      <td>0.114789</td>\n",
       "      <td>0.209254</td>\n",
       "      <td>0.135749</td>\n",
       "      <td>0.338962</td>\n",
       "      <td>0.626555</td>\n",
       "      <td>0.374498</td>\n",
       "      <td>0.142023</td>\n",
       "      <td>0.379812</td>\n",
       "      <td>...</td>\n",
       "      <td>196.260381</td>\n",
       "      <td>0.120723</td>\n",
       "      <td>0.066736</td>\n",
       "      <td>1504.042500</td>\n",
       "      <td>1508.237058</td>\n",
       "      <td>0.373166</td>\n",
       "      <td>0.153316</td>\n",
       "      <td>458.788635</td>\n",
       "      <td>1335.996532</td>\n",
       "      <td>10.913672</td>\n",
       "    </tr>\n",
       "    <tr>\n",
       "      <th>std</th>\n",
       "      <td>0.316624</td>\n",
       "      <td>0.479103</td>\n",
       "      <td>0.318770</td>\n",
       "      <td>0.406780</td>\n",
       "      <td>0.342524</td>\n",
       "      <td>0.473361</td>\n",
       "      <td>0.483723</td>\n",
       "      <td>0.483997</td>\n",
       "      <td>0.349076</td>\n",
       "      <td>0.485344</td>\n",
       "      <td>...</td>\n",
       "      <td>26.773986</td>\n",
       "      <td>0.325807</td>\n",
       "      <td>0.249566</td>\n",
       "      <td>70.235166</td>\n",
       "      <td>67.984290</td>\n",
       "      <td>0.483649</td>\n",
       "      <td>0.360295</td>\n",
       "      <td>456.495450</td>\n",
       "      <td>489.411897</td>\n",
       "      <td>2.854191</td>\n",
       "    </tr>\n",
       "    <tr>\n",
       "      <th>min</th>\n",
       "      <td>0.000000</td>\n",
       "      <td>0.000000</td>\n",
       "      <td>0.000000</td>\n",
       "      <td>0.000000</td>\n",
       "      <td>0.000000</td>\n",
       "      <td>0.000000</td>\n",
       "      <td>0.000000</td>\n",
       "      <td>0.000000</td>\n",
       "      <td>0.000000</td>\n",
       "      <td>0.000000</td>\n",
       "      <td>...</td>\n",
       "      <td>80.000000</td>\n",
       "      <td>0.000000</td>\n",
       "      <td>0.000000</td>\n",
       "      <td>1080.000000</td>\n",
       "      <td>140.000000</td>\n",
       "      <td>0.000000</td>\n",
       "      <td>0.000000</td>\n",
       "      <td>31.000000</td>\n",
       "      <td>145.000000</td>\n",
       "      <td>2.700000</td>\n",
       "    </tr>\n",
       "    <tr>\n",
       "      <th>25%</th>\n",
       "      <td>0.000000</td>\n",
       "      <td>0.000000</td>\n",
       "      <td>0.000000</td>\n",
       "      <td>0.000000</td>\n",
       "      <td>0.000000</td>\n",
       "      <td>0.000000</td>\n",
       "      <td>0.000000</td>\n",
       "      <td>0.000000</td>\n",
       "      <td>0.000000</td>\n",
       "      <td>0.000000</td>\n",
       "      <td>...</td>\n",
       "      <td>177.000000</td>\n",
       "      <td>0.000000</td>\n",
       "      <td>0.000000</td>\n",
       "      <td>1461.000000</td>\n",
       "      <td>1465.000000</td>\n",
       "      <td>0.000000</td>\n",
       "      <td>0.000000</td>\n",
       "      <td>335.000000</td>\n",
       "      <td>1032.000000</td>\n",
       "      <td>9.000000</td>\n",
       "    </tr>\n",
       "    <tr>\n",
       "      <th>50%</th>\n",
       "      <td>0.000000</td>\n",
       "      <td>0.000000</td>\n",
       "      <td>0.000000</td>\n",
       "      <td>0.000000</td>\n",
       "      <td>0.000000</td>\n",
       "      <td>0.000000</td>\n",
       "      <td>1.000000</td>\n",
       "      <td>0.000000</td>\n",
       "      <td>0.000000</td>\n",
       "      <td>0.000000</td>\n",
       "      <td>...</td>\n",
       "      <td>194.000000</td>\n",
       "      <td>0.000000</td>\n",
       "      <td>0.000000</td>\n",
       "      <td>1513.000000</td>\n",
       "      <td>1518.000000</td>\n",
       "      <td>0.000000</td>\n",
       "      <td>0.000000</td>\n",
       "      <td>435.000000</td>\n",
       "      <td>1283.000000</td>\n",
       "      <td>10.800000</td>\n",
       "    </tr>\n",
       "    <tr>\n",
       "      <th>75%</th>\n",
       "      <td>0.000000</td>\n",
       "      <td>1.000000</td>\n",
       "      <td>0.000000</td>\n",
       "      <td>0.000000</td>\n",
       "      <td>0.000000</td>\n",
       "      <td>1.000000</td>\n",
       "      <td>1.000000</td>\n",
       "      <td>1.000000</td>\n",
       "      <td>0.000000</td>\n",
       "      <td>1.000000</td>\n",
       "      <td>...</td>\n",
       "      <td>213.000000</td>\n",
       "      <td>0.000000</td>\n",
       "      <td>0.000000</td>\n",
       "      <td>1551.000000</td>\n",
       "      <td>1549.000000</td>\n",
       "      <td>1.000000</td>\n",
       "      <td>0.000000</td>\n",
       "      <td>500.000000</td>\n",
       "      <td>1584.000000</td>\n",
       "      <td>12.500000</td>\n",
       "    </tr>\n",
       "    <tr>\n",
       "      <th>max</th>\n",
       "      <td>1.000000</td>\n",
       "      <td>1.000000</td>\n",
       "      <td>1.000000</td>\n",
       "      <td>1.000000</td>\n",
       "      <td>1.000000</td>\n",
       "      <td>1.000000</td>\n",
       "      <td>1.000000</td>\n",
       "      <td>1.000000</td>\n",
       "      <td>1.000000</td>\n",
       "      <td>1.000000</td>\n",
       "      <td>...</td>\n",
       "      <td>330.000000</td>\n",
       "      <td>1.000000</td>\n",
       "      <td>1.000000</td>\n",
       "      <td>1790.000000</td>\n",
       "      <td>1810.000000</td>\n",
       "      <td>1.000000</td>\n",
       "      <td>1.000000</td>\n",
       "      <td>10800.000000</td>\n",
       "      <td>4650.000000</td>\n",
       "      <td>35.000000</td>\n",
       "    </tr>\n",
       "  </tbody>\n",
       "</table>\n",
       "<p>8 rows × 185 columns</p>\n",
       "</div>"
      ],
      "text/plain": [
       "             NO_ABS  NO_accoudoir_central  NO_airbag_conducteur  \\\n",
       "count  64553.000000          64553.000000          64553.000000   \n",
       "mean       0.113023              0.356947              0.114789   \n",
       "std        0.316624              0.479103              0.318770   \n",
       "min        0.000000              0.000000              0.000000   \n",
       "25%        0.000000              0.000000              0.000000   \n",
       "50%        0.000000              0.000000              0.000000   \n",
       "75%        0.000000              1.000000              0.000000   \n",
       "max        1.000000              1.000000              1.000000   \n",
       "\n",
       "       NO_airbag_lateraux  NO_airbag_passager  NO_airbag_tete_rideau  \\\n",
       "count        64553.000000        64553.000000           64553.000000   \n",
       "mean             0.209254            0.135749               0.338962   \n",
       "std              0.406780            0.342524               0.473361   \n",
       "min              0.000000            0.000000               0.000000   \n",
       "25%              0.000000            0.000000               0.000000   \n",
       "50%              0.000000            0.000000               0.000000   \n",
       "75%              0.000000            0.000000               1.000000   \n",
       "max              1.000000            1.000000               1.000000   \n",
       "\n",
       "       NO_allumage_auto_feux  NO_antipatinage  NO_appuis_tete_arriere  \\\n",
       "count           64553.000000     64553.000000            64553.000000   \n",
       "mean                0.626555         0.374498                0.142023   \n",
       "std                 0.483723         0.483997                0.349076   \n",
       "min                 0.000000         0.000000                0.000000   \n",
       "25%                 0.000000         0.000000                0.000000   \n",
       "50%                 1.000000         0.000000                0.000000   \n",
       "75%                 1.000000         1.000000                0.000000   \n",
       "max                 1.000000         1.000000                1.000000   \n",
       "\n",
       "       NO_assistant_freinage      ...        vitesse_max  \\\n",
       "count           64553.000000      ...       63142.000000   \n",
       "mean                0.379812      ...         196.260381   \n",
       "std                 0.485344      ...          26.773986   \n",
       "min                 0.000000      ...          80.000000   \n",
       "25%                 0.000000      ...         177.000000   \n",
       "50%                 0.000000      ...         194.000000   \n",
       "75%                 1.000000      ...         213.000000   \n",
       "max                 1.000000      ...         330.000000   \n",
       "\n",
       "       NO_vitres_electriques  NO_vitres_teintees  voie_arriere    voie_avant  \\\n",
       "count           64553.000000        64553.000000  63883.000000  63883.000000   \n",
       "mean                0.120723            0.066736   1504.042500   1508.237058   \n",
       "std                 0.325807            0.249566     70.235166     67.984290   \n",
       "min                 0.000000            0.000000   1080.000000    140.000000   \n",
       "25%                 0.000000            0.000000   1461.000000   1465.000000   \n",
       "50%                 0.000000            0.000000   1513.000000   1518.000000   \n",
       "75%                 0.000000            0.000000   1551.000000   1549.000000   \n",
       "max                 1.000000            1.000000   1790.000000   1810.000000   \n",
       "\n",
       "       NO_volant_cuir  NO_volant_reglable  volume_coffre_min  \\\n",
       "count    64553.000000        64553.000000       63601.000000   \n",
       "mean         0.373166            0.153316         458.788635   \n",
       "std          0.483649            0.360295         456.495450   \n",
       "min          0.000000            0.000000          31.000000   \n",
       "25%          0.000000            0.000000         335.000000   \n",
       "50%          0.000000            0.000000         435.000000   \n",
       "75%          1.000000            0.000000         500.000000   \n",
       "max          1.000000            1.000000       10800.000000   \n",
       "\n",
       "       volume_coffre_max      zero_100  \n",
       "count       50167.000000  62103.000000  \n",
       "mean         1335.996532     10.913672  \n",
       "std           489.411897      2.854191  \n",
       "min           145.000000      2.700000  \n",
       "25%          1032.000000      9.000000  \n",
       "50%          1283.000000     10.800000  \n",
       "75%          1584.000000     12.500000  \n",
       "max          4650.000000     35.000000  \n",
       "\n",
       "[8 rows x 185 columns]"
      ]
     },
     "execution_count": 145,
     "metadata": {},
     "output_type": "execute_result"
    }
   ],
   "source": [
    "df.describe()"
   ]
  },
  {
   "cell_type": "code",
   "execution_count": 150,
   "metadata": {
    "collapsed": false
   },
   "outputs": [],
   "source": [
    "df.to_csv(\"carsdata_features.csv\",encoding='utf-8', index=False)"
   ]
  },
  {
   "cell_type": "code",
   "execution_count": 151,
   "metadata": {
    "collapsed": false
   },
   "outputs": [
    {
     "data": {
      "text/plain": [
       "NO_ABS                                       uint8\n",
       "NO_accoudoir_central                         uint8\n",
       "NO_airbag_conducteur                         uint8\n",
       "NO_airbag_lateraux                           uint8\n",
       "NO_airbag_passager                           uint8\n",
       "NO_airbag_tete_rideau                        uint8\n",
       "alesage_mm                                 float64\n",
       "course_piston_mm                           float64\n",
       "NO_allumage_auto_feux                        uint8\n",
       "NO_antipatinage                              uint8\n",
       "NO_appuis_tete_arriere                       uint8\n",
       "NO_assistant_freinage                        uint8\n",
       "NO_banquette_arriere_rabattable              uint8\n",
       "NO_blocage_differentiel                      uint8\n",
       "NO_bluetooth                                 uint8\n",
       "capacite_charge_max_kg                     float64\n",
       "capacite_moteur_cc                         float64\n",
       "NO_capteur_stationnement                     uint8\n",
       "NO_capteur_temp_liquide_refroidissement      uint8\n",
       "LPG_carburant                                uint8\n",
       "bio_ethanol_carburant                        uint8\n",
       "diesel_carburant                             uint8\n",
       "natural_gas_carburant                        uint8\n",
       "catalyseur_onregular                         uint8\n",
       "catalyseur_part_filter                       uint8\n",
       "catalyseur_egular                            uint8\n",
       "No_clim_bizone                               uint8\n",
       "NO_climatisation                             uint8\n",
       "NO_commande_audio_volant                     uint8\n",
       "compteur_jours                               uint8\n",
       "                                            ...   \n",
       "twincharger                                  uint8\n",
       "turbocharger_w_intercooler                   uint8\n",
       "bus                                          uint8\n",
       "cabriolet                                    uint8\n",
       "coupe                                        uint8\n",
       "hatchback                                    uint8\n",
       "mpv                                          uint8\n",
       "pickup                                       uint8\n",
       "sedan                                        uint8\n",
       "stationwagon                                 uint8\n",
       "suv_crossover                                uint8\n",
       "electromagnetic_synchronous_motor            uint8\n",
       "valvetrain_ohc                               uint8\n",
       "valvetrain_ohv                               uint8\n",
       "permanent_magnet_synchronous_motor           uint8\n",
       "NO_verre_intim_arriere                       uint8\n",
       "vitesse_1ere                               float64\n",
       "vitesse_2eme                               float64\n",
       "vitesse_3eme                               float64\n",
       "vitesse_4eme                               float64\n",
       "vitesse_max                                float64\n",
       "NO_vitres_electriques                        uint8\n",
       "NO_vitres_teintees                           uint8\n",
       "voie_arriere                               float64\n",
       "voie_avant                                 float64\n",
       "NO_volant_cuir                               uint8\n",
       "NO_volant_reglable                           uint8\n",
       "volume_coffre_min                          float64\n",
       "volume_coffre_max                          float64\n",
       "zero_100                                   float64\n",
       "dtype: object"
      ]
     },
     "execution_count": 151,
     "metadata": {},
     "output_type": "execute_result"
    }
   ],
   "source": [
    "df.dtypes"
   ]
  },
  {
   "cell_type": "code",
   "execution_count": null,
   "metadata": {
    "collapsed": true
   },
   "outputs": [],
   "source": []
  }
 ],
 "metadata": {
  "kernelspec": {
   "display_name": "Python 2",
   "language": "python",
   "name": "python2"
  },
  "language_info": {
   "codemirror_mode": {
    "name": "ipython",
    "version": 2
   },
   "file_extension": ".py",
   "mimetype": "text/x-python",
   "name": "python",
   "nbconvert_exporter": "python",
   "pygments_lexer": "ipython2",
   "version": "2.7.11"
  }
 },
 "nbformat": 4,
 "nbformat_minor": 0
}
