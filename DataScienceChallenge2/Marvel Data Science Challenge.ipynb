{
 "cells": [
  {
   "cell_type": "markdown",
   "metadata": {},
   "source": [
    "# Data Science Challenge\n",
    "\n"
   ]
  },
  {
   "cell_type": "markdown",
   "metadata": {},
   "source": [
    "Marvel universe graph: [link](http://bioinfo.uib.es/~joemiro/marvel/porgat.txt)\n",
    "Graph of all the characters and comic books in which they appeared.\n",
    "* Which character has the most interactions with others ?\n",
    "* Which commics contains the most characters ?\n",
    "* Which character is the most recurrent ?\n",
    "* Which character associations are the most frequent ? and the least frequent ? \n",
    "\n",
    "[marvel wikia dumps](http://s3.amazonaws.com/wikia_xml_dumps/e/en/enmarveldatabase_pages_current.xml.7z)\n",
    "Some useful info about all marvel characters. Is there any interesting infos to complement the Marvel Universe graph?"
   ]
  },
  {
   "cell_type": "code",
   "execution_count": 40,
   "metadata": {
    "collapsed": true
   },
   "outputs": [],
   "source": [
    "#Connexion à la bdd\n",
    "from py2neo import Graph, authenticate, Relationship\n",
    "graph = Graph()\n",
    "authenticate(\"localhost:7474\",\"neo4j\", \"admin\")"
   ]
  },
  {
   "cell_type": "code",
   "execution_count": 41,
   "metadata": {
    "collapsed": false
   },
   "outputs": [],
   "source": [
    "#Creation des noeuds\n",
    "import csv\n",
    "with open(\"vertices.csv\",\"r\") as f:\n",
    "    vertices_data = [(line[0], ''.join(line[1:])) for line in csv.reader(f, delimiter=',')]\n",
    "\n",
    "for vertice in vertices_data[:6486]:\n",
    "    graph.cypher.execute('''\n",
    "    CREATE (c: character {number:{I}, name:{N}})\n",
    "    RETURN c\n",
    "    ''', {\"I\":vertice[0], \"N\":vertice[1]})\n",
    "for vertice in vertices_data[6485:]:\n",
    "    graph.cypher.execute('''\n",
    "    CREATE (c: comics {number: {I}, name:{N}})\n",
    "    RETURN c\n",
    "    ''', {\"I\":vertice[0], \"N\":vertice[1]})"
   ]
  },
  {
   "cell_type": "code",
   "execution_count": 48,
   "metadata": {
    "collapsed": false
   },
   "outputs": [],
   "source": [
    "#Creation des relations entre character et comics\n",
    "with open(\"edges.csv\",'r') as f:\n",
    "    edges_data = [list(line) for line in csv.reader(f,delimiter=',')]\n",
    "\n",
    "for edges in edges_data:\n",
    "    for dest in edges[1:]:\n",
    "        graph.cypher.execute('''\n",
    "        MATCH (c : character {number: {I}}),\n",
    "              (x : comics {number: {N}})\n",
    "        MERGE (c)-[r:APPEARS_IN]->(x)\n",
    "        RETURN r\n",
    "        ''', {\"I\": edges[0], \"N\": dest})"
   ]
  },
  {
   "cell_type": "code",
   "execution_count": null,
   "metadata": {
    "collapsed": true
   },
   "outputs": [],
   "source": []
  }
 ],
 "metadata": {
  "kernelspec": {
   "display_name": "Python 2",
   "language": "python",
   "name": "python2"
  },
  "language_info": {
   "codemirror_mode": {
    "name": "ipython",
    "version": 2
   },
   "file_extension": ".py",
   "mimetype": "text/x-python",
   "name": "python",
   "nbconvert_exporter": "python",
   "pygments_lexer": "ipython2",
   "version": "2.7.11"
  }
 },
 "nbformat": 4,
 "nbformat_minor": 0
}
