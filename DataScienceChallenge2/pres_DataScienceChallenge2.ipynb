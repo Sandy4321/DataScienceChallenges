{
 "cells": [
  {
   "cell_type": "markdown",
   "metadata": {
    "slideshow": {
     "slide_type": "slide"
    }
   },
   "source": [
    "![Marvel_Heros](marvel_heros.jpg)"
   ]
  },
  {
   "cell_type": "markdown",
   "metadata": {
    "slideshow": {
     "slide_type": "subslide"
    }
   },
   "source": [
    "## DataScienceChallenge 2\n",
    "### _ Marvel Social Graph _\n",
    "\n",
    "Les héros Marvel et les comics dans lesquels ils apparaissent ont été enrregistrés dans une base de données en graph (Neo4J). Ce type de base de données permet de stocker et requèter efficacement les relations (edges) entre ces éléments (noeuds).\n",
    "\n",
    "Le langage de programmation est appelé Cypher. Voici un exemple de requète:\n",
    "\n",
    "```cypher\n",
    "MATCH (:character)-[relation]->(:comics)\n",
    "RETURN * LIMIT 1\n",
    "```\n",
    "\n"
   ]
  },
  {
   "cell_type": "markdown",
   "metadata": {
    "slideshow": {
     "slide_type": "slide"
    }
   },
   "source": [
    "## 1 - Quel comics contiennent le plus de personnages ?"
   ]
  },
  {
   "cell_type": "code",
   "execution_count": 2,
   "metadata": {
    "collapsed": true,
    "slideshow": {
     "slide_type": "skip"
    }
   },
   "outputs": [],
   "source": [
    "#Connexion à la bdd\n",
    "from py2neo import Graph, authenticate, Relationship\n",
    "graph = Graph()\n",
    "authenticate(\"localhost:7474\",\"neo4j\", \"admin\")\n"
   ]
  },
  {
   "cell_type": "code",
   "execution_count": 3,
   "metadata": {
    "collapsed": false,
    "slideshow": {
     "slide_type": "subslide"
    }
   },
   "outputs": [
    {
     "data": {
      "text/plain": [
       "   | COMICS               | NB_APP\n",
       "---+----------------------+--------\n",
       " 1 | COC 1                |    111\n",
       " 2 | MARVEL MYSTERY COMIC |     92\n",
       " 3 | IW 3                 |     91\n",
       " 4 | IW 1                 |     90\n",
       " 5 | H2 279               |     87"
      ]
     },
     "execution_count": 3,
     "metadata": {},
     "output_type": "execute_result"
    }
   ],
   "source": [
    "#Execution de la requète grâce à l'API py2neo\n",
    "graph.cypher.execute('''\n",
    "MATCH (c:character)-[r]->(x:comics)\n",
    "WITH DISTINCT(x.name) AS COMICS, COUNT(r) AS NB_APP\n",
    "ORDER BY NB_APP DESC \n",
    "RETURN COMICS, NB_APP LIMIT 5\n",
    "''')"
   ]
  },
  {
   "cell_type": "markdown",
   "metadata": {
    "slideshow": {
     "slide_type": "fragment"
    }
   },
   "source": [
    "|      1          |     2        |        3        |        4        |       5         |\n",
    "|:---------------:|:------------:|:---------------:|:---------------:|:---------------:|\n",
    "|![coc1](coc1.jpg)|![MARVEL_MYSTERY_COMIC](MARVEL_MYSTERY_COMIC.jpg)|![IW3](IW3.jpg)|![IW1](IW1.jpg)|![H2 279](H2_279.jpg)|"
   ]
  },
  {
   "cell_type": "markdown",
   "metadata": {
    "collapsed": true,
    "slideshow": {
     "slide_type": "slide"
    }
   },
   "source": [
    "## 2 - Quels personnages apparaissent le plus souvent ?\n",
    "Plus le personnage est ancien et plus il a de chances d'apparaître dans de nombreux comics."
   ]
  },
  {
   "cell_type": "code",
   "execution_count": 7,
   "metadata": {
    "collapsed": false,
    "slideshow": {
     "slide_type": "subslide"
    }
   },
   "outputs": [
    {
     "data": {
      "text/plain": [
       "   | PERSONNAGE           | NB_APP\n",
       "---+----------------------+--------\n",
       " 1 | SPIDER-MAN/PETER PAR |   1625\n",
       " 2 | CAPTAIN AMERICA      |   1367\n",
       " 3 | IRON MAN/TONY STARK, |   1168\n",
       " 4 | THING/BENJAMIN J. GR |    990\n",
       " 5 | THOR/DR. DONALD BLAK |    965"
      ]
     },
     "execution_count": 7,
     "metadata": {},
     "output_type": "execute_result"
    }
   ],
   "source": [
    "graph.cypher.execute('''\n",
    "MATCH (c:character)-[r:APPEARS_IN]->(:comics)\n",
    "WITH DISTINCT(c.name) AS PERSONNAGE, COUNT(r) AS NB_APP\n",
    "ORDER BY NB_APP DESC\n",
    "RETURN PERSONNAGE, NB_APP LIMIT 5\n",
    "''')"
   ]
  },
  {
   "cell_type": "markdown",
   "metadata": {
    "slideshow": {
     "slide_type": "fragment"
    }
   },
   "source": [
    "| 1  |  2  |  3  |   4  |   5   |\n",
    "|:---:|:---:|:---:|:---:|:---:|\n",
    "|![spiderman](spiderman.jpg)|![captain_america](captain_america.jpg)|![ironman](ironman.jpg) |![thing](thing.jpg)|![thor](thor.jpg)|"
   ]
  },
  {
   "cell_type": "markdown",
   "metadata": {
    "slideshow": {
     "slide_type": "slide"
    }
   },
   "source": [
    "## 3 - Quels groupes de personnages peut-on identifier ?\n",
    "Certains personnages, tels que les heros et vilains, apparaissent souvent ensembles. On peut utiliser des algorithmes de clustering pour identifier ces groupes. L'une des difficulté est qu'on ne connait pas à l'avance le nombre de clusters et l'application d'un algorithme classique (K-means) devient difficile.\n",
    "L'agorithme d'Affinity Propagation permet de prédire des cluster sans connaitre apriori le nombre de cluster."
   ]
  },
  {
   "cell_type": "code",
   "execution_count": 8,
   "metadata": {
    "collapsed": true,
    "slideshow": {
     "slide_type": "skip"
    }
   },
   "outputs": [],
   "source": [
    "from py2neo.packages.httpstream import http\n",
    "http.socket_timeout = 9999   # fix for the socket timeout error\n",
    "\n",
    "#graph.cypher.execute('''\n",
    "#    MATCH (m:character)-[r:APPEARS_IN]->(:comics)\n",
    "#    WITH m, COUNT(DISTINCT r) AS nb_tar\n",
    "#    SET m.NB_COMICS = nb_tar;\n",
    "#''')\n",
    "\n",
    "#calul des distances de Jaccard\n",
    "#graph.cypher.execute('''\n",
    "#    MATCH (c1:character)-[r1:APPEARS_IN]->(n:comics)<-[r2:APPEARS_IN]-(c2:character)\n",
    "#    WITH c1, c2,tofloat(c1.NB_COMICS) AS c1_tar,tofloat(c2.NB_COMICS) AS c2_tar, tofloat(COUNT(DISTINCT n)) AS nb_tar\n",
    "#    WHERE c1.name <> c2.name\n",
    "#    WITH c1,c2,(1-nb_tar/(c1_tar + c2_tar - nb_tar)) AS Jaccard\n",
    "#    CREATE UNIQUE (c1)-[:DISTANCE {JACCARD:Jaccard}]-(c2);\n",
    "#''')\n",
    "\n",
    "#extraction des paires et leur distance\n",
    "pers_paires = graph.cypher.execute('''\n",
    "    MATCH (c1:character)-[d:DISTANCE]->(c2:character)\n",
    "    WITH c1,c2,d\n",
    "    WHERE c1.name <> c2.name\n",
    "    RETURN c1.name AS PERSONNAGE1, c2.name AS PERSONNAGE2, d.JACCARD AS DISTANCE;\n",
    "''')\n",
    "\n",
    "#Creation de la liste de reference des personnages\n",
    "pers = []\n",
    "for pair in pers_paires:\n",
    "    if pair[0] not in pers:\n",
    "        pers.append(pair[0])\n",
    "    if pair[1] not in pers:\n",
    "        pers.append(pair[1])\n",
    "        \n",
    "#on stock les personnages dans une dataframe\n",
    "import pandas as pd\n",
    "pers_df = pd.DataFrame(pers, columns=[\"Personnage\"])\n",
    "\n",
    "#creation d'une matrice\n",
    "import numpy as np\n",
    "len_mat = len(pers)\n",
    "mat = np.empty([len_mat,len_mat], dtype=float)\n",
    "mat.fill(-100.0)\n",
    "\n",
    "#remplissage de la matrice en suivant l'ordre des personnages de la df\n",
    "for pair in pers_paires:\n",
    "    mat[np.where(pers_df.Personnage == pair[0]), np.where(pers_df.Personnage == pair[1])] = -100 * pair[2]\n",
    "    \n",
    "#la distance d'un personnage avec lui-meme est 0\n",
    "np.fill_diagonal(mat,0.0)\n",
    "\n"
   ]
  },
  {
   "cell_type": "code",
   "execution_count": 9,
   "metadata": {
    "collapsed": false,
    "slideshow": {
     "slide_type": "subslide"
    }
   },
   "outputs": [
    {
     "data": {
      "text/plain": [
       "1768"
      ]
     },
     "execution_count": 9,
     "metadata": {},
     "output_type": "execute_result"
    }
   ],
   "source": [
    "from sklearn.cluster import AffinityPropagation\n",
    "af = AffinityPropagation(preference = np.median(mat), affinity = \"precomputed\")\n",
    "af.fit(mat)\n",
    "\n",
    "#stockage des labels des clusters pour chaque personnage\n",
    "pers_df[\"cluster\"] = af.labels_\n",
    "\n",
    "#combien de clusters?\n",
    "len(af.cluster_centers_indices_)"
   ]
  },
  {
   "cell_type": "code",
   "execution_count": 10,
   "metadata": {
    "collapsed": true,
    "slideshow": {
     "slide_type": "skip"
    }
   },
   "outputs": [],
   "source": [
    "#nombre de personnages par clusters\n",
    "pers_per_cl = []\n",
    "for i in range(1768):\n",
    "    nb_pers = len(pers_df.loc[pers_df.cluster == i,:])\n",
    "    pers_per_cl.append([i,nb_pers])\n",
    "pers_per_cl\n",
    "\n",
    "#on rassemble cette info dans une dataframe\n",
    "cl_df = pd.DataFrame(pers_per_cl,columns=[\"cluster_nb\",\"nb_pers\"])\n"
   ]
  },
  {
   "cell_type": "markdown",
   "metadata": {
    "slideshow": {
     "slide_type": "subslide"
    }
   },
   "source": [
    "### Quelle est la taille des clusters ?"
   ]
  },
  {
   "cell_type": "code",
   "execution_count": 11,
   "metadata": {
    "collapsed": false,
    "slideshow": {
     "slide_type": "fragment"
    }
   },
   "outputs": [
    {
     "data": {
      "image/png": "[encoded data removed]",
      "text/plain": [
       "<matplotlib.figure.Figure at 0x9972400>"
      ]
     },
     "metadata": {},
     "output_type": "display_data"
    }
   ],
   "source": [
    "%matplotlib inline\n",
    "import seaborn\n",
    "import matplotlib.pyplot as plt\n",
    "\n",
    "cl_df.nb_pers.plot.density()\n",
    "plt.show()"
   ]
  },
  {
   "cell_type": "markdown",
   "metadata": {
    "slideshow": {
     "slide_type": "slide"
    }
   },
   "source": [
    "## Conclusion\n",
    "\n",
    "Le réseau social des héros Marvel est un réseau artificiel qui ne peut pas simuler correctement un réseau réel. On observe un grand nombre de clusters de très petite taille.\n",
    "Une autre mesure de la qualité du clustering (coverage) indique que ce réseau est assès éloigné d'un réseau naturel.\n",
    "\n",
    "Finalement, les héros Marvel interagissent très peu les uns avec les autres!"
   ]
  },
  {
   "cell_type": "code",
   "execution_count": null,
   "metadata": {
    "collapsed": true
   },
   "outputs": [],
   "source": []
  }
 ],
 "metadata": {
  "celltoolbar": "Slideshow",
  "kernelspec": {
   "display_name": "Python 2",
   "language": "python",
   "name": "python2"
  },
  "language_info": {
   "codemirror_mode": {
    "name": "ipython",
    "version": 2
   },
   "file_extension": ".py",
   "mimetype": "text/x-python",
   "name": "python",
   "nbconvert_exporter": "python",
   "pygments_lexer": "ipython2",
   "version": "2.7.11"
  }
 },
 "nbformat": 4,
 "nbformat_minor": 0
}
