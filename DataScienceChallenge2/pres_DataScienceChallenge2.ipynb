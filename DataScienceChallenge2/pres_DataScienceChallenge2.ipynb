{
 "cells": [
  {
   "cell_type": "markdown",
   "metadata": {
    "slideshow": {
     "slide_type": "slide"
    }
   },
   "source": [
    "![Marvel_Heros](marvel_heros.jpg)"
   ]
  },
  {
   "cell_type": "markdown",
   "metadata": {
    "slideshow": {
     "slide_type": "subslide"
    }
   },
   "source": [
    "## DataScienceChallenge 2\n",
    "### _ Marvel Social Graph _\n",
    "\n",
    "Les héros Marvel et les comics dans lequels ils apparaissent ont été enrregistrés dans une base de données en graph (Neo4J). Ce type de base de données permet de stocker et requèter efficacement les relations entre ces éléments (noeuds).\n",
    "\n",
    "Le langage de programmation est appelé Cypher. Voici un exemple de requète:\n",
    "\n",
    "```cypher\n",
    "MATCH (:character)-[relation]->(comics)\n",
    "RETURN * LIMIT 1\n",
    "```\n",
    "\n"
   ]
  },
  {
   "cell_type": "markdown",
   "metadata": {
    "slideshow": {
     "slide_type": "slide"
    }
   },
   "source": [
    "### 1 - Quel comics contiennent le plus de personnages ?"
   ]
  },
  {
   "cell_type": "code",
   "execution_count": 2,
   "metadata": {
    "collapsed": true,
    "slideshow": {
     "slide_type": "skip"
    }
   },
   "outputs": [],
   "source": [
    "#Connexion à la bdd\n",
    "from py2neo import Graph, authenticate, Relationship\n",
    "graph = Graph()\n",
    "authenticate(\"localhost:7474\",\"neo4j\", \"admin\")\n"
   ]
  },
  {
   "cell_type": "code",
   "execution_count": 5,
   "metadata": {
    "collapsed": false,
    "slideshow": {
     "slide_type": "subslide"
    }
   },
   "outputs": [
    {
     "data": {
      "text/plain": [
       "   | COMICS               | NB_APP\n",
       "---+----------------------+--------\n",
       " 1 | COC 1                |    111\n",
       " 2 | MARVEL MYSTERY COMIC |     92\n",
       " 3 | IW 3                 |     91\n",
       " 4 | IW 1                 |     90\n",
       " 5 | H2 279               |     87"
      ]
     },
     "execution_count": 5,
     "metadata": {},
     "output_type": "execute_result"
    }
   ],
   "source": [
    "graph.cypher.execute('''\n",
    "MATCH (c:character)-[r]->(x:comics)\n",
    "WITH DISTINCT(x.name) AS COMICS, COUNT(r) AS NB_APP\n",
    "ORDER BY NB_APP DESC \n",
    "RETURN COMICS, NB_APP LIMIT 5\n",
    "''')"
   ]
  },
  {
   "cell_type": "code",
   "execution_count": null,
   "metadata": {
    "collapsed": true
   },
   "outputs": [],
   "source": []
  }
 ],
 "metadata": {
  "celltoolbar": "Slideshow",
  "kernelspec": {
   "display_name": "Python 2",
   "language": "python",
   "name": "python2"
  },
  "language_info": {
   "codemirror_mode": {
    "name": "ipython",
    "version": 2
   },
   "file_extension": ".py",
   "mimetype": "text/x-python",
   "name": "python",
   "nbconvert_exporter": "python",
   "pygments_lexer": "ipython2",
   "version": "2.7.12"
  }
 },
 "nbformat": 4,
 "nbformat_minor": 0
}
