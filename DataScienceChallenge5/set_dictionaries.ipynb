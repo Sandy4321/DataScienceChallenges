{
 "cells": [
  {
   "cell_type": "code",
   "execution_count": 1,
   "metadata": {
    "collapsed": true
   },
   "outputs": [],
   "source": [
    "import sys\n",
    "import os"
   ]
  },
  {
   "cell_type": "code",
   "execution_count": 45,
   "metadata": {
    "collapsed": false
   },
   "outputs": [
    {
     "data": {
      "text/plain": [
       "['afrikaans.ebook',\n",
       " 'arapaho.ebook',\n",
       " 'breton.ebook',\n",
       " 'calo.ebook',\n",
       " 'catalan.ebook',\n",
       " 'cebuano.ebook',\n",
       " 'czech.ebook',\n",
       " 'danish.ebook',\n",
       " 'dutch.ebook',\n",
       " 'english.ebook',\n",
       " 'esperanto.ebook',\n",
       " 'estonian.ebook',\n",
       " 'finnish.ebook',\n",
       " 'french.ebook',\n",
       " 'frisian.ebook',\n",
       " 'friulian.ebook',\n",
       " 'gaelic.ebook',\n",
       " 'galician.ebook',\n",
       " 'german.ebook',\n",
       " 'hugarian.ebook',\n",
       " 'icelandic.ebook',\n",
       " 'interlingua.ebook',\n",
       " 'inuktitut.ebook',\n",
       " 'irish.ebook',\n",
       " 'italian.ebook',\n",
       " 'kashubian.ebook',\n",
       " 'latin.ebook',\n",
       " 'lloko.ebook',\n",
       " 'maori.ebook',\n",
       " 'mayan.ebook',\n",
       " 'north-american-indian.ebook',\n",
       " 'norwegian.ebook',\n",
       " 'occitan.ebook',\n",
       " 'polish.ebook',\n",
       " 'portugese.ebook',\n",
       " 'romanian.ebook',\n",
       " 'sanskrit.ebook',\n",
       " 'slovenian.ebook',\n",
       " 'spanish.ebook',\n",
       " 'swedish.ebook',\n",
       " 'tagalog.ebook',\n",
       " 'welsh.ebook']"
      ]
     },
     "execution_count": 45,
     "metadata": {},
     "output_type": "execute_result"
    }
   ],
   "source": [
    "(_, _, filenames) in os.walk(\"books/\")\n",
    "filenames"
   ]
  },
  {
   "cell_type": "code",
   "execution_count": 16,
   "metadata": {
    "collapsed": false
   },
   "outputs": [],
   "source": [
    "#create a dict of all languages\n",
    "languages_index = dict()\n",
    "languages_dict = dict()\n",
    "for i,filename in enumerate(filenames):\n",
    "    l = filename.split('.')[0]\n",
    "    languages_index[i] = l\n",
    "    languages_dict[l] = []"
   ]
  },
  {
   "cell_type": "code",
   "execution_count": 17,
   "metadata": {
    "collapsed": false
   },
   "outputs": [
    {
     "data": {
      "text/plain": [
       "{0: 'afrikaans',\n",
       " 1: 'arapaho',\n",
       " 2: 'breton',\n",
       " 3: 'calo',\n",
       " 4: 'catalan',\n",
       " 5: 'cebuano',\n",
       " 6: 'czech',\n",
       " 7: 'danish',\n",
       " 8: 'dutch',\n",
       " 9: 'english',\n",
       " 10: 'esperanto',\n",
       " 11: 'estonian',\n",
       " 12: 'finnish',\n",
       " 13: 'french',\n",
       " 14: 'frisian',\n",
       " 15: 'friulian',\n",
       " 16: 'gaelic',\n",
       " 17: 'galician',\n",
       " 18: 'german',\n",
       " 19: 'hugarian',\n",
       " 20: 'icelandic',\n",
       " 21: 'interlingua',\n",
       " 22: 'inuktitut',\n",
       " 23: 'irish',\n",
       " 24: 'italian',\n",
       " 25: 'kashubian',\n",
       " 26: 'latin',\n",
       " 27: 'lloko',\n",
       " 28: 'maori',\n",
       " 29: 'mayan',\n",
       " 30: 'north-american-indian',\n",
       " 31: 'norwegian',\n",
       " 32: 'occitan',\n",
       " 33: 'polish',\n",
       " 34: 'portugese',\n",
       " 35: 'romanian',\n",
       " 36: 'sanskrit',\n",
       " 37: 'slovenian',\n",
       " 38: 'spanish',\n",
       " 39: 'swedish',\n",
       " 40: 'tagalog',\n",
       " 41: 'welsh'}"
      ]
     },
     "execution_count": 17,
     "metadata": {},
     "output_type": "execute_result"
    }
   ],
   "source": [
    "languages_index"
   ]
  },
  {
   "cell_type": "code",
   "execution_count": 18,
   "metadata": {
    "collapsed": false
   },
   "outputs": [
    {
     "data": {
      "text/plain": [
       "{'afrikaans': [],\n",
       " 'arapaho': [],\n",
       " 'breton': [],\n",
       " 'calo': [],\n",
       " 'catalan': [],\n",
       " 'cebuano': [],\n",
       " 'czech': [],\n",
       " 'danish': [],\n",
       " 'dutch': [],\n",
       " 'english': [],\n",
       " 'esperanto': [],\n",
       " 'estonian': [],\n",
       " 'finnish': [],\n",
       " 'french': [],\n",
       " 'frisian': [],\n",
       " 'friulian': [],\n",
       " 'gaelic': [],\n",
       " 'galician': [],\n",
       " 'german': [],\n",
       " 'hugarian': [],\n",
       " 'icelandic': [],\n",
       " 'interlingua': [],\n",
       " 'inuktitut': [],\n",
       " 'irish': [],\n",
       " 'italian': [],\n",
       " 'kashubian': [],\n",
       " 'latin': [],\n",
       " 'lloko': [],\n",
       " 'maori': [],\n",
       " 'mayan': [],\n",
       " 'north-american-indian': [],\n",
       " 'norwegian': [],\n",
       " 'occitan': [],\n",
       " 'polish': [],\n",
       " 'portugese': [],\n",
       " 'romanian': [],\n",
       " 'sanskrit': [],\n",
       " 'slovenian': [],\n",
       " 'spanish': [],\n",
       " 'swedish': [],\n",
       " 'tagalog': [],\n",
       " 'welsh': []}"
      ]
     },
     "execution_count": 18,
     "metadata": {},
     "output_type": "execute_result"
    }
   ],
   "source": [
    "languages_dict"
   ]
  },
  {
   "cell_type": "code",
   "execution_count": 19,
   "metadata": {
    "collapsed": false
   },
   "outputs": [
    {
     "data": {
      "text/plain": [
       "'afrikaans.ebook'"
      ]
     },
     "execution_count": 19,
     "metadata": {},
     "output_type": "execute_result"
    }
   ],
   "source": [
    "filenames[0]"
   ]
  },
  {
   "cell_type": "code",
   "execution_count": 53,
   "metadata": {
    "collapsed": false
   },
   "outputs": [],
   "source": [
    "with open(os.path.relpath(os.path.join(\"books/\", filenames[0])))  as f:\n",
    "    data = f.read()\n",
    "\n",
    "    "
   ]
  },
  {
   "cell_type": "code",
   "execution_count": 60,
   "metadata": {
    "collapsed": true
   },
   "outputs": [],
   "source": [
    "import nltk\n",
    "import re\n",
    "import unicodedata"
   ]
  },
  {
   "cell_type": "code",
   "execution_count": 66,
   "metadata": {
    "collapsed": false
   },
   "outputs": [
    {
     "data": {
      "text/plain": [
       "'\\n\\n\\n\\n\\n  DIE PROSA VAN DIE TWEDE'"
      ]
     },
     "execution_count": 66,
     "metadata": {},
     "output_type": "execute_result"
    }
   ],
   "source": [
    "data[:30]"
   ]
  },
  {
   "cell_type": "code",
   "execution_count": 68,
   "metadata": {
    "collapsed": false
   },
   "outputs": [],
   "source": [
    "ascii_data = unicodedata.normalize('NFKD',unicode(data,\"utf-8\")).strip().encode('ASCII','ignore')"
   ]
  },
  {
   "cell_type": "code",
   "execution_count": 69,
   "metadata": {
    "collapsed": false
   },
   "outputs": [
    {
     "data": {
      "text/plain": [
       "'DIE PROSA VAN DIE TWEDE\\n  AFRI'"
      ]
     },
     "execution_count": 69,
     "metadata": {},
     "output_type": "execute_result"
    }
   ],
   "source": [
    "ascii_data[:30]"
   ]
  },
  {
   "cell_type": "code",
   "execution_count": 70,
   "metadata": {
    "collapsed": true
   },
   "outputs": [],
   "source": [
    "tokens = nltk.word_tokenize(ascii_data)"
   ]
  },
  {
   "cell_type": "code",
   "execution_count": 71,
   "metadata": {
    "collapsed": false
   },
   "outputs": [
    {
     "data": {
      "text/plain": [
       "['DIE',\n",
       " 'PROSA',\n",
       " 'VAN',\n",
       " 'DIE',\n",
       " 'TWEDE',\n",
       " 'AFRIKAANSE',\n",
       " 'BEWEGING',\n",
       " '.',\n",
       " 'AKADEMIES',\n",
       " 'PROEFSCHRIFT']"
      ]
     },
     "execution_count": 71,
     "metadata": {},
     "output_type": "execute_result"
    }
   ],
   "source": [
    "tokens[:10]"
   ]
  },
  {
   "cell_type": "code",
   "execution_count": null,
   "metadata": {
    "collapsed": true
   },
   "outputs": [],
   "source": []
  }
 ],
 "metadata": {
  "kernelspec": {
   "display_name": "Python 2",
   "language": "python",
   "name": "python2"
  },
  "language_info": {
   "codemirror_mode": {
    "name": "ipython",
    "version": 2
   },
   "file_extension": ".py",
   "mimetype": "text/x-python",
   "name": "python",
   "nbconvert_exporter": "python",
   "pygments_lexer": "ipython2",
   "version": "2.7.11"
  }
 },
 "nbformat": 4,
 "nbformat_minor": 0
}
