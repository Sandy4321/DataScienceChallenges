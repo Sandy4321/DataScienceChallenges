{
 "cells": [
  {
   "cell_type": "code",
   "execution_count": 1,
   "metadata": {
    "collapsed": true
   },
   "outputs": [],
   "source": [
    "import pandas as pd\n",
    "import numpy as np\n",
    "%matplotlib inline\n",
    "import matplotlib.pyplot as plt\n",
    "import seaborn\n",
    "from matplotlib.pyplot import cm \n",
    "\n",
    "data = pd.read_csv(\"carsdata_features.csv\", engine='c')"
   ]
  },
  {
   "cell_type": "code",
   "execution_count": 2,
   "metadata": {
    "collapsed": false
   },
   "outputs": [
    {
     "data": {
      "text/html": [
       "<div>\n",
       "<style>\n",
       "    .dataframe thead tr:only-child th {\n",
       "        text-align: right;\n",
       "    }\n",
       "\n",
       "    .dataframe thead th {\n",
       "        text-align: left;\n",
       "    }\n",
       "\n",
       "    .dataframe tbody tr th {\n",
       "        vertical-align: top;\n",
       "    }\n",
       "</style>\n",
       "<table border=\"1\" class=\"dataframe\">\n",
       "  <thead>\n",
       "    <tr style=\"text-align: right;\">\n",
       "      <th></th>\n",
       "      <th>NO_ABS</th>\n",
       "      <th>NO_accoudoir_central</th>\n",
       "      <th>NO_airbag_conducteur</th>\n",
       "      <th>NO_airbag_lateraux</th>\n",
       "      <th>NO_airbag_passager</th>\n",
       "      <th>NO_airbag_tete_rideau</th>\n",
       "      <th>alesage_mm</th>\n",
       "      <th>course_piston_mm</th>\n",
       "      <th>NO_allumage_auto_feux</th>\n",
       "      <th>NO_antipatinage</th>\n",
       "      <th>...</th>\n",
       "      <th>vitesse_max</th>\n",
       "      <th>NO_vitres_electriques</th>\n",
       "      <th>NO_vitres_teintees</th>\n",
       "      <th>voie_arriere</th>\n",
       "      <th>voie_avant</th>\n",
       "      <th>NO_volant_cuir</th>\n",
       "      <th>NO_volant_reglable</th>\n",
       "      <th>volume_coffre_min</th>\n",
       "      <th>volume_coffre_max</th>\n",
       "      <th>zero_100</th>\n",
       "    </tr>\n",
       "  </thead>\n",
       "  <tbody>\n",
       "    <tr>\n",
       "      <th>0</th>\n",
       "      <td>0</td>\n",
       "      <td>1</td>\n",
       "      <td>0</td>\n",
       "      <td>0</td>\n",
       "      <td>0</td>\n",
       "      <td>0</td>\n",
       "      <td>86.0</td>\n",
       "      <td>86.00</td>\n",
       "      <td>1</td>\n",
       "      <td>0</td>\n",
       "      <td>...</td>\n",
       "      <td>220.0</td>\n",
       "      <td>0</td>\n",
       "      <td>0</td>\n",
       "      <td>1479.0</td>\n",
       "      <td>1462.0</td>\n",
       "      <td>0</td>\n",
       "      <td>0</td>\n",
       "      <td>150.0</td>\n",
       "      <td>1700.0</td>\n",
       "      <td>8.2</td>\n",
       "    </tr>\n",
       "    <tr>\n",
       "      <th>1</th>\n",
       "      <td>0</td>\n",
       "      <td>1</td>\n",
       "      <td>0</td>\n",
       "      <td>0</td>\n",
       "      <td>0</td>\n",
       "      <td>1</td>\n",
       "      <td>72.2</td>\n",
       "      <td>73.10</td>\n",
       "      <td>1</td>\n",
       "      <td>0</td>\n",
       "      <td>...</td>\n",
       "      <td>175.0</td>\n",
       "      <td>0</td>\n",
       "      <td>0</td>\n",
       "      <td>1476.0</td>\n",
       "      <td>1493.0</td>\n",
       "      <td>1</td>\n",
       "      <td>0</td>\n",
       "      <td>320.0</td>\n",
       "      <td>1200.0</td>\n",
       "      <td>11.1</td>\n",
       "    </tr>\n",
       "    <tr>\n",
       "      <th>2</th>\n",
       "      <td>0</td>\n",
       "      <td>0</td>\n",
       "      <td>0</td>\n",
       "      <td>0</td>\n",
       "      <td>0</td>\n",
       "      <td>1</td>\n",
       "      <td>89.9</td>\n",
       "      <td>100.00</td>\n",
       "      <td>1</td>\n",
       "      <td>0</td>\n",
       "      <td>...</td>\n",
       "      <td>176.0</td>\n",
       "      <td>0</td>\n",
       "      <td>0</td>\n",
       "      <td>1530.0</td>\n",
       "      <td>1530.0</td>\n",
       "      <td>0</td>\n",
       "      <td>0</td>\n",
       "      <td>410.0</td>\n",
       "      <td>1841.0</td>\n",
       "      <td>11.1</td>\n",
       "    </tr>\n",
       "    <tr>\n",
       "      <th>3</th>\n",
       "      <td>0</td>\n",
       "      <td>1</td>\n",
       "      <td>0</td>\n",
       "      <td>0</td>\n",
       "      <td>0</td>\n",
       "      <td>1</td>\n",
       "      <td>NaN</td>\n",
       "      <td>NaN</td>\n",
       "      <td>0</td>\n",
       "      <td>0</td>\n",
       "      <td>...</td>\n",
       "      <td>135.0</td>\n",
       "      <td>0</td>\n",
       "      <td>0</td>\n",
       "      <td>1510.0</td>\n",
       "      <td>1511.0</td>\n",
       "      <td>0</td>\n",
       "      <td>0</td>\n",
       "      <td>338.0</td>\n",
       "      <td>1225.0</td>\n",
       "      <td>13.5</td>\n",
       "    </tr>\n",
       "    <tr>\n",
       "      <th>4</th>\n",
       "      <td>0</td>\n",
       "      <td>0</td>\n",
       "      <td>0</td>\n",
       "      <td>0</td>\n",
       "      <td>0</td>\n",
       "      <td>0</td>\n",
       "      <td>77.0</td>\n",
       "      <td>85.44</td>\n",
       "      <td>0</td>\n",
       "      <td>0</td>\n",
       "      <td>...</td>\n",
       "      <td>180.0</td>\n",
       "      <td>0</td>\n",
       "      <td>0</td>\n",
       "      <td>1551.0</td>\n",
       "      <td>1547.0</td>\n",
       "      <td>0</td>\n",
       "      <td>0</td>\n",
       "      <td>440.0</td>\n",
       "      <td>1486.0</td>\n",
       "      <td>11.5</td>\n",
       "    </tr>\n",
       "  </tbody>\n",
       "</table>\n",
       "<p>5 rows × 190 columns</p>\n",
       "</div>"
      ],
      "text/plain": [
       "   NO_ABS  NO_accoudoir_central  NO_airbag_conducteur  NO_airbag_lateraux  \\\n",
       "0       0                     1                     0                   0   \n",
       "1       0                     1                     0                   0   \n",
       "2       0                     0                     0                   0   \n",
       "3       0                     1                     0                   0   \n",
       "4       0                     0                     0                   0   \n",
       "\n",
       "   NO_airbag_passager  NO_airbag_tete_rideau  alesage_mm  course_piston_mm  \\\n",
       "0                   0                      0        86.0             86.00   \n",
       "1                   0                      1        72.2             73.10   \n",
       "2                   0                      1        89.9            100.00   \n",
       "3                   0                      1         NaN               NaN   \n",
       "4                   0                      0        77.0             85.44   \n",
       "\n",
       "   NO_allumage_auto_feux  NO_antipatinage    ...     vitesse_max  \\\n",
       "0                      1                0    ...           220.0   \n",
       "1                      1                0    ...           175.0   \n",
       "2                      1                0    ...           176.0   \n",
       "3                      0                0    ...           135.0   \n",
       "4                      0                0    ...           180.0   \n",
       "\n",
       "   NO_vitres_electriques  NO_vitres_teintees  voie_arriere  voie_avant  \\\n",
       "0                      0                   0        1479.0      1462.0   \n",
       "1                      0                   0        1476.0      1493.0   \n",
       "2                      0                   0        1530.0      1530.0   \n",
       "3                      0                   0        1510.0      1511.0   \n",
       "4                      0                   0        1551.0      1547.0   \n",
       "\n",
       "   NO_volant_cuir  NO_volant_reglable  volume_coffre_min  volume_coffre_max  \\\n",
       "0               0                   0              150.0             1700.0   \n",
       "1               1                   0              320.0             1200.0   \n",
       "2               0                   0              410.0             1841.0   \n",
       "3               0                   0              338.0             1225.0   \n",
       "4               0                   0              440.0             1486.0   \n",
       "\n",
       "   zero_100  \n",
       "0       8.2  \n",
       "1      11.1  \n",
       "2      11.1  \n",
       "3      13.5  \n",
       "4      11.5  \n",
       "\n",
       "[5 rows x 190 columns]"
      ]
     },
     "execution_count": 2,
     "metadata": {},
     "output_type": "execute_result"
    }
   ],
   "source": [
    "data.head()"
   ]
  },
  {
   "cell_type": "markdown",
   "metadata": {},
   "source": [
    "## Prépartion des données\n",
    "\n",
    "les modèles de voitures sont disponible dans plusieur colones. On va les rassembler dans une matice finale sous une forme `one hot encoding`."
   ]
  },
  {
   "cell_type": "code",
   "execution_count": 3,
   "metadata": {
    "collapsed": true
   },
   "outputs": [],
   "source": [
    "car_classes = [\"bus\",\"cabriolet\",\"coupe\",\"hatchback\",\"mpv\",\"pickup\",\"sedan\",\"stationwagon\",\"suv_crossover\"]"
   ]
  },
  {
   "cell_type": "code",
   "execution_count": 4,
   "metadata": {
    "collapsed": true
   },
   "outputs": [],
   "source": [
    "car_classes.sort()"
   ]
  },
  {
   "cell_type": "code",
   "execution_count": 5,
   "metadata": {
    "collapsed": false
   },
   "outputs": [
    {
     "data": {
      "text/plain": [
       "['bus',\n",
       " 'cabriolet',\n",
       " 'coupe',\n",
       " 'hatchback',\n",
       " 'mpv',\n",
       " 'pickup',\n",
       " 'sedan',\n",
       " 'stationwagon',\n",
       " 'suv_crossover']"
      ]
     },
     "execution_count": 5,
     "metadata": {},
     "output_type": "execute_result"
    }
   ],
   "source": [
    "car_classes"
   ]
  },
  {
   "cell_type": "code",
   "execution_count": 6,
   "metadata": {
    "collapsed": false
   },
   "outputs": [
    {
     "data": {
      "text/html": [
       "<div>\n",
       "<style>\n",
       "    .dataframe thead tr:only-child th {\n",
       "        text-align: right;\n",
       "    }\n",
       "\n",
       "    .dataframe thead th {\n",
       "        text-align: left;\n",
       "    }\n",
       "\n",
       "    .dataframe tbody tr th {\n",
       "        vertical-align: top;\n",
       "    }\n",
       "</style>\n",
       "<table border=\"1\" class=\"dataframe\">\n",
       "  <thead>\n",
       "    <tr style=\"text-align: right;\">\n",
       "      <th></th>\n",
       "      <th>bus</th>\n",
       "      <th>cabriolet</th>\n",
       "      <th>coupe</th>\n",
       "      <th>hatchback</th>\n",
       "      <th>mpv</th>\n",
       "      <th>pickup</th>\n",
       "      <th>sedan</th>\n",
       "      <th>stationwagon</th>\n",
       "      <th>suv_crossover</th>\n",
       "    </tr>\n",
       "  </thead>\n",
       "  <tbody>\n",
       "    <tr>\n",
       "      <th>0</th>\n",
       "      <td>0</td>\n",
       "      <td>0</td>\n",
       "      <td>0</td>\n",
       "      <td>0</td>\n",
       "      <td>1</td>\n",
       "      <td>0</td>\n",
       "      <td>0</td>\n",
       "      <td>0</td>\n",
       "      <td>0</td>\n",
       "    </tr>\n",
       "    <tr>\n",
       "      <th>1</th>\n",
       "      <td>0</td>\n",
       "      <td>0</td>\n",
       "      <td>0</td>\n",
       "      <td>1</td>\n",
       "      <td>0</td>\n",
       "      <td>0</td>\n",
       "      <td>0</td>\n",
       "      <td>0</td>\n",
       "      <td>0</td>\n",
       "    </tr>\n",
       "    <tr>\n",
       "      <th>2</th>\n",
       "      <td>0</td>\n",
       "      <td>0</td>\n",
       "      <td>0</td>\n",
       "      <td>0</td>\n",
       "      <td>0</td>\n",
       "      <td>0</td>\n",
       "      <td>0</td>\n",
       "      <td>0</td>\n",
       "      <td>1</td>\n",
       "    </tr>\n",
       "    <tr>\n",
       "      <th>3</th>\n",
       "      <td>0</td>\n",
       "      <td>0</td>\n",
       "      <td>0</td>\n",
       "      <td>1</td>\n",
       "      <td>0</td>\n",
       "      <td>0</td>\n",
       "      <td>0</td>\n",
       "      <td>0</td>\n",
       "      <td>0</td>\n",
       "    </tr>\n",
       "    <tr>\n",
       "      <th>4</th>\n",
       "      <td>0</td>\n",
       "      <td>0</td>\n",
       "      <td>0</td>\n",
       "      <td>1</td>\n",
       "      <td>0</td>\n",
       "      <td>0</td>\n",
       "      <td>0</td>\n",
       "      <td>0</td>\n",
       "      <td>0</td>\n",
       "    </tr>\n",
       "    <tr>\n",
       "      <th>5</th>\n",
       "      <td>0</td>\n",
       "      <td>1</td>\n",
       "      <td>0</td>\n",
       "      <td>0</td>\n",
       "      <td>0</td>\n",
       "      <td>0</td>\n",
       "      <td>0</td>\n",
       "      <td>0</td>\n",
       "      <td>0</td>\n",
       "    </tr>\n",
       "  </tbody>\n",
       "</table>\n",
       "</div>"
      ],
      "text/plain": [
       "   bus  cabriolet  coupe  hatchback  mpv  pickup  sedan  stationwagon  \\\n",
       "0    0          0      0          0    1       0      0             0   \n",
       "1    0          0      0          1    0       0      0             0   \n",
       "2    0          0      0          0    0       0      0             0   \n",
       "3    0          0      0          1    0       0      0             0   \n",
       "4    0          0      0          1    0       0      0             0   \n",
       "5    0          1      0          0    0       0      0             0   \n",
       "\n",
       "   suv_crossover  \n",
       "0              0  \n",
       "1              0  \n",
       "2              1  \n",
       "3              0  \n",
       "4              0  \n",
       "5              0  "
      ]
     },
     "execution_count": 6,
     "metadata": {},
     "output_type": "execute_result"
    }
   ],
   "source": [
    "data.loc[:5,car_classes]"
   ]
  },
  {
   "cell_type": "code",
   "execution_count": 7,
   "metadata": {
    "collapsed": true
   },
   "outputs": [],
   "source": [
    "raw_target = data.loc[:,car_classes]"
   ]
  },
  {
   "cell_type": "code",
   "execution_count": 8,
   "metadata": {
    "collapsed": true
   },
   "outputs": [],
   "source": [
    "target = raw_target.as_matrix().astype('float32')"
   ]
  },
  {
   "cell_type": "code",
   "execution_count": 9,
   "metadata": {
    "collapsed": false
   },
   "outputs": [
    {
     "data": {
      "text/plain": [
       "(64553, 9)"
      ]
     },
     "execution_count": 9,
     "metadata": {},
     "output_type": "execute_result"
    }
   ],
   "source": [
    "target.shape"
   ]
  },
  {
   "cell_type": "code",
   "execution_count": 139,
   "metadata": {
    "collapsed": false
   },
   "outputs": [
    {
     "data": {
      "text/plain": [
       "array([   732.,   2106.,   2554.,  21424.,   5972.,     76.,  13211.,\n",
       "        12517.,   5036.], dtype=float32)"
      ]
     },
     "execution_count": 139,
     "metadata": {},
     "output_type": "execute_result"
    }
   ],
   "source": [
    "#unbalanced\n",
    "target.sum(axis=0)"
   ]
  },
  {
   "cell_type": "markdown",
   "metadata": {},
   "source": [
    "## Sélection des données"
   ]
  },
  {
   "cell_type": "code",
   "execution_count": 10,
   "metadata": {
    "collapsed": true
   },
   "outputs": [],
   "source": [
    "pd.set_option('display.max_rows',200)"
   ]
  },
  {
   "cell_type": "code",
   "execution_count": 11,
   "metadata": {
    "collapsed": false
   },
   "outputs": [
    {
     "data": {
      "text/plain": [
       "NO_ABS                                                        0\n",
       "NO_accoudoir_central                                          1\n",
       "NO_airbag_conducteur                                          0\n",
       "NO_airbag_lateraux                                            0\n",
       "NO_airbag_passager                                            0\n",
       "NO_airbag_tete_rideau                                         0\n",
       "alesage_mm                                                   86\n",
       "course_piston_mm                                             86\n",
       "NO_allumage_auto_feux                                         1\n",
       "NO_antipatinage                                               0\n",
       "NO_appuis_tete_arriere                                        0\n",
       "NO_assistant_freinage                                         1\n",
       "NO_banquette_arriere_rabattable                               0\n",
       "NO_blocage_differentiel                                       1\n",
       "NO_bluetooth                                                  1\n",
       "capacite_charge_max_kg                                      625\n",
       "capacite_moteur_cc                                         1998\n",
       "NO_capteur_stationnement                                      0\n",
       "NO_capteur_temp_liquide_refroidissement                       0\n",
       "LPG_carburant                                                 0\n",
       "bio_ethanol_carburant                                         0\n",
       "diesel_carburant                                              0\n",
       "natural_gas_carburant                                         0\n",
       "catalyseur_onregular                                          0\n",
       "catalyseur_part_filter                                        0\n",
       "catalyseur_egular                                             1\n",
       "No_clim_bizone                                                1\n",
       "NO_climatisation                                              0\n",
       "NO_commande_audio_volant                                      0\n",
       "compteur_jours                                                1\n",
       "conso_extra_urbaine_l_par_100km                             7.9\n",
       "conso_extra_urbaine_km_par_l                               12.7\n",
       "conso_mixte_l_par_100km                                    10.1\n",
       "conso_mixte_km_par_l                                        9.9\n",
       "conso_urbaine_l_par_100km                                  13.8\n",
       "conso_urbaine_km_par_l                                      7.2\n",
       "couple_max                                                  250\n",
       "couple_max_tr_min                                          1950\n",
       "nb_cylindres                                                  4\n",
       "cylindres_boxer                                               0\n",
       "cylindres_en_V                                                0\n",
       "cylindres_en_W                                                0\n",
       "date_fin                                                   2005\n",
       "date_sortie                                                2003\n",
       "NO_thermometre_exterieur                                      0\n",
       "NO_direction_assistee                                         0\n",
       "NO_eclairage_miroir_maquillage                                1\n",
       "NO_eclairage_tdb_reglable                                     0\n",
       "NO_electro_stabilisateur_prog                                 0\n",
       "emission_co2_g_par_km                                       NaN\n",
       "empattement                                                2694\n",
       "intervale_km_entretien                                    30000\n",
       "intervale_annees_entretien                                    1\n",
       "NO_essuie_glace_auto                                          0\n",
       "NO_fermeture_portes_centrallisee                              0\n",
       "NO_feux_anti_brouillard                                       0\n",
       "NO_feux_circulation_diurnes                                   1\n",
       "freins_arriere_type_trommels                                  0\n",
       "freins_arriere_type_ventilated_disc                           0\n",
       "freins_arriere_diametre_disc                                264\n",
       "freins_avant_type_trommels                                    0\n",
       "freins_avant_type_ventilated_disc                             1\n",
       "freins_avant_diametre_disc                                  308\n",
       "duree_garantie_carroserie                                    12\n",
       "garantie_generale_annees                                      2\n",
       "garantie_generale_km                                        NaN\n",
       "hauteur_mm                                                 1636\n",
       "NO_jantes_alliage                                             0\n",
       "largeur_mm                                                 1742\n",
       "NO_lave_phares                                                1\n",
       "NO_liseuse                                                    0\n",
       "longueur_mm                                                4318\n",
       "longueur_coffre_min                                         300\n",
       "longueur_coffre_max                                        1640\n",
       "ratio_marche_arriere                                       3.31\n",
       "masse_admissible_max                                       2065\n",
       "masse_max_frein_avec_remorque                              1400\n",
       "masse_max_frein_sans_remorque                               600\n",
       "masse_vide                                                 1440\n",
       "max_boule_presse                                             75\n",
       "max_charge_toit                                              75\n",
       "niveau_energie_B                                              0\n",
       "niveau_energie_C                                              0\n",
       "niveau_energie_D                                              0\n",
       "niveau_energie_E                                              0\n",
       "niveau_energie_F                                              0\n",
       "niveau_energie_G                                              0\n",
       "marque                                                     Opel\n",
       "modele                                                   Zafira\n",
       "version                                           OPC_Turbo_2.0\n",
       "nombre_portes                                                 5\n",
       "nombre_sieges                                                 7\n",
       "prix                                                      36945\n",
       "NO_ordinateur_bord                                            0\n",
       "NO_panorama                                                   1\n",
       "NO_pare_chocs_peints                                          0\n",
       "NO_peinture_metalisee                                         1\n",
       "NO_phares_xenon                                               1\n",
       "pneus_largeur                                               225\n",
       "pneus_hauteur                                                45\n",
       "pneus_type_radial                                             1\n",
       "pneus_diametre                                               17\n",
       "puissance_max_kW                                            147\n",
       "puissance_max_HP                                            200\n",
       "puissance_max_tr_min                                       5600\n",
       "NO_rails_toit                                                 0\n",
       "rayon_virage                                               11.9\n",
       "NO_reg_electrique_sieges                                      1\n",
       "NO_reg_vitesse                                                0\n",
       "NO_repartiteur_elect_freinage                                 1\n",
       "reservoir_carburant                                          58\n",
       "NO_retros_clignotant                                          1\n",
       "NO_retros_electriques                                         0\n",
       "NO_retros_electrochrome                                       1\n",
       "NO_retros_ext_rabatable                                       1\n",
       "NO_retros_gradation_auto                                      0\n",
       "roues_motrices_avant_arriere                                  0\n",
       "roues_motrices_arriere                                        0\n",
       "NO_siege_chauffant                                            1\n",
       "NO_siege_cuir                                                 1\n",
       "NO_siege_reglable_hauteur                                     0\n",
       "NO_siege_reglage_lombaire                                     0\n",
       "NO_siege_sport                                                0\n",
       "soupapes_par_cylindre                                         4\n",
       "stabilisatrice_arriere                                        1\n",
       "stabilisatrice_avant                                          1\n",
       "suspension_arriere_de_dion                                    0\n",
       "suspension_arriere_independent_double_wishbone                0\n",
       "suspension_arriere_independent_long_arm                       0\n",
       "suspension_independent_wishbone                               0\n",
       "suspension_arriere_multilink                                  0\n",
       "suspension_arriere_rigid                                      0\n",
       "suspension_arriere_semi_independant                           1\n",
       "suspension_avant_independent_McPherson                        1\n",
       "suspension_avant_independent_double_wishbone                  0\n",
       "suspension_avant_independent_long_arm                         0\n",
       "suspension_avant_independent_wishbone                         0\n",
       "suspension_avant_independent_multilink                        0\n",
       "NO_sys_alarme                                                 1\n",
       "NO_sys_audio                                                  0\n",
       "sys_carburant_indirect_injection                              0\n",
       "sys_carburant_direct_injection                                0\n",
       "sys_carburant_multipoint_injection                            1\n",
       "sys_carburant_singlepoint_injection                           0\n",
       "sys_entrainement_electric                                     0\n",
       "sys_entrainement_hybrid                                       0\n",
       "sys_entrainement_plugin_hybrid                                0\n",
       "NO_sys_navigation                                             1\n",
       "NO_sys_stop_start                                             1\n",
       "NO_tachymetre                                                 0\n",
       "taux_compression                                            8.8\n",
       "NO_teledeverrouillage                                         0\n",
       "NO_toit_ouvrant_glissant                                      1\n",
       "tr_min_120_kmh                                             3150\n",
       "transmission_automatic                                        0\n",
       "transmission_semi_automatic                                   0\n",
       "transmission_sequential_automatic                             0\n",
       "transmission_finale                                        3.95\n",
       "supercharger                                                  0\n",
       "turbocharger                                                  0\n",
       "twincharger                                                   0\n",
       "turbocharger_w_intercooler                                    1\n",
       "electromagnetic_synchronous_motor                             0\n",
       "valvetrain_ohc                                                0\n",
       "valvetrain_ohv                                                0\n",
       "permanent_magnet_synchronous_motor                            0\n",
       "NO_verre_intim_arriere                                        1\n",
       "vitesse_1ere                                               3.58\n",
       "vitesse_2eme                                               2.02\n",
       "vitesse_3eme                                               1.35\n",
       "vitesse_4eme                                               0.98\n",
       "vitesse_max                                                 220\n",
       "NO_vitres_electriques                                         0\n",
       "NO_vitres_teintees                                            0\n",
       "voie_arriere                                               1479\n",
       "voie_avant                                                 1462\n",
       "NO_volant_cuir                                                0\n",
       "NO_volant_reglable                                            0\n",
       "volume_coffre_min                                           150\n",
       "volume_coffre_max                                          1700\n",
       "zero_100                                                    8.2\n",
       "Name: 0, dtype: object"
      ]
     },
     "execution_count": 11,
     "metadata": {},
     "output_type": "execute_result"
    }
   ],
   "source": [
    "data.loc[0, ~ data.columns.isin(car_classes)]"
   ]
  },
  {
   "cell_type": "markdown",
   "metadata": {},
   "source": [
    "les colonnes à exclure:\n",
    "* marque\n",
    "* mmodele\n",
    "* version\n",
    "* date_fin\n",
    "* date_sortie\n"
   ]
  },
  {
   "cell_type": "code",
   "execution_count": 12,
   "metadata": {
    "collapsed": true
   },
   "outputs": [],
   "source": [
    "excluded_cols = [\"marque\",\"modele\",\"version\",\"date_fin\",\"date_sortie\"]"
   ]
  },
  {
   "cell_type": "code",
   "execution_count": 13,
   "metadata": {
    "collapsed": true
   },
   "outputs": [],
   "source": [
    "excluded_cols = excluded_cols + car_classes"
   ]
  },
  {
   "cell_type": "code",
   "execution_count": 14,
   "metadata": {
    "collapsed": true
   },
   "outputs": [],
   "source": [
    "selected_data = data.loc[:, ~ data.columns.isin(excluded_cols)]"
   ]
  },
  {
   "cell_type": "code",
   "execution_count": 15,
   "metadata": {
    "collapsed": false
   },
   "outputs": [
    {
     "data": {
      "text/html": [
       "<div>\n",
       "<style>\n",
       "    .dataframe thead tr:only-child th {\n",
       "        text-align: right;\n",
       "    }\n",
       "\n",
       "    .dataframe thead th {\n",
       "        text-align: left;\n",
       "    }\n",
       "\n",
       "    .dataframe tbody tr th {\n",
       "        vertical-align: top;\n",
       "    }\n",
       "</style>\n",
       "<table border=\"1\" class=\"dataframe\">\n",
       "  <thead>\n",
       "    <tr style=\"text-align: right;\">\n",
       "      <th></th>\n",
       "      <th>NO_ABS</th>\n",
       "      <th>NO_accoudoir_central</th>\n",
       "      <th>NO_airbag_conducteur</th>\n",
       "      <th>NO_airbag_lateraux</th>\n",
       "      <th>NO_airbag_passager</th>\n",
       "      <th>NO_airbag_tete_rideau</th>\n",
       "      <th>alesage_mm</th>\n",
       "      <th>course_piston_mm</th>\n",
       "      <th>NO_allumage_auto_feux</th>\n",
       "      <th>NO_antipatinage</th>\n",
       "      <th>...</th>\n",
       "      <th>vitesse_max</th>\n",
       "      <th>NO_vitres_electriques</th>\n",
       "      <th>NO_vitres_teintees</th>\n",
       "      <th>voie_arriere</th>\n",
       "      <th>voie_avant</th>\n",
       "      <th>NO_volant_cuir</th>\n",
       "      <th>NO_volant_reglable</th>\n",
       "      <th>volume_coffre_min</th>\n",
       "      <th>volume_coffre_max</th>\n",
       "      <th>zero_100</th>\n",
       "    </tr>\n",
       "  </thead>\n",
       "  <tbody>\n",
       "    <tr>\n",
       "      <th>count</th>\n",
       "      <td>64553.000000</td>\n",
       "      <td>64553.000000</td>\n",
       "      <td>64553.000000</td>\n",
       "      <td>64553.000000</td>\n",
       "      <td>64553.000000</td>\n",
       "      <td>64553.000000</td>\n",
       "      <td>63116.000000</td>\n",
       "      <td>63116.000000</td>\n",
       "      <td>64553.000000</td>\n",
       "      <td>64553.000000</td>\n",
       "      <td>...</td>\n",
       "      <td>63142.000000</td>\n",
       "      <td>64553.000000</td>\n",
       "      <td>64553.000000</td>\n",
       "      <td>63883.000000</td>\n",
       "      <td>63883.000000</td>\n",
       "      <td>64553.000000</td>\n",
       "      <td>64553.000000</td>\n",
       "      <td>63601.000000</td>\n",
       "      <td>50167.000000</td>\n",
       "      <td>62103.000000</td>\n",
       "    </tr>\n",
       "    <tr>\n",
       "      <th>mean</th>\n",
       "      <td>0.113023</td>\n",
       "      <td>0.356947</td>\n",
       "      <td>0.114789</td>\n",
       "      <td>0.209254</td>\n",
       "      <td>0.135749</td>\n",
       "      <td>0.338962</td>\n",
       "      <td>80.893947</td>\n",
       "      <td>85.447940</td>\n",
       "      <td>0.626555</td>\n",
       "      <td>0.374498</td>\n",
       "      <td>...</td>\n",
       "      <td>196.260381</td>\n",
       "      <td>0.120723</td>\n",
       "      <td>0.066736</td>\n",
       "      <td>1504.042500</td>\n",
       "      <td>1508.237058</td>\n",
       "      <td>0.373166</td>\n",
       "      <td>0.153316</td>\n",
       "      <td>458.788635</td>\n",
       "      <td>1335.996532</td>\n",
       "      <td>10.913672</td>\n",
       "    </tr>\n",
       "    <tr>\n",
       "      <th>std</th>\n",
       "      <td>0.316624</td>\n",
       "      <td>0.479103</td>\n",
       "      <td>0.318770</td>\n",
       "      <td>0.406780</td>\n",
       "      <td>0.342524</td>\n",
       "      <td>0.473361</td>\n",
       "      <td>5.256816</td>\n",
       "      <td>7.126757</td>\n",
       "      <td>0.483723</td>\n",
       "      <td>0.483997</td>\n",
       "      <td>...</td>\n",
       "      <td>26.773986</td>\n",
       "      <td>0.325807</td>\n",
       "      <td>0.249566</td>\n",
       "      <td>70.235166</td>\n",
       "      <td>67.984290</td>\n",
       "      <td>0.483649</td>\n",
       "      <td>0.360295</td>\n",
       "      <td>456.495450</td>\n",
       "      <td>489.411897</td>\n",
       "      <td>2.854191</td>\n",
       "    </tr>\n",
       "    <tr>\n",
       "      <th>min</th>\n",
       "      <td>0.000000</td>\n",
       "      <td>0.000000</td>\n",
       "      <td>0.000000</td>\n",
       "      <td>0.000000</td>\n",
       "      <td>0.000000</td>\n",
       "      <td>0.000000</td>\n",
       "      <td>58.000000</td>\n",
       "      <td>55.000000</td>\n",
       "      <td>0.000000</td>\n",
       "      <td>0.000000</td>\n",
       "      <td>...</td>\n",
       "      <td>80.000000</td>\n",
       "      <td>0.000000</td>\n",
       "      <td>0.000000</td>\n",
       "      <td>1080.000000</td>\n",
       "      <td>140.000000</td>\n",
       "      <td>0.000000</td>\n",
       "      <td>0.000000</td>\n",
       "      <td>31.000000</td>\n",
       "      <td>145.000000</td>\n",
       "      <td>2.700000</td>\n",
       "    </tr>\n",
       "    <tr>\n",
       "      <th>25%</th>\n",
       "      <td>0.000000</td>\n",
       "      <td>0.000000</td>\n",
       "      <td>0.000000</td>\n",
       "      <td>0.000000</td>\n",
       "      <td>0.000000</td>\n",
       "      <td>0.000000</td>\n",
       "      <td>77.000000</td>\n",
       "      <td>80.500000</td>\n",
       "      <td>0.000000</td>\n",
       "      <td>0.000000</td>\n",
       "      <td>...</td>\n",
       "      <td>177.000000</td>\n",
       "      <td>0.000000</td>\n",
       "      <td>0.000000</td>\n",
       "      <td>1461.000000</td>\n",
       "      <td>1465.000000</td>\n",
       "      <td>0.000000</td>\n",
       "      <td>0.000000</td>\n",
       "      <td>335.000000</td>\n",
       "      <td>1032.000000</td>\n",
       "      <td>9.000000</td>\n",
       "    </tr>\n",
       "    <tr>\n",
       "      <th>50%</th>\n",
       "      <td>0.000000</td>\n",
       "      <td>0.000000</td>\n",
       "      <td>0.000000</td>\n",
       "      <td>0.000000</td>\n",
       "      <td>0.000000</td>\n",
       "      <td>0.000000</td>\n",
       "      <td>81.000000</td>\n",
       "      <td>86.000000</td>\n",
       "      <td>1.000000</td>\n",
       "      <td>0.000000</td>\n",
       "      <td>...</td>\n",
       "      <td>194.000000</td>\n",
       "      <td>0.000000</td>\n",
       "      <td>0.000000</td>\n",
       "      <td>1513.000000</td>\n",
       "      <td>1518.000000</td>\n",
       "      <td>0.000000</td>\n",
       "      <td>0.000000</td>\n",
       "      <td>435.000000</td>\n",
       "      <td>1283.000000</td>\n",
       "      <td>10.800000</td>\n",
       "    </tr>\n",
       "    <tr>\n",
       "      <th>75%</th>\n",
       "      <td>0.000000</td>\n",
       "      <td>1.000000</td>\n",
       "      <td>0.000000</td>\n",
       "      <td>0.000000</td>\n",
       "      <td>0.000000</td>\n",
       "      <td>1.000000</td>\n",
       "      <td>84.000000</td>\n",
       "      <td>90.400000</td>\n",
       "      <td>1.000000</td>\n",
       "      <td>1.000000</td>\n",
       "      <td>...</td>\n",
       "      <td>213.000000</td>\n",
       "      <td>0.000000</td>\n",
       "      <td>0.000000</td>\n",
       "      <td>1551.000000</td>\n",
       "      <td>1549.000000</td>\n",
       "      <td>1.000000</td>\n",
       "      <td>0.000000</td>\n",
       "      <td>500.000000</td>\n",
       "      <td>1584.000000</td>\n",
       "      <td>12.500000</td>\n",
       "    </tr>\n",
       "    <tr>\n",
       "      <th>max</th>\n",
       "      <td>1.000000</td>\n",
       "      <td>1.000000</td>\n",
       "      <td>1.000000</td>\n",
       "      <td>1.000000</td>\n",
       "      <td>1.000000</td>\n",
       "      <td>1.000000</td>\n",
       "      <td>104.800000</td>\n",
       "      <td>105.700000</td>\n",
       "      <td>1.000000</td>\n",
       "      <td>1.000000</td>\n",
       "      <td>...</td>\n",
       "      <td>330.000000</td>\n",
       "      <td>1.000000</td>\n",
       "      <td>1.000000</td>\n",
       "      <td>1790.000000</td>\n",
       "      <td>1810.000000</td>\n",
       "      <td>1.000000</td>\n",
       "      <td>1.000000</td>\n",
       "      <td>10800.000000</td>\n",
       "      <td>4650.000000</td>\n",
       "      <td>35.000000</td>\n",
       "    </tr>\n",
       "  </tbody>\n",
       "</table>\n",
       "<p>8 rows × 176 columns</p>\n",
       "</div>"
      ],
      "text/plain": [
       "             NO_ABS  NO_accoudoir_central  NO_airbag_conducteur  \\\n",
       "count  64553.000000          64553.000000          64553.000000   \n",
       "mean       0.113023              0.356947              0.114789   \n",
       "std        0.316624              0.479103              0.318770   \n",
       "min        0.000000              0.000000              0.000000   \n",
       "25%        0.000000              0.000000              0.000000   \n",
       "50%        0.000000              0.000000              0.000000   \n",
       "75%        0.000000              1.000000              0.000000   \n",
       "max        1.000000              1.000000              1.000000   \n",
       "\n",
       "       NO_airbag_lateraux  NO_airbag_passager  NO_airbag_tete_rideau  \\\n",
       "count        64553.000000        64553.000000           64553.000000   \n",
       "mean             0.209254            0.135749               0.338962   \n",
       "std              0.406780            0.342524               0.473361   \n",
       "min              0.000000            0.000000               0.000000   \n",
       "25%              0.000000            0.000000               0.000000   \n",
       "50%              0.000000            0.000000               0.000000   \n",
       "75%              0.000000            0.000000               1.000000   \n",
       "max              1.000000            1.000000               1.000000   \n",
       "\n",
       "         alesage_mm  course_piston_mm  NO_allumage_auto_feux  NO_antipatinage  \\\n",
       "count  63116.000000      63116.000000           64553.000000     64553.000000   \n",
       "mean      80.893947         85.447940               0.626555         0.374498   \n",
       "std        5.256816          7.126757               0.483723         0.483997   \n",
       "min       58.000000         55.000000               0.000000         0.000000   \n",
       "25%       77.000000         80.500000               0.000000         0.000000   \n",
       "50%       81.000000         86.000000               1.000000         0.000000   \n",
       "75%       84.000000         90.400000               1.000000         1.000000   \n",
       "max      104.800000        105.700000               1.000000         1.000000   \n",
       "\n",
       "           ...        vitesse_max  NO_vitres_electriques  NO_vitres_teintees  \\\n",
       "count      ...       63142.000000           64553.000000        64553.000000   \n",
       "mean       ...         196.260381               0.120723            0.066736   \n",
       "std        ...          26.773986               0.325807            0.249566   \n",
       "min        ...          80.000000               0.000000            0.000000   \n",
       "25%        ...         177.000000               0.000000            0.000000   \n",
       "50%        ...         194.000000               0.000000            0.000000   \n",
       "75%        ...         213.000000               0.000000            0.000000   \n",
       "max        ...         330.000000               1.000000            1.000000   \n",
       "\n",
       "       voie_arriere    voie_avant  NO_volant_cuir  NO_volant_reglable  \\\n",
       "count  63883.000000  63883.000000    64553.000000        64553.000000   \n",
       "mean    1504.042500   1508.237058        0.373166            0.153316   \n",
       "std       70.235166     67.984290        0.483649            0.360295   \n",
       "min     1080.000000    140.000000        0.000000            0.000000   \n",
       "25%     1461.000000   1465.000000        0.000000            0.000000   \n",
       "50%     1513.000000   1518.000000        0.000000            0.000000   \n",
       "75%     1551.000000   1549.000000        1.000000            0.000000   \n",
       "max     1790.000000   1810.000000        1.000000            1.000000   \n",
       "\n",
       "       volume_coffre_min  volume_coffre_max      zero_100  \n",
       "count       63601.000000       50167.000000  62103.000000  \n",
       "mean          458.788635        1335.996532     10.913672  \n",
       "std           456.495450         489.411897      2.854191  \n",
       "min            31.000000         145.000000      2.700000  \n",
       "25%           335.000000        1032.000000      9.000000  \n",
       "50%           435.000000        1283.000000     10.800000  \n",
       "75%           500.000000        1584.000000     12.500000  \n",
       "max         10800.000000        4650.000000     35.000000  \n",
       "\n",
       "[8 rows x 176 columns]"
      ]
     },
     "execution_count": 15,
     "metadata": {},
     "output_type": "execute_result"
    }
   ],
   "source": [
    "selected_data.describe()"
   ]
  },
  {
   "cell_type": "code",
   "execution_count": 19,
   "metadata": {
    "collapsed": true
   },
   "outputs": [],
   "source": [
    "# séparation des variables binaires et continues \n",
    "cont_data = selected_data.loc[:,selected_data.apply(max) > 1.0]"
   ]
  },
  {
   "cell_type": "code",
   "execution_count": 20,
   "metadata": {
    "collapsed": true
   },
   "outputs": [],
   "source": [
    "bin_data = selected_data.loc[:, selected_data.apply(max) <= 1.0]"
   ]
  },
  {
   "cell_type": "markdown",
   "metadata": {},
   "source": [
    "## Correction des valeurs manquantes"
   ]
  },
  {
   "cell_type": "code",
   "execution_count": 23,
   "metadata": {
    "collapsed": false
   },
   "outputs": [
    {
     "data": {
      "text/plain": [
       "Imputer(axis=0, copy=True, missing_values='NaN', strategy='mean', verbose=0)"
      ]
     },
     "execution_count": 23,
     "metadata": {},
     "output_type": "execute_result"
    }
   ],
   "source": [
    "from sklearn.preprocessing import Imputer\n",
    "imp = Imputer(missing_values='NaN', strategy='mean', axis=0)\n",
    "imp.fit(cont_data.as_matrix().astype('float32'))"
   ]
  },
  {
   "cell_type": "code",
   "execution_count": 25,
   "metadata": {
    "collapsed": true
   },
   "outputs": [],
   "source": [
    "cont_mat = imp.transform(cont_data.as_matrix().astype('float32'))"
   ]
  },
  {
   "cell_type": "code",
   "execution_count": 26,
   "metadata": {
    "collapsed": false
   },
   "outputs": [
    {
     "data": {
      "text/plain": [
       "(64553, 57)"
      ]
     },
     "execution_count": 26,
     "metadata": {},
     "output_type": "execute_result"
    }
   ],
   "source": [
    "cont_mat.shape"
   ]
  },
  {
   "cell_type": "markdown",
   "metadata": {},
   "source": [
    "## mise à l'échelle des variables categorielles"
   ]
  },
  {
   "cell_type": "code",
   "execution_count": 54,
   "metadata": {
    "collapsed": false
   },
   "outputs": [
    {
     "data": {
      "text/html": [
       "<div>\n",
       "<style>\n",
       "    .dataframe thead tr:only-child th {\n",
       "        text-align: right;\n",
       "    }\n",
       "\n",
       "    .dataframe thead th {\n",
       "        text-align: left;\n",
       "    }\n",
       "\n",
       "    .dataframe tbody tr th {\n",
       "        vertical-align: top;\n",
       "    }\n",
       "</style>\n",
       "<table border=\"1\" class=\"dataframe\">\n",
       "  <thead>\n",
       "    <tr style=\"text-align: right;\">\n",
       "      <th></th>\n",
       "      <th>NO_ABS</th>\n",
       "      <th>NO_accoudoir_central</th>\n",
       "      <th>NO_airbag_conducteur</th>\n",
       "      <th>NO_airbag_lateraux</th>\n",
       "      <th>NO_airbag_passager</th>\n",
       "      <th>NO_airbag_tete_rideau</th>\n",
       "      <th>NO_allumage_auto_feux</th>\n",
       "      <th>NO_antipatinage</th>\n",
       "      <th>NO_appuis_tete_arriere</th>\n",
       "      <th>NO_assistant_freinage</th>\n",
       "      <th>...</th>\n",
       "      <th>turbocharger_w_intercooler</th>\n",
       "      <th>electromagnetic_synchronous_motor</th>\n",
       "      <th>valvetrain_ohc</th>\n",
       "      <th>valvetrain_ohv</th>\n",
       "      <th>permanent_magnet_synchronous_motor</th>\n",
       "      <th>NO_verre_intim_arriere</th>\n",
       "      <th>NO_vitres_electriques</th>\n",
       "      <th>NO_vitres_teintees</th>\n",
       "      <th>NO_volant_cuir</th>\n",
       "      <th>NO_volant_reglable</th>\n",
       "    </tr>\n",
       "  </thead>\n",
       "  <tbody>\n",
       "    <tr>\n",
       "      <th>0</th>\n",
       "      <td>0</td>\n",
       "      <td>1</td>\n",
       "      <td>0</td>\n",
       "      <td>0</td>\n",
       "      <td>0</td>\n",
       "      <td>0</td>\n",
       "      <td>1</td>\n",
       "      <td>0</td>\n",
       "      <td>0</td>\n",
       "      <td>1</td>\n",
       "      <td>...</td>\n",
       "      <td>1</td>\n",
       "      <td>0</td>\n",
       "      <td>0</td>\n",
       "      <td>0</td>\n",
       "      <td>0</td>\n",
       "      <td>1</td>\n",
       "      <td>0</td>\n",
       "      <td>0</td>\n",
       "      <td>0</td>\n",
       "      <td>0</td>\n",
       "    </tr>\n",
       "    <tr>\n",
       "      <th>1</th>\n",
       "      <td>0</td>\n",
       "      <td>1</td>\n",
       "      <td>0</td>\n",
       "      <td>0</td>\n",
       "      <td>0</td>\n",
       "      <td>1</td>\n",
       "      <td>1</td>\n",
       "      <td>0</td>\n",
       "      <td>0</td>\n",
       "      <td>1</td>\n",
       "      <td>...</td>\n",
       "      <td>1</td>\n",
       "      <td>0</td>\n",
       "      <td>0</td>\n",
       "      <td>0</td>\n",
       "      <td>0</td>\n",
       "      <td>1</td>\n",
       "      <td>0</td>\n",
       "      <td>0</td>\n",
       "      <td>1</td>\n",
       "      <td>0</td>\n",
       "    </tr>\n",
       "    <tr>\n",
       "      <th>2</th>\n",
       "      <td>0</td>\n",
       "      <td>0</td>\n",
       "      <td>0</td>\n",
       "      <td>0</td>\n",
       "      <td>0</td>\n",
       "      <td>1</td>\n",
       "      <td>1</td>\n",
       "      <td>0</td>\n",
       "      <td>0</td>\n",
       "      <td>0</td>\n",
       "      <td>...</td>\n",
       "      <td>0</td>\n",
       "      <td>0</td>\n",
       "      <td>0</td>\n",
       "      <td>0</td>\n",
       "      <td>0</td>\n",
       "      <td>1</td>\n",
       "      <td>0</td>\n",
       "      <td>0</td>\n",
       "      <td>0</td>\n",
       "      <td>0</td>\n",
       "    </tr>\n",
       "    <tr>\n",
       "      <th>3</th>\n",
       "      <td>0</td>\n",
       "      <td>1</td>\n",
       "      <td>0</td>\n",
       "      <td>0</td>\n",
       "      <td>0</td>\n",
       "      <td>1</td>\n",
       "      <td>0</td>\n",
       "      <td>0</td>\n",
       "      <td>0</td>\n",
       "      <td>0</td>\n",
       "      <td>...</td>\n",
       "      <td>0</td>\n",
       "      <td>0</td>\n",
       "      <td>0</td>\n",
       "      <td>0</td>\n",
       "      <td>1</td>\n",
       "      <td>0</td>\n",
       "      <td>0</td>\n",
       "      <td>0</td>\n",
       "      <td>0</td>\n",
       "      <td>0</td>\n",
       "    </tr>\n",
       "    <tr>\n",
       "      <th>4</th>\n",
       "      <td>0</td>\n",
       "      <td>0</td>\n",
       "      <td>0</td>\n",
       "      <td>0</td>\n",
       "      <td>0</td>\n",
       "      <td>0</td>\n",
       "      <td>0</td>\n",
       "      <td>0</td>\n",
       "      <td>0</td>\n",
       "      <td>0</td>\n",
       "      <td>...</td>\n",
       "      <td>0</td>\n",
       "      <td>0</td>\n",
       "      <td>0</td>\n",
       "      <td>0</td>\n",
       "      <td>0</td>\n",
       "      <td>0</td>\n",
       "      <td>0</td>\n",
       "      <td>0</td>\n",
       "      <td>0</td>\n",
       "      <td>0</td>\n",
       "    </tr>\n",
       "  </tbody>\n",
       "</table>\n",
       "<p>5 rows × 117 columns</p>\n",
       "</div>"
      ],
      "text/plain": [
       "   NO_ABS  NO_accoudoir_central  NO_airbag_conducteur  NO_airbag_lateraux  \\\n",
       "0       0                     1                     0                   0   \n",
       "1       0                     1                     0                   0   \n",
       "2       0                     0                     0                   0   \n",
       "3       0                     1                     0                   0   \n",
       "4       0                     0                     0                   0   \n",
       "\n",
       "   NO_airbag_passager  NO_airbag_tete_rideau  NO_allumage_auto_feux  \\\n",
       "0                   0                      0                      1   \n",
       "1                   0                      1                      1   \n",
       "2                   0                      1                      1   \n",
       "3                   0                      1                      0   \n",
       "4                   0                      0                      0   \n",
       "\n",
       "   NO_antipatinage  NO_appuis_tete_arriere  NO_assistant_freinage  \\\n",
       "0                0                       0                      1   \n",
       "1                0                       0                      1   \n",
       "2                0                       0                      0   \n",
       "3                0                       0                      0   \n",
       "4                0                       0                      0   \n",
       "\n",
       "          ...          turbocharger_w_intercooler  \\\n",
       "0         ...                                   1   \n",
       "1         ...                                   1   \n",
       "2         ...                                   0   \n",
       "3         ...                                   0   \n",
       "4         ...                                   0   \n",
       "\n",
       "   electromagnetic_synchronous_motor  valvetrain_ohc  valvetrain_ohv  \\\n",
       "0                                  0               0               0   \n",
       "1                                  0               0               0   \n",
       "2                                  0               0               0   \n",
       "3                                  0               0               0   \n",
       "4                                  0               0               0   \n",
       "\n",
       "   permanent_magnet_synchronous_motor  NO_verre_intim_arriere  \\\n",
       "0                                   0                       1   \n",
       "1                                   0                       1   \n",
       "2                                   0                       1   \n",
       "3                                   1                       0   \n",
       "4                                   0                       0   \n",
       "\n",
       "   NO_vitres_electriques  NO_vitres_teintees  NO_volant_cuir  \\\n",
       "0                      0                   0               0   \n",
       "1                      0                   0               1   \n",
       "2                      0                   0               0   \n",
       "3                      0                   0               0   \n",
       "4                      0                   0               0   \n",
       "\n",
       "   NO_volant_reglable  \n",
       "0                   0  \n",
       "1                   0  \n",
       "2                   0  \n",
       "3                   0  \n",
       "4                   0  \n",
       "\n",
       "[5 rows x 117 columns]"
      ]
     },
     "execution_count": 54,
     "metadata": {},
     "output_type": "execute_result"
    }
   ],
   "source": [
    "bin_data.head()"
   ]
  },
  {
   "cell_type": "code",
   "execution_count": 56,
   "metadata": {
    "collapsed": false
   },
   "outputs": [
    {
     "data": {
      "text/html": [
       "<div>\n",
       "<style>\n",
       "    .dataframe thead tr:only-child th {\n",
       "        text-align: right;\n",
       "    }\n",
       "\n",
       "    .dataframe thead th {\n",
       "        text-align: left;\n",
       "    }\n",
       "\n",
       "    .dataframe tbody tr th {\n",
       "        vertical-align: top;\n",
       "    }\n",
       "</style>\n",
       "<table border=\"1\" class=\"dataframe\">\n",
       "  <thead>\n",
       "    <tr style=\"text-align: right;\">\n",
       "      <th></th>\n",
       "      <th>NO_ABS</th>\n",
       "      <th>NO_accoudoir_central</th>\n",
       "      <th>NO_airbag_conducteur</th>\n",
       "      <th>NO_airbag_lateraux</th>\n",
       "      <th>NO_airbag_passager</th>\n",
       "      <th>NO_airbag_tete_rideau</th>\n",
       "      <th>NO_allumage_auto_feux</th>\n",
       "      <th>NO_antipatinage</th>\n",
       "      <th>NO_appuis_tete_arriere</th>\n",
       "      <th>NO_assistant_freinage</th>\n",
       "      <th>...</th>\n",
       "      <th>turbocharger_w_intercooler</th>\n",
       "      <th>electromagnetic_synchronous_motor</th>\n",
       "      <th>valvetrain_ohc</th>\n",
       "      <th>valvetrain_ohv</th>\n",
       "      <th>permanent_magnet_synchronous_motor</th>\n",
       "      <th>NO_verre_intim_arriere</th>\n",
       "      <th>NO_vitres_electriques</th>\n",
       "      <th>NO_vitres_teintees</th>\n",
       "      <th>NO_volant_cuir</th>\n",
       "      <th>NO_volant_reglable</th>\n",
       "    </tr>\n",
       "  </thead>\n",
       "  <tbody>\n",
       "    <tr>\n",
       "      <th>0</th>\n",
       "      <td>-1</td>\n",
       "      <td>1</td>\n",
       "      <td>-1</td>\n",
       "      <td>-1</td>\n",
       "      <td>-1</td>\n",
       "      <td>-1</td>\n",
       "      <td>1</td>\n",
       "      <td>-1</td>\n",
       "      <td>-1</td>\n",
       "      <td>1</td>\n",
       "      <td>...</td>\n",
       "      <td>1</td>\n",
       "      <td>-1</td>\n",
       "      <td>-1</td>\n",
       "      <td>-1</td>\n",
       "      <td>-1</td>\n",
       "      <td>1</td>\n",
       "      <td>-1</td>\n",
       "      <td>-1</td>\n",
       "      <td>-1</td>\n",
       "      <td>-1</td>\n",
       "    </tr>\n",
       "    <tr>\n",
       "      <th>1</th>\n",
       "      <td>-1</td>\n",
       "      <td>1</td>\n",
       "      <td>-1</td>\n",
       "      <td>-1</td>\n",
       "      <td>-1</td>\n",
       "      <td>1</td>\n",
       "      <td>1</td>\n",
       "      <td>-1</td>\n",
       "      <td>-1</td>\n",
       "      <td>1</td>\n",
       "      <td>...</td>\n",
       "      <td>1</td>\n",
       "      <td>-1</td>\n",
       "      <td>-1</td>\n",
       "      <td>-1</td>\n",
       "      <td>-1</td>\n",
       "      <td>1</td>\n",
       "      <td>-1</td>\n",
       "      <td>-1</td>\n",
       "      <td>1</td>\n",
       "      <td>-1</td>\n",
       "    </tr>\n",
       "    <tr>\n",
       "      <th>2</th>\n",
       "      <td>-1</td>\n",
       "      <td>-1</td>\n",
       "      <td>-1</td>\n",
       "      <td>-1</td>\n",
       "      <td>-1</td>\n",
       "      <td>1</td>\n",
       "      <td>1</td>\n",
       "      <td>-1</td>\n",
       "      <td>-1</td>\n",
       "      <td>-1</td>\n",
       "      <td>...</td>\n",
       "      <td>-1</td>\n",
       "      <td>-1</td>\n",
       "      <td>-1</td>\n",
       "      <td>-1</td>\n",
       "      <td>-1</td>\n",
       "      <td>1</td>\n",
       "      <td>-1</td>\n",
       "      <td>-1</td>\n",
       "      <td>-1</td>\n",
       "      <td>-1</td>\n",
       "    </tr>\n",
       "    <tr>\n",
       "      <th>3</th>\n",
       "      <td>-1</td>\n",
       "      <td>1</td>\n",
       "      <td>-1</td>\n",
       "      <td>-1</td>\n",
       "      <td>-1</td>\n",
       "      <td>1</td>\n",
       "      <td>-1</td>\n",
       "      <td>-1</td>\n",
       "      <td>-1</td>\n",
       "      <td>-1</td>\n",
       "      <td>...</td>\n",
       "      <td>-1</td>\n",
       "      <td>-1</td>\n",
       "      <td>-1</td>\n",
       "      <td>-1</td>\n",
       "      <td>1</td>\n",
       "      <td>-1</td>\n",
       "      <td>-1</td>\n",
       "      <td>-1</td>\n",
       "      <td>-1</td>\n",
       "      <td>-1</td>\n",
       "    </tr>\n",
       "    <tr>\n",
       "      <th>4</th>\n",
       "      <td>-1</td>\n",
       "      <td>-1</td>\n",
       "      <td>-1</td>\n",
       "      <td>-1</td>\n",
       "      <td>-1</td>\n",
       "      <td>-1</td>\n",
       "      <td>-1</td>\n",
       "      <td>-1</td>\n",
       "      <td>-1</td>\n",
       "      <td>-1</td>\n",
       "      <td>...</td>\n",
       "      <td>-1</td>\n",
       "      <td>-1</td>\n",
       "      <td>-1</td>\n",
       "      <td>-1</td>\n",
       "      <td>-1</td>\n",
       "      <td>-1</td>\n",
       "      <td>-1</td>\n",
       "      <td>-1</td>\n",
       "      <td>-1</td>\n",
       "      <td>-1</td>\n",
       "    </tr>\n",
       "  </tbody>\n",
       "</table>\n",
       "<p>5 rows × 117 columns</p>\n",
       "</div>"
      ],
      "text/plain": [
       "   NO_ABS  NO_accoudoir_central  NO_airbag_conducteur  NO_airbag_lateraux  \\\n",
       "0      -1                     1                    -1                  -1   \n",
       "1      -1                     1                    -1                  -1   \n",
       "2      -1                    -1                    -1                  -1   \n",
       "3      -1                     1                    -1                  -1   \n",
       "4      -1                    -1                    -1                  -1   \n",
       "\n",
       "   NO_airbag_passager  NO_airbag_tete_rideau  NO_allumage_auto_feux  \\\n",
       "0                  -1                     -1                      1   \n",
       "1                  -1                      1                      1   \n",
       "2                  -1                      1                      1   \n",
       "3                  -1                      1                     -1   \n",
       "4                  -1                     -1                     -1   \n",
       "\n",
       "   NO_antipatinage  NO_appuis_tete_arriere  NO_assistant_freinage  \\\n",
       "0               -1                      -1                      1   \n",
       "1               -1                      -1                      1   \n",
       "2               -1                      -1                     -1   \n",
       "3               -1                      -1                     -1   \n",
       "4               -1                      -1                     -1   \n",
       "\n",
       "          ...          turbocharger_w_intercooler  \\\n",
       "0         ...                                   1   \n",
       "1         ...                                   1   \n",
       "2         ...                                  -1   \n",
       "3         ...                                  -1   \n",
       "4         ...                                  -1   \n",
       "\n",
       "   electromagnetic_synchronous_motor  valvetrain_ohc  valvetrain_ohv  \\\n",
       "0                                 -1              -1              -1   \n",
       "1                                 -1              -1              -1   \n",
       "2                                 -1              -1              -1   \n",
       "3                                 -1              -1              -1   \n",
       "4                                 -1              -1              -1   \n",
       "\n",
       "   permanent_magnet_synchronous_motor  NO_verre_intim_arriere  \\\n",
       "0                                  -1                       1   \n",
       "1                                  -1                       1   \n",
       "2                                  -1                       1   \n",
       "3                                   1                      -1   \n",
       "4                                  -1                      -1   \n",
       "\n",
       "   NO_vitres_electriques  NO_vitres_teintees  NO_volant_cuir  \\\n",
       "0                     -1                  -1              -1   \n",
       "1                     -1                  -1               1   \n",
       "2                     -1                  -1              -1   \n",
       "3                     -1                  -1              -1   \n",
       "4                     -1                  -1              -1   \n",
       "\n",
       "   NO_volant_reglable  \n",
       "0                  -1  \n",
       "1                  -1  \n",
       "2                  -1  \n",
       "3                  -1  \n",
       "4                  -1  \n",
       "\n",
       "[5 rows x 117 columns]"
      ]
     },
     "execution_count": 56,
     "metadata": {},
     "output_type": "execute_result"
    }
   ],
   "source": [
    "bin_data.replace(to_replace=0, value=-1).head()"
   ]
  },
  {
   "cell_type": "code",
   "execution_count": 57,
   "metadata": {
    "collapsed": true
   },
   "outputs": [
    {
     "name": "stderr",
     "output_type": "stream",
     "text": [
      "/usr/local/lib/python2.7/dist-packages/ipykernel_launcher.py:1: SettingWithCopyWarning: \n",
      "A value is trying to be set on a copy of a slice from a DataFrame\n",
      "\n",
      "See the caveats in the documentation: http://pandas.pydata.org/pandas-docs/stable/indexing.html#indexing-view-versus-copy\n",
      "  \"\"\"Entry point for launching an IPython kernel.\n"
     ]
    }
   ],
   "source": [
    "bin_data.replace(to_replace=0, value=-1, inplace=True)"
   ]
  },
  {
   "cell_type": "code",
   "execution_count": 58,
   "metadata": {
    "collapsed": true
   },
   "outputs": [],
   "source": [
    "bin_mat = bin_data.as_matrix().astype('float32')"
   ]
  },
  {
   "cell_type": "code",
   "execution_count": 59,
   "metadata": {
    "collapsed": false
   },
   "outputs": [
    {
     "data": {
      "text/plain": [
       "(64553, 117)"
      ]
     },
     "execution_count": 59,
     "metadata": {},
     "output_type": "execute_result"
    }
   ],
   "source": [
    "bin_mat.shape"
   ]
  },
  {
   "cell_type": "markdown",
   "metadata": {},
   "source": [
    "## Standardisation"
   ]
  },
  {
   "cell_type": "code",
   "execution_count": 29,
   "metadata": {
    "collapsed": true
   },
   "outputs": [
    {
     "name": "stderr",
     "output_type": "stream",
     "text": [
      "/usr/local/lib/python2.7/dist-packages/sklearn/preprocessing/data.py:160: UserWarning: Numerical issues were encountered when centering the data and might not be solved. Dataset may contain too large values. You may need to prescale your features.\n",
      "  warnings.warn(\"Numerical issues were encountered \"\n",
      "/usr/local/lib/python2.7/dist-packages/sklearn/preprocessing/data.py:177: UserWarning: Numerical issues were encountered when scaling the data and might not be solved. The standard deviation of the data is probably very close to 0. \n",
      "  warnings.warn(\"Numerical issues were encountered \"\n"
     ]
    }
   ],
   "source": [
    "from sklearn.preprocessing import scale\n",
    "scaled_cont_mat = scale(cont_mat)"
   ]
  },
  {
   "cell_type": "code",
   "execution_count": 31,
   "metadata": {
    "collapsed": true
   },
   "outputs": [],
   "source": [
    "import numpy as np\n",
    "from scipy import stats"
   ]
  },
  {
   "cell_type": "code",
   "execution_count": 37,
   "metadata": {
    "collapsed": true
   },
   "outputs": [],
   "source": [
    "avant_scaling = stats.describe(cont_mat)"
   ]
  },
  {
   "cell_type": "code",
   "execution_count": 38,
   "metadata": {
    "collapsed": true,
    "scrolled": true
   },
   "outputs": [],
   "source": [
    "apres_scaling = stats.describe(scaled_cont_mat)"
   ]
  },
  {
   "cell_type": "code",
   "execution_count": 40,
   "metadata": {
    "collapsed": true
   },
   "outputs": [],
   "source": [
    "elements = range(1, len(avant_scaling.variance) + 1)"
   ]
  },
  {
   "cell_type": "code",
   "execution_count": 53,
   "metadata": {
    "collapsed": false
   },
   "outputs": [
    {
     "data": {
      "image/png": "[encoded data removed]",
      "text/plain": [
       "<matplotlib.figure.Figure at 0x7f9c64f3f310>"
      ]
     },
     "metadata": {},
     "output_type": "display_data"
    }
   ],
   "source": [
    "plt.subplot(211)\n",
    "plt.plot(elements, avant_scaling.mean - np.sqrt(avant_scaling.variance), '--', color='blue')\n",
    "plt.plot(elements, avant_scaling.mean + np.sqrt(avant_scaling.variance), '--', color='blue')\n",
    "plt.plot(elements, avant_scaling.mean , '-', label=\"Avant scaling\", color='blue')\n",
    "plt.yscale('log')\n",
    "plt.ylabel('Valeurs avant scaling (log)')\n",
    "\n",
    "plt.subplot(212)\n",
    "plt.plot(elements, apres_scaling.mean - np.sqrt(apres_scaling.variance), '--', color='green')\n",
    "plt.plot(elements, apres_scaling.mean + np.sqrt(apres_scaling.variance), '--', color='green')\n",
    "plt.plot(elements, apres_scaling.mean , '-', label=\"Apres scaling\", color='green')\n",
    "plt.ylabel('Valeurs apres scaling')\n",
    "plt.xlabel('Variables')\n",
    "\n",
    "plt.show()\n",
    "\n"
   ]
  },
  {
   "cell_type": "code",
   "execution_count": 60,
   "metadata": {
    "collapsed": true
   },
   "outputs": [],
   "source": [
    "var_cat = stats.describe(bin_mat)"
   ]
  },
  {
   "cell_type": "code",
   "execution_count": 66,
   "metadata": {
    "collapsed": false
   },
   "outputs": [
    {
     "data": {
      "image/png": "[encoded data removed]",
      "text/plain": [
       "<matplotlib.figure.Figure at 0x7f9c652cd390>"
      ]
     },
     "metadata": {},
     "output_type": "display_data"
    }
   ],
   "source": [
    "elements = range(1, len(var_cat.variance) + 1)\n",
    "\n",
    "plt.plot(elements, var_cat.mean , 'o', label=\"Apres scaling\", color='green')\n",
    "plt.ylabel('Valeurs apres scaling')\n",
    "plt.xlabel('Variables')\n",
    "\n",
    "plt.show()"
   ]
  },
  {
   "cell_type": "markdown",
   "metadata": {},
   "source": [
    "## Assemblage de la matrice"
   ]
  },
  {
   "cell_type": "code",
   "execution_count": 67,
   "metadata": {
    "collapsed": true
   },
   "outputs": [],
   "source": [
    "mat = np.hstack((bin_mat, cont_mat))"
   ]
  },
  {
   "cell_type": "code",
   "execution_count": 68,
   "metadata": {
    "collapsed": false
   },
   "outputs": [
    {
     "data": {
      "text/plain": [
       "(64553, 174)"
      ]
     },
     "execution_count": 68,
     "metadata": {},
     "output_type": "execute_result"
    }
   ],
   "source": [
    "mat.shape"
   ]
  },
  {
   "cell_type": "markdown",
   "metadata": {},
   "source": [
    "## Echantillonage des données"
   ]
  },
  {
   "cell_type": "code",
   "execution_count": 103,
   "metadata": {
    "collapsed": true
   },
   "outputs": [],
   "source": [
    "# test set 20%\n",
    "mask = np.random.choice([False,True] , mat.shape[0], p=[0.8, 0.2])"
   ]
  },
  {
   "cell_type": "code",
   "execution_count": 112,
   "metadata": {
    "collapsed": true
   },
   "outputs": [],
   "source": [
    "test_data = mat[mask]\n",
    "y_test = target[mask]\n",
    "train_data = mat[np.invert(mask)]\n",
    "y_train = target[np.invert(mask)]"
   ]
  },
  {
   "cell_type": "code",
   "execution_count": 113,
   "metadata": {
    "collapsed": false
   },
   "outputs": [
    {
     "data": {
      "text/plain": [
       "5153"
      ]
     },
     "execution_count": 113,
     "metadata": {},
     "output_type": "execute_result"
    }
   ],
   "source": [
    "# validation set 10 %\n",
    "val_num = int(np.round(train_data.shape[0] * 0.1))\n",
    "val_num"
   ]
  },
  {
   "cell_type": "code",
   "execution_count": 114,
   "metadata": {
    "collapsed": true
   },
   "outputs": [],
   "source": [
    "val_data = train_data[:val_num]\n",
    "y_val = target[:val_num]\n",
    "train_data = train_data[val_num:]\n",
    "y_train = y_train[val_num:]"
   ]
  },
  {
   "cell_type": "code",
   "execution_count": 115,
   "metadata": {
    "collapsed": false
   },
   "outputs": [
    {
     "data": {
      "text/plain": [
       "(46379, 174)"
      ]
     },
     "execution_count": 115,
     "metadata": {},
     "output_type": "execute_result"
    }
   ],
   "source": [
    "train_data.shape"
   ]
  },
  {
   "cell_type": "code",
   "execution_count": 116,
   "metadata": {
    "collapsed": false
   },
   "outputs": [
    {
     "data": {
      "text/plain": [
       "(46379, 9)"
      ]
     },
     "execution_count": 116,
     "metadata": {},
     "output_type": "execute_result"
    }
   ],
   "source": [
    "y_train.shape"
   ]
  },
  {
   "cell_type": "code",
   "execution_count": 117,
   "metadata": {
    "collapsed": false
   },
   "outputs": [
    {
     "data": {
      "text/plain": [
       "(5153, 174)"
      ]
     },
     "execution_count": 117,
     "metadata": {},
     "output_type": "execute_result"
    }
   ],
   "source": [
    "val_data.shape"
   ]
  },
  {
   "cell_type": "code",
   "execution_count": 118,
   "metadata": {
    "collapsed": false
   },
   "outputs": [
    {
     "data": {
      "text/plain": [
       "(5153, 9)"
      ]
     },
     "execution_count": 118,
     "metadata": {},
     "output_type": "execute_result"
    }
   ],
   "source": [
    "y_val.shape"
   ]
  },
  {
   "cell_type": "markdown",
   "metadata": {},
   "source": [
    "## Echantillonage stratifié"
   ]
  },
  {
   "cell_type": "code",
   "execution_count": 140,
   "metadata": {
    "collapsed": true
   },
   "outputs": [],
   "source": [
    "from sklearn.model_selection import StratifiedShuffleSplit"
   ]
  },
  {
   "cell_type": "code",
   "execution_count": 141,
   "metadata": {
    "collapsed": true
   },
   "outputs": [],
   "source": [
    "sss = StratifiedShuffleSplit(n_splits=1,test_size=0.2)\n",
    "for train_index, test_index in sss.split(mat,target):\n",
    "    X_train, X_test = mat[train_index], mat[test_index]\n",
    "    y_train, y_test = target[train_index], target[test_index]"
   ]
  },
  {
   "cell_type": "code",
   "execution_count": 142,
   "metadata": {
    "collapsed": false
   },
   "outputs": [
    {
     "data": {
      "text/plain": [
       "(51642, 174)"
      ]
     },
     "execution_count": 142,
     "metadata": {},
     "output_type": "execute_result"
    }
   ],
   "source": [
    "X_train.shape"
   ]
  },
  {
   "cell_type": "code",
   "execution_count": 143,
   "metadata": {
    "collapsed": false
   },
   "outputs": [
    {
     "data": {
      "text/plain": [
       "(51642, 9)"
      ]
     },
     "execution_count": 143,
     "metadata": {},
     "output_type": "execute_result"
    }
   ],
   "source": [
    "y_train.shape"
   ]
  },
  {
   "cell_type": "code",
   "execution_count": 144,
   "metadata": {
    "collapsed": true
   },
   "outputs": [],
   "source": [
    "#validation set\n",
    "sss2 = StratifiedShuffleSplit(n_splits=1, test_size=0.1)\n",
    "for train_index, test_index in sss2.split(X_train, y_train):\n",
    "    partial_X_train, X_val = X_train[train_index], X_train[test_index]\n",
    "    partial_y_train, y_val = y_train[train_index], y_train[test_index]"
   ]
  },
  {
   "cell_type": "code",
   "execution_count": 145,
   "metadata": {
    "collapsed": false
   },
   "outputs": [
    {
     "data": {
      "text/plain": [
       "(46477, 174)"
      ]
     },
     "execution_count": 145,
     "metadata": {},
     "output_type": "execute_result"
    }
   ],
   "source": [
    "partial_X_train.shape"
   ]
  },
  {
   "cell_type": "code",
   "execution_count": 146,
   "metadata": {
    "collapsed": false
   },
   "outputs": [
    {
     "data": {
      "text/plain": [
       "(46477, 9)"
      ]
     },
     "execution_count": 146,
     "metadata": {},
     "output_type": "execute_result"
    }
   ],
   "source": [
    "partial_y_train.shape"
   ]
  },
  {
   "cell_type": "code",
   "execution_count": 156,
   "metadata": {
    "collapsed": true
   },
   "outputs": [],
   "source": [
    "categories = np.arange(9)"
   ]
  },
  {
   "cell_type": "code",
   "execution_count": 162,
   "metadata": {
    "collapsed": true
   },
   "outputs": [],
   "source": [
    "import pandas as pd\n",
    "import seaborn as sns"
   ]
  },
  {
   "cell_type": "code",
   "execution_count": 161,
   "metadata": {
    "collapsed": true
   },
   "outputs": [],
   "source": [
    "df = pd.DataFrame()\n",
    "df['categories'] = categories\n",
    "df['train'] =  partial_y_train.sum(axis=0)/partial_y_train.sum()\n",
    "df['validation'] = y_val.sum(axis=0)/y_val.sum()\n",
    "df['test'] = y_test.sum(axis=0)/y_test.sum()"
   ]
  },
  {
   "cell_type": "code",
   "execution_count": 165,
   "metadata": {
    "collapsed": false
   },
   "outputs": [
    {
     "data": {
      "text/html": [
       "<div>\n",
       "<style>\n",
       "    .dataframe thead tr:only-child th {\n",
       "        text-align: right;\n",
       "    }\n",
       "\n",
       "    .dataframe thead th {\n",
       "        text-align: left;\n",
       "    }\n",
       "\n",
       "    .dataframe tbody tr th {\n",
       "        vertical-align: top;\n",
       "    }\n",
       "</style>\n",
       "<table border=\"1\" class=\"dataframe\">\n",
       "  <thead>\n",
       "    <tr style=\"text-align: right;\">\n",
       "      <th></th>\n",
       "      <th>categories</th>\n",
       "      <th>train</th>\n",
       "      <th>validation</th>\n",
       "      <th>test</th>\n",
       "    </tr>\n",
       "  </thead>\n",
       "  <tbody>\n",
       "    <tr>\n",
       "      <th>0</th>\n",
       "      <td>0</td>\n",
       "      <td>0.011724</td>\n",
       "      <td>0.009825</td>\n",
       "      <td>0.011385</td>\n",
       "    </tr>\n",
       "    <tr>\n",
       "      <th>1</th>\n",
       "      <td>1</td>\n",
       "      <td>0.033119</td>\n",
       "      <td>0.031244</td>\n",
       "      <td>0.033370</td>\n",
       "    </tr>\n",
       "    <tr>\n",
       "      <th>2</th>\n",
       "      <td>2</td>\n",
       "      <td>0.039865</td>\n",
       "      <td>0.040283</td>\n",
       "      <td>0.040280</td>\n",
       "    </tr>\n",
       "    <tr>\n",
       "      <th>3</th>\n",
       "      <td>3</td>\n",
       "      <td>0.338762</td>\n",
       "      <td>0.322460</td>\n",
       "      <td>0.339432</td>\n",
       "    </tr>\n",
       "    <tr>\n",
       "      <th>4</th>\n",
       "      <td>4</td>\n",
       "      <td>0.094771</td>\n",
       "      <td>0.101002</td>\n",
       "      <td>0.092965</td>\n",
       "    </tr>\n",
       "    <tr>\n",
       "      <th>5</th>\n",
       "      <td>5</td>\n",
       "      <td>0.000742</td>\n",
       "      <td>0.000983</td>\n",
       "      <td>0.001335</td>\n",
       "    </tr>\n",
       "    <tr>\n",
       "      <th>6</th>\n",
       "      <td>6</td>\n",
       "      <td>0.210545</td>\n",
       "      <td>0.217921</td>\n",
       "      <td>0.208072</td>\n",
       "    </tr>\n",
       "    <tr>\n",
       "      <th>7</th>\n",
       "      <td>7</td>\n",
       "      <td>0.193472</td>\n",
       "      <td>0.201415</td>\n",
       "      <td>0.194959</td>\n",
       "    </tr>\n",
       "    <tr>\n",
       "      <th>8</th>\n",
       "      <td>8</td>\n",
       "      <td>0.077000</td>\n",
       "      <td>0.074867</td>\n",
       "      <td>0.078204</td>\n",
       "    </tr>\n",
       "  </tbody>\n",
       "</table>\n",
       "</div>"
      ],
      "text/plain": [
       "   categories     train  validation      test\n",
       "0           0  0.011724    0.009825  0.011385\n",
       "1           1  0.033119    0.031244  0.033370\n",
       "2           2  0.039865    0.040283  0.040280\n",
       "3           3  0.338762    0.322460  0.339432\n",
       "4           4  0.094771    0.101002  0.092965\n",
       "5           5  0.000742    0.000983  0.001335\n",
       "6           6  0.210545    0.217921  0.208072\n",
       "7           7  0.193472    0.201415  0.194959\n",
       "8           8  0.077000    0.074867  0.078204"
      ]
     },
     "execution_count": 165,
     "metadata": {},
     "output_type": "execute_result"
    }
   ],
   "source": [
    "df"
   ]
  },
  {
   "cell_type": "code",
   "execution_count": 170,
   "metadata": {
    "collapsed": false
   },
   "outputs": [
    {
     "data": {
      "image/png": "[encoded data removed]",
      "text/plain": [
       "<matplotlib.figure.Figure at 0x7f9c36dbfa50>"
      ]
     },
     "metadata": {},
     "output_type": "display_data"
    }
   ],
   "source": [
    "df.plot(x=\"categories\",y=[\"train\",\"validation\",\"test\"], kind=\"bar\")\n",
    "plt.show()"
   ]
  },
  {
   "cell_type": "markdown",
   "metadata": {},
   "source": [
    "## Deeplearning modele"
   ]
  },
  {
   "cell_type": "code",
   "execution_count": 175,
   "metadata": {
    "collapsed": true
   },
   "outputs": [],
   "source": [
    "from keras import models\n",
    "from keras import layers\n",
    "from keras.optimizers import SGD"
   ]
  },
  {
   "cell_type": "code",
   "execution_count": 174,
   "metadata": {
    "collapsed": true
   },
   "outputs": [],
   "source": [
    "model = models.Sequential()\n",
    "model.add(layers.Dense(64, activation='relu', input_shape=(174,)))\n",
    "model.add(layers.Dense(64, activation='relu'))\n",
    "model.add(layers.Dense(9, activation='softmax'))"
   ]
  },
  {
   "cell_type": "code",
   "execution_count": 201,
   "metadata": {
    "collapsed": true
   },
   "outputs": [],
   "source": [
    "from keras.optimizers import RMSprop"
   ]
  },
  {
   "cell_type": "code",
   "execution_count": 209,
   "metadata": {
    "collapsed": true
   },
   "outputs": [],
   "source": [
    "opt = RMSprop(lr=0.1, decay=1e-6)"
   ]
  },
  {
   "cell_type": "code",
   "execution_count": 210,
   "metadata": {
    "collapsed": true
   },
   "outputs": [],
   "source": [
    "model.compile(optimizer=opt,\n",
    "             loss='categorical_crossentropy',\n",
    "             metrics=['accuracy'])"
   ]
  },
  {
   "cell_type": "code",
   "execution_count": 211,
   "metadata": {
    "collapsed": false
   },
   "outputs": [
    {
     "name": "stdout",
     "output_type": "stream",
     "text": [
      "Train on 46477 samples, validate on 5165 samples\n",
      "Epoch 1/10\n",
      "46477/46477 [==============================] - 1s - loss: 10.5038 - acc: 0.3339 - val_loss: 10.7600 - val_acc: 0.3177\n",
      "Epoch 2/10\n",
      "46477/46477 [==============================] - 1s - loss: 10.5038 - acc: 0.3339 - val_loss: 10.7600 - val_acc: 0.3177\n",
      "Epoch 3/10\n",
      "46477/46477 [==============================] - 1s - loss: 10.5038 - acc: 0.3339 - val_loss: 10.7600 - val_acc: 0.3177\n",
      "Epoch 4/10\n",
      "46477/46477 [==============================] - 1s - loss: 10.5038 - acc: 0.3339 - val_loss: 10.7600 - val_acc: 0.3177\n",
      "Epoch 5/10\n",
      "46477/46477 [==============================] - 1s - loss: 10.5038 - acc: 0.3339 - val_loss: 10.7600 - val_acc: 0.3177\n",
      "Epoch 6/10\n",
      "46477/46477 [==============================] - 1s - loss: 10.5038 - acc: 0.3339 - val_loss: 10.7600 - val_acc: 0.3177\n",
      "Epoch 7/10\n",
      "46477/46477 [==============================] - 1s - loss: 10.5038 - acc: 0.3339 - val_loss: 10.7600 - val_acc: 0.3177\n",
      "Epoch 8/10\n",
      "46477/46477 [==============================] - 1s - loss: 10.5038 - acc: 0.3339 - val_loss: 10.7600 - val_acc: 0.3177\n",
      "Epoch 9/10\n",
      "46477/46477 [==============================] - 1s - loss: 10.5038 - acc: 0.3339 - val_loss: 10.7600 - val_acc: 0.3177\n",
      "Epoch 10/10\n",
      "46477/46477 [==============================] - 1s - loss: 10.5038 - acc: 0.3339 - val_loss: 10.7600 - val_acc: 0.3177\n"
     ]
    }
   ],
   "source": [
    "# validation\n",
    "history = model.fit(partial_X_train,\n",
    "                   partial_y_train,\n",
    "                   epochs=10,\n",
    "                   batch_size=32,\n",
    "                   validation_data=(X_val,y_val))"
   ]
  },
  {
   "cell_type": "markdown",
   "metadata": {},
   "source": [
    "## Clustering"
   ]
  },
  {
   "cell_type": "code",
   "execution_count": 219,
   "metadata": {
    "collapsed": true
   },
   "outputs": [],
   "source": [
    "train_cat = [np.argmax(x) for x in y_train] "
   ]
  },
  {
   "cell_type": "code",
   "execution_count": 221,
   "metadata": {
    "collapsed": true
   },
   "outputs": [],
   "source": [
    "from sklearn.metrics.pairwise import cosine_similarity"
   ]
  },
  {
   "cell_type": "code",
   "execution_count": null,
   "metadata": {
    "collapsed": true
   },
   "outputs": [],
   "source": [
    "sim = cosine_similarity(X_train)"
   ]
  },
  {
   "cell_type": "code",
   "execution_count": null,
   "metadata": {
    "collapsed": true
   },
   "outputs": [],
   "source": []
  }
 ],
 "metadata": {
  "kernelspec": {
   "display_name": "Python 2",
   "language": "python",
   "name": "python2"
  },
  "language_info": {
   "codemirror_mode": {
    "name": "ipython",
    "version": 2
   },
   "file_extension": ".py",
   "mimetype": "text/x-python",
   "name": "python",
   "nbconvert_exporter": "python",
   "pygments_lexer": "ipython2",
   "version": "2.7.11"
  }
 },
 "nbformat": 4,
 "nbformat_minor": 2
}
