{
 "cells": [
  {
   "cell_type": "markdown",
   "metadata": {},
   "source": [
    "# Data Science Challenge 2\n",
    "\n",
    "Get the carmakers selling cars in France for each year using [this API](http://www.carqueryapi.com/api/0.3/?callback=?&cmd=getMakes&year=1941&sold_in_fr=1)"
   ]
  },
  {
   "cell_type": "code",
   "execution_count": 87,
   "metadata": {
    "collapsed": false
   },
   "outputs": [],
   "source": [
    "import urllib, json\n",
    "#new dict\n",
    "cars = {}\n",
    "\n",
    "for i in range(1940,2015):\n",
    "        year = i\n",
    "        url = \"http://www.carqueryapi.com/api/0.3/?callback=?&cmd=getMakes&year={}&sold_in_fr=1\".format(year)\n",
    "        response = urllib.urlopen(url)\n",
    "        data = [line[2:-2] for line in response.readlines() if line != '\\n']\n",
    "        cars[year] = json.loads(data[0])\n",
    "        "
   ]
  },
  {
   "cell_type": "code",
   "execution_count": 74,
   "metadata": {
    "collapsed": false
   },
   "outputs": [],
   "source": [
    "#save the file\n",
    "with open('cars_dict.json', 'w') as f:\n",
    "        json.dump(cars, f)"
   ]
  },
  {
   "cell_type": "code",
   "execution_count": 88,
   "metadata": {
    "collapsed": false
   },
   "outputs": [
    {
     "data": {
      "text/plain": [
       "[1940,\n",
       " 1941,\n",
       " 1942,\n",
       " 1943,\n",
       " 1944,\n",
       " 1945,\n",
       " 1946,\n",
       " 1947,\n",
       " 1948,\n",
       " 1949,\n",
       " 1950,\n",
       " 1951,\n",
       " 1952,\n",
       " 1953,\n",
       " 1954,\n",
       " 1955,\n",
       " 1956,\n",
       " 1957,\n",
       " 1958,\n",
       " 1959,\n",
       " 1960,\n",
       " 1961,\n",
       " 1962,\n",
       " 1963,\n",
       " 1964,\n",
       " 1965,\n",
       " 1966,\n",
       " 1967,\n",
       " 1968,\n",
       " 1969,\n",
       " 1970,\n",
       " 1971,\n",
       " 1972,\n",
       " 1973,\n",
       " 1974,\n",
       " 1975,\n",
       " 1976,\n",
       " 1977,\n",
       " 1978,\n",
       " 1979,\n",
       " 1980,\n",
       " 1981,\n",
       " 1982,\n",
       " 1983,\n",
       " 1984,\n",
       " 1985,\n",
       " 1986,\n",
       " 1987,\n",
       " 1988,\n",
       " 1989,\n",
       " 1990,\n",
       " 1991,\n",
       " 1992,\n",
       " 1993,\n",
       " 1994,\n",
       " 1995,\n",
       " 1996,\n",
       " 1997,\n",
       " 1998,\n",
       " 1999,\n",
       " 2000,\n",
       " 2001,\n",
       " 2002,\n",
       " 2003,\n",
       " 2004,\n",
       " 2005,\n",
       " 2006,\n",
       " 2007,\n",
       " 2008,\n",
       " 2009,\n",
       " 2010,\n",
       " 2011,\n",
       " 2012,\n",
       " 2013,\n",
       " 2014]"
      ]
     },
     "execution_count": 88,
     "metadata": {},
     "output_type": "execute_result"
    }
   ],
   "source": [
    "years = cars.keys()\n",
    "years.sort()\n",
    "years"
   ]
  },
  {
   "cell_type": "code",
   "execution_count": 82,
   "metadata": {
    "collapsed": false
   },
   "outputs": [],
   "source": [
    "country_brands = [(makers.get('make_country'), makers.get('make_display')) for makers in cars.items()[1][1].get('Makes')]\n"
   ]
  },
  {
   "cell_type": "code",
   "execution_count": 77,
   "metadata": {
    "collapsed": false
   },
   "outputs": [],
   "source": [
    "from collections import defaultdict\n",
    "nb_brand_per_country = defaultdict(int)\n",
    "for elmt in country_brands:\n",
    "    nb_brand_per_country[elmt[0]] += 1 \n"
   ]
  },
  {
   "cell_type": "code",
   "execution_count": 89,
   "metadata": {
    "collapsed": false
   },
   "outputs": [
    {
     "data": {
      "text/plain": [
       "{1940: {u'error': u'CarQuery API access has been denied.'},\n",
       " 1941: {u'error': u'CarQuery API access has been denied.'},\n",
       " 1942: {u'error': u'CarQuery API access has been denied.'},\n",
       " 1943: {u'error': u'CarQuery API access has been denied.'},\n",
       " 1944: {u'error': u'CarQuery API access has been denied.'},\n",
       " 1945: {u'error': u'CarQuery API access has been denied.'},\n",
       " 1946: {u'error': u'CarQuery API access has been denied.'},\n",
       " 1947: {u'error': u'CarQuery API access has been denied.'},\n",
       " 1948: {u'error': u'CarQuery API access has been denied.'},\n",
       " 1949: {u'error': u'CarQuery API access has been denied.'},\n",
       " 1950: {u'error': u'CarQuery API access has been denied.'},\n",
       " 1951: {u'error': u'CarQuery API access has been denied.'},\n",
       " 1952: {u'error': u'CarQuery API access has been denied.'},\n",
       " 1953: {u'error': u'CarQuery API access has been denied.'},\n",
       " 1954: {u'error': u'CarQuery API access has been denied.'},\n",
       " 1955: {u'error': u'CarQuery API access has been denied.'},\n",
       " 1956: {u'error': u'CarQuery API access has been denied.'},\n",
       " 1957: {u'error': u'CarQuery API access has been denied.'},\n",
       " 1958: {u'error': u'CarQuery API access has been denied.'},\n",
       " 1959: {u'error': u'CarQuery API access has been denied.'},\n",
       " 1960: {u'error': u'CarQuery API access has been denied.'},\n",
       " 1961: {u'error': u'CarQuery API access has been denied.'},\n",
       " 1962: {u'error': u'CarQuery API access has been denied.'},\n",
       " 1963: {u'error': u'CarQuery API access has been denied.'},\n",
       " 1964: {u'error': u'CarQuery API access has been denied.'},\n",
       " 1965: {u'error': u'CarQuery API access has been denied.'},\n",
       " 1966: {u'error': u'CarQuery API access has been denied.'},\n",
       " 1967: {u'error': u'CarQuery API access has been denied.'},\n",
       " 1968: {u'error': u'CarQuery API access has been denied.'},\n",
       " 1969: {u'error': u'CarQuery API access has been denied.'},\n",
       " 1970: {u'error': u'CarQuery API access has been denied.'},\n",
       " 1971: {u'error': u'CarQuery API access has been denied.'},\n",
       " 1972: {u'error': u'CarQuery API access has been denied.'},\n",
       " 1973: {u'error': u'CarQuery API access has been denied.'},\n",
       " 1974: {u'error': u'CarQuery API access has been denied.'},\n",
       " 1975: {u'error': u'CarQuery API access has been denied.'},\n",
       " 1976: {u'error': u'CarQuery API access has been denied.'},\n",
       " 1977: {u'error': u'CarQuery API access has been denied.'},\n",
       " 1978: {u'error': u'CarQuery API access has been denied.'},\n",
       " 1979: {u'error': u'CarQuery API access has been denied.'},\n",
       " 1980: {u'error': u'CarQuery API access has been denied.'},\n",
       " 1981: {u'error': u'CarQuery API access has been denied.'},\n",
       " 1982: {u'error': u'CarQuery API access has been denied.'},\n",
       " 1983: {u'error': u'CarQuery API access has been denied.'},\n",
       " 1984: {u'error': u'CarQuery API access has been denied.'},\n",
       " 1985: {u'error': u'CarQuery API access has been denied.'},\n",
       " 1986: {u'error': u'CarQuery API access has been denied.'},\n",
       " 1987: {u'error': u'CarQuery API access has been denied.'},\n",
       " 1988: {u'error': u'CarQuery API access has been denied.'},\n",
       " 1989: {u'error': u'CarQuery API access has been denied.'},\n",
       " 1990: {u'error': u'CarQuery API access has been denied.'},\n",
       " 1991: {u'error': u'CarQuery API access has been denied.'},\n",
       " 1992: {u'error': u'CarQuery API access has been denied.'},\n",
       " 1993: {u'error': u'CarQuery API access has been denied.'},\n",
       " 1994: {u'error': u'CarQuery API access has been denied.'},\n",
       " 1995: {u'error': u'CarQuery API access has been denied.'},\n",
       " 1996: {u'error': u'CarQuery API access has been denied.'},\n",
       " 1997: {u'error': u'CarQuery API access has been denied.'},\n",
       " 1998: {u'error': u'CarQuery API access has been denied.'},\n",
       " 1999: {u'error': u'CarQuery API access has been denied.'},\n",
       " 2000: {u'error': u'CarQuery API access has been denied.'},\n",
       " 2001: {u'error': u'CarQuery API access has been denied.'},\n",
       " 2002: {u'error': u'CarQuery API access has been denied.'},\n",
       " 2003: {u'error': u'CarQuery API access has been denied.'},\n",
       " 2004: {u'error': u'CarQuery API access has been denied.'},\n",
       " 2005: {u'error': u'CarQuery API access has been denied.'},\n",
       " 2006: {u'error': u'CarQuery API access has been denied.'},\n",
       " 2007: {u'error': u'CarQuery API access has been denied.'},\n",
       " 2008: {u'error': u'CarQuery API access has been denied.'},\n",
       " 2009: {u'error': u'CarQuery API access has been denied.'},\n",
       " 2010: {u'error': u'CarQuery API access has been denied.'},\n",
       " 2011: {u'error': u'CarQuery API access has been denied.'},\n",
       " 2012: {u'error': u'CarQuery API access has been denied.'},\n",
       " 2013: {u'error': u'CarQuery API access has been denied.'},\n",
       " 2014: {u'error': u'CarQuery API access has been denied.'}}"
      ]
     },
     "execution_count": 89,
     "metadata": {},
     "output_type": "execute_result"
    }
   ],
   "source": [
    "cars"
   ]
  },
  {
   "cell_type": "code",
   "execution_count": 78,
   "metadata": {
    "collapsed": false
   },
   "outputs": [
    {
     "data": {
      "text/plain": [
       "<matplotlib.text.Text at 0xad642b0>"
      ]
     },
     "execution_count": 78,
     "metadata": {},
     "output_type": "execute_result"
    },
    {
     "data": {
      "image/png": "[encoded data removed]",
      "text/plain": [
       "<matplotlib.figure.Figure at 0xad3a630>"
      ]
     },
     "metadata": {},
     "output_type": "display_data"
    }
   ],
   "source": [
    "%matplotlib inline\n",
    "import matplotlib.pyplot as plt\n",
    "import seaborn as sns\n",
    "\n",
    "sns.barplot(nb_brand_per_country.keys(), nb_brand_per_country.values()).set_ylabel(\"Number of cars models since 1940\")"
   ]
  },
  {
   "cell_type": "code",
   "execution_count": null,
   "metadata": {
    "collapsed": true
   },
   "outputs": [],
   "source": []
  }
 ],
 "metadata": {
  "kernelspec": {
   "display_name": "Python 2",
   "language": "python",
   "name": "python2"
  },
  "language_info": {
   "codemirror_mode": {
    "name": "ipython",
    "version": 2
   },
   "file_extension": ".py",
   "mimetype": "text/x-python",
   "name": "python",
   "nbconvert_exporter": "python",
   "pygments_lexer": "ipython2",
   "version": "2.7.11"
  }
 },
 "nbformat": 4,
 "nbformat_minor": 0
}
