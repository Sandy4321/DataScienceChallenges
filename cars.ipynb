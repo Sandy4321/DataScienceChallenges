{
 "cells": [
  {
   "cell_type": "markdown",
   "metadata": {},
   "source": [
    "# Data Science Challenge 2\n",
    "\n",
    "Get the carmakers selling cars in France for each year using [this API](http://www.carqueryapi.com/api/0.3/?callback=?&cmd=getMakes&year=1941&sold_in_fr=1)"
   ]
  },
  {
   "cell_type": "code",
   "execution_count": 1,
   "metadata": {
    "collapsed": false
   },
   "outputs": [],
   "source": [
    "import urllib, json\n",
    "#new dict\n",
    "cars = {}\n",
    "\n",
    "for i in range(1940,2015):\n",
    "        year = i\n",
    "        url = \"http://www.carqueryapi.com/api/0.3/?callback=?&cmd=getMakes&year={}&sold_in_fr=1\".format(year)\n",
    "        response = urllib.urlopen(url)\n",
    "        data = [line[2:-2] for line in response.readlines() if line != '\\n']\n",
    "        cars[year] = json.loads(data[0])\n",
    "        "
   ]
  },
  {
   "cell_type": "code",
   "execution_count": 2,
   "metadata": {
    "collapsed": false
   },
   "outputs": [],
   "source": [
    "#save the file\n",
    "with open('cars_dict_v2.json', 'w') as f:\n",
    "        json.dump(cars, f)"
   ]
  },
  {
   "cell_type": "code",
   "execution_count": 3,
   "metadata": {
    "collapsed": false
   },
   "outputs": [],
   "source": [
    "country_brands = [(makers.get('make_country'), makers.get('make_display')) for makers in cars.items()[1][1].get('Makes')]\n"
   ]
  },
  {
   "cell_type": "code",
   "execution_count": 4,
   "metadata": {
    "collapsed": false
   },
   "outputs": [],
   "source": [
    "from collections import defaultdict\n",
    "nb_brand_per_country = defaultdict(int)\n",
    "for elmt in country_brands:\n",
    "    nb_brand_per_country[elmt[0]] += 1 \n"
   ]
  },
  {
   "cell_type": "code",
   "execution_count": 8,
   "metadata": {
    "collapsed": false
   },
   "outputs": [
    {
     "data": {
      "text/plain": [
       "<matplotlib.text.Text at 0xb854710>"
      ]
     },
     "execution_count": 8,
     "metadata": {},
     "output_type": "execute_result"
    },
    {
     "data": {
      "image/png": "[encoded data removed]",
      "text/plain": [
       "<matplotlib.figure.Figure at 0xa71d470>"
      ]
     },
     "metadata": {},
     "output_type": "display_data"
    }
   ],
   "source": [
    "%matplotlib inline\n",
    "import matplotlib.pyplot as plt\n",
    "import seaborn as sns\n",
    "\n",
    "sns.barplot(nb_brand_per_country.keys(), nb_brand_per_country.values()).set_ylabel(\"Number of cars Brands since 1940\")"
   ]
  },
  {
   "cell_type": "code",
   "execution_count": null,
   "metadata": {
    "collapsed": true
   },
   "outputs": [],
   "source": []
  }
 ],
 "metadata": {
  "kernelspec": {
   "display_name": "Python 2",
   "language": "python",
   "name": "python2"
  },
  "language_info": {
   "codemirror_mode": {
    "name": "ipython",
    "version": 2
   },
   "file_extension": ".py",
   "mimetype": "text/x-python",
   "name": "python",
   "nbconvert_exporter": "python",
   "pygments_lexer": "ipython2",
   "version": "2.7.11"
  }
 },
 "nbformat": 4,
 "nbformat_minor": 0
}
